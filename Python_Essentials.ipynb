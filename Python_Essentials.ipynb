{
 "cells": [
  {
   "cell_type": "markdown",
   "metadata": {},
   "source": [
    "![ine-divider](https://user-images.githubusercontent.com/7065401/92672068-398e8080-f2ee-11ea-82d6-ad53f7feb5c0.png)\n",
    "<hr>\n",
    "\n",
    "# Python Essentials\n",
    "\n",
    "![orange-divider](https://user-images.githubusercontent.com/7065401/92672455-187a5f80-f2ef-11ea-890c-40be9474f7b7.png)"
   ]
  },
  {
   "cell_type": "markdown",
   "metadata": {},
   "source": [
    "These lessons will be best to follow along, completing approximately the same steps as your instructor.  However, please vary what you enter, and play around with your own code."
   ]
  },
  {
   "cell_type": "markdown",
   "metadata": {},
   "source": [
    "## Calculation"
   ]
  },
  {
   "cell_type": "code",
   "execution_count": null,
   "metadata": {},
   "outputs": [],
   "source": [
    "# ... examples"
   ]
  },
  {
   "cell_type": "markdown",
   "metadata": {},
   "source": [
    "## Various kinds of Python objects"
   ]
  },
  {
   "cell_type": "code",
   "execution_count": null,
   "metadata": {},
   "outputs": [],
   "source": [
    "# ... examples"
   ]
  },
  {
   "cell_type": "markdown",
   "metadata": {},
   "source": [
    "## Conditional flow control"
   ]
  },
  {
   "cell_type": "code",
   "execution_count": null,
   "metadata": {},
   "outputs": [],
   "source": [
    "# ... examples"
   ]
  },
  {
   "cell_type": "markdown",
   "metadata": {},
   "source": [
    "## Kinds of loops (and leaving them)"
   ]
  },
  {
   "cell_type": "code",
   "execution_count": null,
   "metadata": {},
   "outputs": [],
   "source": [
    "# ... examples"
   ]
  },
  {
   "cell_type": "markdown",
   "metadata": {},
   "source": [
    "## Defining functions"
   ]
  },
  {
   "cell_type": "code",
   "execution_count": null,
   "metadata": {},
   "outputs": [],
   "source": [
    "# ... examples"
   ]
  },
  {
   "cell_type": "markdown",
   "metadata": {},
   "source": [
    "## Positional, keyword, and default arguments"
   ]
  },
  {
   "cell_type": "code",
   "execution_count": null,
   "metadata": {},
   "outputs": [],
   "source": [
    "# ... examples"
   ]
  },
  {
   "cell_type": "markdown",
   "metadata": {},
   "source": [
    "## Comments and docstrings"
   ]
  },
  {
   "cell_type": "code",
   "execution_count": null,
   "metadata": {},
   "outputs": [],
   "source": [
    "# ... examples"
   ]
  },
  {
   "cell_type": "markdown",
   "metadata": {},
   "source": [
    "## Collections and scalars"
   ]
  },
  {
   "cell_type": "code",
   "execution_count": null,
   "metadata": {},
   "outputs": [],
   "source": [
    "# ... examples"
   ]
  },
  {
   "cell_type": "markdown",
   "metadata": {},
   "source": [
    "## Data structures"
   ]
  },
  {
   "cell_type": "code",
   "execution_count": null,
   "metadata": {},
   "outputs": [],
   "source": [
    "# ... examples"
   ]
  },
  {
   "cell_type": "markdown",
   "metadata": {},
   "source": [
    "## Comprehensions"
   ]
  },
  {
   "cell_type": "code",
   "execution_count": null,
   "metadata": {},
   "outputs": [],
   "source": [
    "# ... examples"
   ]
  },
  {
   "cell_type": "markdown",
   "metadata": {},
   "source": [
    "## Importing modules and other names"
   ]
  },
  {
   "cell_type": "code",
   "execution_count": null,
   "metadata": {},
   "outputs": [],
   "source": [
    "# ... examples"
   ]
  },
  {
   "cell_type": "markdown",
   "metadata": {},
   "source": [
    "## Input and output (print and files)"
   ]
  },
  {
   "cell_type": "code",
   "execution_count": null,
   "metadata": {},
   "outputs": [],
   "source": [
    "# ... examples"
   ]
  },
  {
   "cell_type": "markdown",
   "metadata": {},
   "source": [
    "## String formatting"
   ]
  },
  {
   "cell_type": "code",
   "execution_count": null,
   "metadata": {},
   "outputs": [],
   "source": [
    "# ... examples"
   ]
  },
  {
   "cell_type": "markdown",
   "metadata": {},
   "source": [
    "## Exceptions"
   ]
  },
  {
   "cell_type": "code",
   "execution_count": null,
   "metadata": {},
   "outputs": [],
   "source": [
    "# ... examples"
   ]
  },
  {
   "cell_type": "markdown",
   "metadata": {},
   "source": [
    "## Classes"
   ]
  },
  {
   "cell_type": "code",
   "execution_count": null,
   "metadata": {},
   "outputs": [],
   "source": [
    "# ... examples"
   ]
  },
  {
   "cell_type": "markdown",
   "metadata": {},
   "source": [
    "## Iterators and generators"
   ]
  },
  {
   "cell_type": "code",
   "execution_count": null,
   "metadata": {},
   "outputs": [],
   "source": [
    "# ... examples"
   ]
  },
  {
   "cell_type": "markdown",
   "metadata": {},
   "source": [
    "## Inheritance"
   ]
  },
  {
   "cell_type": "code",
   "execution_count": null,
   "metadata": {},
   "outputs": [],
   "source": [
    "# ... examples"
   ]
  },
  {
   "cell_type": "markdown",
   "metadata": {},
   "source": [
    "## Scary stuff"
   ]
  },
  {
   "cell_type": "markdown",
   "metadata": {},
   "source": [
    "### context managers"
   ]
  },
  {
   "cell_type": "code",
   "execution_count": null,
   "metadata": {},
   "outputs": [],
   "source": [
    "# ... examples"
   ]
  },
  {
   "cell_type": "markdown",
   "metadata": {},
   "source": [
    "### decorators"
   ]
  },
  {
   "cell_type": "code",
   "execution_count": null,
   "metadata": {},
   "outputs": [],
   "source": [
    "# ... examples"
   ]
  },
  {
   "cell_type": "markdown",
   "metadata": {},
   "source": [
    "### async"
   ]
  },
  {
   "cell_type": "code",
   "execution_count": null,
   "metadata": {},
   "outputs": [],
   "source": [
    "# ... examples"
   ]
  },
  {
   "cell_type": "markdown",
   "metadata": {},
   "source": [
    "### metaclasses"
   ]
  },
  {
   "cell_type": "code",
   "execution_count": null,
   "metadata": {},
   "outputs": [],
   "source": [
    "# ... examples"
   ]
  },
  {
   "cell_type": "markdown",
   "metadata": {},
   "source": [
    "# Exercises\n",
    "\n",
    "![orange-divider](https://user-images.githubusercontent.com/7065401/92672455-187a5f80-f2ef-11ea-890c-40be9474f7b7.png)"
   ]
  },
  {
   "cell_type": "markdown",
   "metadata": {},
   "source": [
    "## Fun with Numbers\n",
    "\n",
    "Complete the code with the correct numeric value for each one of the variables. Look at the example for the variable `one`."
   ]
  },
  {
   "cell_type": "code",
   "execution_count": null,
   "metadata": {},
   "outputs": [],
   "source": [
    "# Integers\n",
    "one = 1\n",
    "five = ...\n",
    "a_hundred = ...\n",
    "\n",
    "# Floats\n",
    "one_tenth = 0.1\n",
    "one_half = ...\n",
    "pi = ...  # Hint: ratio of circumference to diameter of circle"
   ]
  },
  {
   "cell_type": "markdown",
   "metadata": {},
   "source": [
    "## Fun with Strings\n",
    "\n",
    "Please complete the code to include the two placeholder variables (`your_name` and `length_of_ine_url`).\n",
    "\n",
    "The variable `my_name` is simple, just put your name as a String. You can use single quotes (`'`) or double quotes (`\"`), it's your choice. In Python it's the same.\n",
    "\n",
    "The other variable is `length_of_ine_url`. It's a little bit more complicated. We want you to save in that variable a number that represents the length of the previously defined `ine_url` variable. "
   ]
  },
  {
   "cell_type": "code",
   "execution_count": null,
   "metadata": {},
   "outputs": [],
   "source": [
    "course = \"Bootcamp: Data Analysis, Visualization, and Predictive Modeling\"\n",
    "my_name = ...\n",
    "\n",
    "ine_url = \"https://ine.com/pages/data-science\"\n",
    "length_of_ine_url = ...  # Hint: use `len()` function"
   ]
  },
  {
   "cell_type": "markdown",
   "metadata": {},
   "source": [
    "## Concatenate Strings\n",
    "\n",
    "Strings support different operators, the most common one being the _plus sign_ (`+`). Complete the code in the editor to concatenate the strings given (`hello` and `world`) to form the final string `\"Hello World\"`.\n",
    "\n",
    "> Hint: Make sure you're including the space between the words."
   ]
  },
  {
   "cell_type": "code",
   "execution_count": null,
   "metadata": {},
   "outputs": [],
   "source": [
    "hello = \"Hello\"\n",
    "world = \"World\"\n",
    "\n",
    "# Final text should be:\n",
    "# \"Hello World\"\n",
    "text = ...\n",
    "print(text)  # Use the Run Code button to try it on your own"
   ]
  },
  {
   "cell_type": "markdown",
   "metadata": {},
   "source": [
    "## String Length\n",
    "\n",
    "Use the `len` function to check the length of the strings defined in the editor."
   ]
  },
  {
   "cell_type": "code",
   "execution_count": null,
   "metadata": {},
   "outputs": [],
   "source": [
    "language = \"Python\"\n",
    "name = \"Guido Van Rossum\"\n",
    "\n",
    "string_template = \"{name} is the creator of {language}\"\n",
    "text = string_template.format(name=name, language=language)\n",
    "\n",
    "length_of_language = len(language)\n",
    "length_of_name = ...\n",
    "length_of_text = ..."
   ]
  },
  {
   "cell_type": "markdown",
   "metadata": {},
   "source": [
    "## Doing math\n",
    "\n",
    "Complete the code for the math operations by writing the equation to the right of the variable (don't just put the result).\n",
    "\n",
    "Example:\n",
    "\n",
    "```python\n",
    "five_times_five = 5 * 5\n",
    "```"
   ]
  },
  {
   "cell_type": "code",
   "execution_count": null,
   "metadata": {},
   "outputs": [],
   "source": [
    "# Basic Math Operations\n",
    "one_plus_one = ...\n",
    "ten_minus_three = ...\n",
    "four_times_five = ...\n",
    "nine_divided_by_three = ...\n",
    "\n",
    "# Modulus (% operator) \n",
    "# This gets the remainder from a division problem\n",
    "five_mod_two = ...\n",
    "\n",
    "# Exponent (** operator)\n",
    "three_to_fifth_power = ..."
   ]
  },
  {
   "cell_type": "markdown",
   "metadata": {},
   "source": [
    "## Write an equation!\n",
    "\n",
    "Okay, now that you've proved you can do basic math operations, let's put you to the test.\n",
    "\n",
    "Write the equation to get the average of the numbers 3, 5, and 7. Remember, you'll have to add them all together first, and then divide them by how many numbers you're taking the average of (3 in this case).\n",
    "\n",
    "Hint: You'll need parenthesis around the addition part as order of operations in math is important in Python too! Let Python do the math for you!"
   ]
  },
  {
   "cell_type": "code",
   "execution_count": null,
   "metadata": {},
   "outputs": [],
   "source": [
    "# Write the equation to calculate this average in one line\n",
    "average_of_3_5_7 = ..."
   ]
  },
  {
   "cell_type": "markdown",
   "metadata": {},
   "source": [
    "## Overwriting variables\n",
    "\n",
    "An important part about storing information in variables is that you can change or overwrite what is stored if you choose to. In this assignment overwrite the data in the two variables provided.\n",
    "\n",
    "Note: When using the assignment operator `=`, the information to be stored is on the right side of the `=` and the variable it is stored in is on the left side.\n",
    "\n",
    "```python\n",
    "#      Left                             Right\n",
    "variable_to_store_data = \"data or calculation on this side\"\n",
    "```\n"
   ]
  },
  {
   "cell_type": "code",
   "execution_count": null,
   "metadata": {},
   "outputs": [],
   "source": [
    "old_variable = \"pants\"\n",
    "another_old_variable = 42\n",
    "\n",
    "# Overwrite \"old_variable\" and change it's value from \"pants\" to \"hats\"\n",
    "old_variable = ...\n",
    "\n",
    "# Overwrite \"another_old_variable\" to something different on the line below\n"
   ]
  },
  {
   "cell_type": "markdown",
   "metadata": {},
   "source": [
    "\n",
    "## Using the shorthand\n",
    "\n",
    "Experienced programmers tend to try and type as little as possible to accomplish their goals (so long as it is readable).\n",
    "\n",
    "As a result, it's important for you to be familiar with and use the shorthand for when you have a variable and you are performing a math operation on itself!\n",
    "\n",
    "```python\n",
    "var += 1 is shorthand for var = var + 1\n",
    "var -= 3 is shorthand for var = var - 3\n",
    "var *= 5 is shorthand for var = var * 5\n",
    "var /= 2 is shorthand for var = var / 2\n",
    "```\n",
    "\n",
    "Use this shorthand to follow the steps in the comments to perform the math operations on the variable 'change_me'."
   ]
  },
  {
   "cell_type": "code",
   "execution_count": null,
   "metadata": {},
   "outputs": [],
   "source": [
    "change_me = 2\n",
    "\n",
    "# Use the shorthand to multiply change_me by 3 and store the result in change_me\n",
    "\n",
    "\n",
    "# Now add 10 to change_me\n",
    "\n",
    "\n",
    "# Subtract 4 from change_me\n",
    "\n",
    "\n",
    "# Divide change_me by 2"
   ]
  },
  {
   "cell_type": "markdown",
   "metadata": {},
   "source": [
    "\n",
    "## Equals or not\n",
    "\n",
    "As you dive more into programming, you'll find that you start having dynamic variables where you don't necessarily know what they are at a given moment in your program. The equals/not equals operators help you determine if a variable is what it needs to be for something to happen.\n",
    "\n",
    "Reminder: If there is only one equals sign `=` as the operator, it's storing information in a variable. If there are two equals signs `==`, it is checking if the left side and right side match. If it is `!=`, it is checking if the left and right side do not match.\n",
    "\n",
    "When checking for equality, it will give you a boolean answer (True or False). Follow the comments to complete the code."
   ]
  },
  {
   "cell_type": "code",
   "execution_count": null,
   "metadata": {},
   "outputs": [],
   "source": [
    "weather = \"sunny\"\n",
    "count = 4\n",
    "\n",
    "# Replace the ... with the equality operator to check if weather is equal to \"sunny\"\n",
    "is_it_sunny = ...\n",
    "\n",
    "# Finish the code to check if the variable count equals 5\n",
    "is_count_5 = ...\n",
    "\n",
    "# Use not equals operator to check if weather is not equal to \"rainy\"\n",
    "is_it_not_rainy = ...\n"
   ]
  },
  {
   "cell_type": "markdown",
   "metadata": {},
   "source": [
    "\n",
    "## Greater or less than\n",
    "\n",
    "Just like the equals/not equals operators, when comparing numbers you can check if they are greater or less than each other.\n",
    "\n",
    "Your toolkit: `<, >, <=, >=`\n",
    " \n",
    "Note that the for `<=` and `>=` the equal sign comes AFTER the `<` or `>`, kind of similar to the shorthand in the previous assignment.\n",
    "\n",
    "Complete the code for some practice.\n"
   ]
  },
  {
   "cell_type": "code",
   "execution_count": null,
   "metadata": {},
   "outputs": [],
   "source": [
    "num1 = 12\n",
    "\n",
    "# Replace the ... with the equality operator to check if num1 is greater than 15\"\n",
    "greater_than_15 = ...\n",
    "\n",
    "# Finish the code to check if num1 is less than or equal to 12\n",
    "less_or_equal_to_12 = ..."
   ]
  },
  {
   "cell_type": "markdown",
   "metadata": {},
   "source": [
    "\n",
    "## Is or isn't\n",
    "\n",
    "Much like the equals/not equals operator, there is the `is` and `is not` operator.\n",
    "\n",
    "For now, use the `is` keyword instead of `==` and `is not` instead of `!=` when checking equality of booleans and the None datatype as a more semantic way of checking equality. For numbers and strings, it's still best to use `==` and `!=`.\n",
    "\n",
    "Practice time!"
   ]
  },
  {
   "cell_type": "code",
   "execution_count": null,
   "metadata": {},
   "outputs": [],
   "source": [
    "none_var = None\n",
    "fav_color = \"red\"\n",
    "\n",
    "# Replace the ... with the \"is\" keyword to check if none_var is None\n",
    "is_none_var_none = ...\n",
    "\n",
    "# Finish the code to check if fav_color is not equal to \"green\"\n",
    "is_fav_color_green = ..."
   ]
  },
  {
   "cell_type": "markdown",
   "metadata": {},
   "source": [
    "\n",
    "## In or out\n",
    "\n",
    "The `in` keyword is used to determine if something is part of something else.\n",
    "\n",
    "For now, we can use it to check if a letter or string is part of another string.\n",
    "\n",
    "```python\n",
    "print('c' in 'cat') # True\n",
    "print('z' in 'dog') # False\n",
    "print('ham' in 'hamster') # True\n",
    "```\n",
    "\n",
    "Use the `in` keyword to complete the following statements."
   ]
  },
  {
   "cell_type": "code",
   "execution_count": null,
   "metadata": {},
   "outputs": [],
   "source": [
    "# Complete the following operations\n",
    "pro_in_programming = ...\n",
    "\n",
    "w_in_bridge = ..."
   ]
  },
  {
   "cell_type": "markdown",
   "metadata": {},
   "source": [
    "\n",
    "## Valid Passwords\n",
    "\n",
    "For each one of the passwords provided, complete the missing variables (`...`) providing the correct operators."
   ]
  },
  {
   "cell_type": "code",
   "execution_count": null,
   "metadata": {},
   "outputs": [],
   "source": [
    "# #### Don't change these passwords #### #\n",
    "password_1 = 'Jhx85a'\n",
    "password_2 = 'ajd2819adkBjld'\n",
    "password_3 = '81$br&j#'\n",
    "password_4 = 'kp03%$Ji19Br!rdV'\n",
    "# #### Don't change these passwords #### #\n",
    "\n",
    "# == Your Code Below == ##\n",
    "\n",
    "## Is Long Enough\n",
    "# Has at least 12 chars\n",
    "is_long_enough_pwd_1 = len(password_1) >= 12  # False\n",
    "is_long_enough_pwd_2 = ...\n",
    "is_long_enough_pwd_3 = ...\n",
    "is_long_enough_pwd_4 = ...\n",
    "\n",
    "## Has at least one of the following numbers: 0, 1, 2, 3\n",
    "has_one_number_pwd_1 = ...\n",
    "has_one_number_pwd_2 = ...\n",
    "has_one_number_pwd_3 = ...\n",
    "has_one_number_pwd_4 = ...\n",
    "\n",
    "## Has at least one of these characters, v, V, r, R, b, B.\n",
    "has_required_character_pwd_1 = ...\n",
    "has_required_character_pwd_2 = ...\n",
    "has_required_character_pwd_3 = ...\n",
    "has_required_character_pwd_4 = ...\n",
    "\n",
    "## Has at least one symbol: $%#&\n",
    "at_least_one_symbol_pwd_1 = ...\n",
    "at_least_one_symbol_pwd_2 = ...\n",
    "at_least_one_symbol_pwd_3 = ...\n",
    "at_least_one_symbol_pwd_4 = ...\n"
   ]
  },
  {
   "cell_type": "markdown",
   "metadata": {},
   "source": [
    "\n",
    "## Inverting Booleans\n",
    "\n",
    "There are a lot of different ways of writing the same code to accomplish something.\n",
    "\n",
    "To demonstrate this, let's take a look at booleans.\n",
    "\n",
    "You can either check that something is `False` or, if you are sure that it is a boolean, you can check if it is `not True`. Same thing, right...\n",
    "\n",
    "```python\n",
    "variable = False\n",
    "\n",
    "# Two ways of doing the same thing\n",
    "print(variable is False) # True\n",
    "print(not variable) # True\n",
    "# Note that the second way uses less code so it is preferred\n",
    "\n",
    "# Inverting a boolean\n",
    "true_variable = True\n",
    "variable = not true_variable \n",
    "print(variable) # False\n",
    "```\n",
    "\n",
    "Use the not operator to check for the opposite of something in the following code!"
   ]
  },
  {
   "cell_type": "code",
   "execution_count": null,
   "metadata": {},
   "outputs": [],
   "source": [
    "burger = False\n",
    "\n",
    "# Flip this burger using not\n",
    "burger_flipped = ...\n",
    "\n",
    "\n",
    "number = 5\n",
    "\n",
    "# Create an inequality checking if number is greater than 3, then invert the result (all on one line)!\n",
    "result = ..."
   ]
  },
  {
   "cell_type": "markdown",
   "metadata": {},
   "source": [
    "\n",
    "## And now this\n",
    "\n",
    "The `and` operator checks that the boolean conditions on both sides of it are True. You can combine multiple and statements together if you need more than two conditions to be checked.\n",
    "\n",
    "```python\n",
    "true_condition = True\n",
    "false_condition = False\n",
    "santiagos_birthday = False\n",
    "\n",
    "result1 = true_condition and false_condition # False, because both sides aren't True\n",
    "# Two `and` keywords to check three conditions\n",
    "result2 = true_condition and not false_condition and not santiagos_birthday # True\n",
    "```\n",
    "\n",
    "Complete the code to practice with some `and` statements."
   ]
  },
  {
   "cell_type": "code",
   "execution_count": null,
   "metadata": {},
   "outputs": [],
   "source": [
    "you_shall_pass = not True\n",
    "the_time_is_now = \"a\" in \"apple\"\n",
    "false_variable = False\n",
    "\n",
    "# Use `and` to check if you_shall_pass and the_time_is_now both evaluate to true\n",
    "result1 = ...\n",
    "\n",
    "# Now use two `and`s to combine all three variables at the top, and use your knowledge of `not` to make this and statement result be True\n",
    "result2 = ..."
   ]
  },
  {
   "cell_type": "markdown",
   "metadata": {},
   "source": [
    "\n",
    "## Or this\n",
    "\n",
    "`or` statements are like and statements but only one condition needs to be true instead of all of them.\n",
    "\n",
    "```python\n",
    "true_condition = True\n",
    "false_condition = False\n",
    "santiagos_birthday = False\n",
    "\n",
    "result1 = santiagos_birthday or false_condition # False, because both sides are False\n",
    "# Two `or` keywords to check three conditions\n",
    "result2 = false_condition or true_condition or santiagos_birthday # True\n",
    "```\n",
    "\n",
    "Complete the code to practice with `or` statements."
   ]
  },
  {
   "cell_type": "code",
   "execution_count": null,
   "metadata": {},
   "outputs": [],
   "source": [
    "var1 = True and False\n",
    "var2 = None is None\n",
    "var3 = not True\n",
    "\n",
    "# Use `or` to check if var1 or var3 evaluate to True\n",
    "result1 = ...\n",
    "\n",
    "# Now use two `or`s to combine all three variables and use `not`s to make the result evaluate to False\n",
    "result2 = ...\n"
   ]
  },
  {
   "cell_type": "markdown",
   "metadata": {},
   "source": [
    "\n",
    "## Smooth Operator\n",
    "\n",
    "Time to put your operator knowledge to the test!\n",
    "\n",
    "Follow the comments and see if you can get it right."
   ]
  },
  {
   "cell_type": "code",
   "execution_count": null,
   "metadata": {},
   "outputs": [],
   "source": [
    "fav_number = 4815162342 \n",
    "i_love_operators = True\n",
    "my_spoon = \"is too big\"\n",
    "\n",
    "# Use the shorthand to multiply fav_number by 2 and save the result back in fav_number\n",
    "\n",
    "\n",
    "# Use inequality operators to check if fav_number is less than or equal to 7\n",
    "# Store the result in var1\n",
    "var1 = ...\n",
    "\n",
    "# Use the in keyword to check if the letter n is in my_spoon\n",
    "# Store the result in var2\n",
    "var2 = ...\n",
    "\n",
    "# Make a big operator expression that checks if var1 is True or if both\n",
    "# i_love_operators and the opposite of var2 are True \n",
    "# Store the result in complicated. Don't forget to use parenthesis\n",
    "complicated = ..."
   ]
  },
  {
   "cell_type": "markdown",
   "metadata": {},
   "source": [
    "\n",
    "## Your first function\n",
    "\n",
    "Let's start writing a **really** simple (close to dumb) function. We want you to completely understand the syntax and wrap your mind around them.\n",
    "\n",
    "At the editor at the right you'll see a simple function defined. That's a valid python function. Now replace the empty string with your name (we'll learn more about strings later). For me, the function looks something like this:\n",
    "\n",
    "```python\n",
    "def return_your_name():\n",
    "    return 'Santiago'\n",
    "```\n",
    "\n",
    "#### Try the function\n",
    "\n",
    "Now try uncommenting the lines at the bottom and executing the code to see how it works.\n",
    "\n",
    "You should see your name printed out in the screen. Both examples (1 and 2) **are identical**. They're doing the same thing. The only difference is that the first one is just storing the value returned by the `return_your_name` function in an intermediate variable.\n"
   ]
  },
  {
   "cell_type": "code",
   "execution_count": null,
   "metadata": {},
   "outputs": [],
   "source": [
    "def return_your_name():\n",
    "    return ''\n",
    "\n",
    "# 1. Assign the returned value to a variable\n",
    "# your_name = return_your_name()\n",
    "# print(your_name)\n",
    "\n",
    "# 2. Print the value directly\n",
    "# print(return_your_name())\n"
   ]
  },
  {
   "cell_type": "markdown",
   "metadata": {},
   "source": [
    "\n",
    "## Sum of two numbers\n",
    "\n",
    "Write a function that receives two numbers and returns their sum. Example:\n",
    "\n",
    "```python\n",
    "sum_of_two_numbers(2, 3) == 5\n",
    "sum_of_two_numbers(7, 1) == 8\n",
    "```\n"
   ]
  },
  {
   "cell_type": "code",
   "execution_count": null,
   "metadata": {},
   "outputs": [],
   "source": [
    "def sum_of_two_numbers(a, b):\n",
    "    pass\n"
   ]
  },
  {
   "cell_type": "markdown",
   "metadata": {},
   "source": [
    "\n",
    "## Return None object\n",
    "\n",
    "Write a function that returns None\n",
    "\n",
    "```python\n",
    "return_none() == None\n",
    "```"
   ]
  },
  {
   "cell_type": "code",
   "execution_count": null,
   "metadata": {},
   "outputs": [],
   "source": [
    "def return_none():\n",
    "    # your code here\n",
    "    pass"
   ]
  },
  {
   "cell_type": "markdown",
   "metadata": {},
   "source": [
    "\n",
    "## Invoking Functions\n",
    "\n",
    "The first step to understand functions from a practical standpoint is using them. The fancy tech name we give to the action of \"using\" a function is \"invoke a function\". Python has many functions that we can just use out of the box. For example, `print` is a function that lets you send characters to the console. Let's see a few different examples of invoking the `print` function:\n",
    "\n",
    "```python\n",
    "print(\"Hello World\")\n",
    "print(42)\n",
    "\n",
    "my_name = \"Santiago\"\n",
    "print(my_name)\n",
    "\n",
    "print(\"Santiago\")\n",
    "```\n",
    "\n",
    "In this case, the function name is `print`. The only parameter that it receives is \"something to print\". So we invoke `print` passing as an argument that thing that we want to print in the screen.\n",
    "\n",
    "Check the examples in the editor and complete the assignment: use the `len` and `sum` function to calculate `length_of_hello_world` and `sum_of_first_10_numbers`.\n"
   ]
  },
  {
   "cell_type": "code",
   "execution_count": null,
   "metadata": {},
   "outputs": [],
   "source": [
    "print(\"Hello World\")\n",
    "\n",
    "# The `len` function\n",
    "print(\"Length of the string RMOTR:\")\n",
    "length_of_rmotr = len('RMOTR')\n",
    "print(length_of_rmotr)\n",
    "\n",
    "# The `sum` function\n",
    "print(\"Sum of the first 5 numbers\")\n",
    "sum_of_first_5 = sum([1, 2, 3, 4, 5])\n",
    "print(sum_of_first_5)\n",
    "\n",
    "# Your assignments:\n",
    "# Use the `len` function to replace -1 with the length of the string \"Hello World\"\n",
    "length_of_hello_world = -1\n",
    "\n",
    "# Use the `sum` function to replace -1 with the result of the sum of the first 10 numbers\n",
    "# First 10 numbers being: 1, 2, 3, 4, 5, 6, 7, 8, 9, 10 (not including 0)\n",
    "sum_of_first_10_numbers = -1\n"
   ]
  },
  {
   "cell_type": "markdown",
   "metadata": {},
   "source": [
    "\n",
    "## Function arguments\n",
    "\n",
    "We're going to explore how to receive parameters and operate with them in your functions. In the editor you'll see a simple function that accepts just one parameter (named `x` in this case). This function's job is to multiply `x` by 2 and return the result. For example, if we pass 3 as the parameter, we're going to receive `3 * 2` as the result:\n",
    "\n",
    "```python\n",
    "multiply_by_two(3)  # 6\n",
    "```\n",
    "\n",
    "Parameters are matched by position. In this case `multiply_by_two` receives only one parameter (`x`), so when we invoke it passing the number `3`, it gets assigned to `x`.\n",
    "\n",
    "Now go ahead and try implementing the `multiply_by_two` function by yourself.\n"
   ]
  },
  {
   "cell_type": "code",
   "execution_count": null,
   "metadata": {},
   "outputs": [],
   "source": [
    "def multiply_by_two(x):\n",
    "    pass\n",
    "\n",
    "two_times_two = multiply_by_two(2)\n",
    "three_times_two = multiply_by_two(3)\n",
    "five_times_two = multiply_by_two(5)\n",
    "\n",
    "print(\"2x2 = {}\".format(two_times_two))\n",
    "print(\"3x2 = {}\".format(three_times_two))\n",
    "print(\"5x2 = {}\".format(five_times_two))\n"
   ]
  },
  {
   "cell_type": "markdown",
   "metadata": {},
   "source": [
    "\n",
    "## Increment Parameter by one\n",
    "\n",
    "Write a function from scratch named `increment_parameter_by_one` that receives only one numeric parameter and returns that parameter incremented by one. You are in charge of writing the whole function body + definition.\n",
    "\n",
    "The function should be used in this way:\n",
    "\n",
    "```python\n",
    "two = increment_parameter_by_one(1)\n",
    "print(two)  # 2\n",
    "\n",
    "fifteen = increment_parameter_by_one(14)\n",
    "print(fifteen)  # 15\n",
    "\n",
    "print(increment_parameter_by_one(22))  # 23\n",
    "```\n"
   ]
  },
  {
   "cell_type": "code",
   "execution_count": null,
   "metadata": {},
   "outputs": [],
   "source": [
    "# Your code here:\n"
   ]
  },
  {
   "cell_type": "markdown",
   "metadata": {},
   "source": [
    "\n",
    "## Increment Parameter by Parameter\n",
    "\n",
    "Modify your previous function so now it accepts two parameters... the number to increment (in the first position) and the value that will be used to increment that number (second position).\n",
    "\n",
    "You have to write the function from scratch and name it `increment_by`.\n",
    "\n",
    "Examples:\n",
    "\n",
    "```python\n",
    "increment_by(1, 4)  # 5\n",
    "increment_by(2, 8)  # 10\n",
    "```\n"
   ]
  },
  {
   "cell_type": "code",
   "execution_count": null,
   "metadata": {},
   "outputs": [],
   "source": [
    "# your code goes here\n"
   ]
  },
  {
   "cell_type": "markdown",
   "metadata": {},
   "source": [
    "\n",
    "## First IF Statement\n",
    "\n",
    "Change the code between brackets (`[]`) to make the variable `message` equals to `\"Hello World\"`."
   ]
  },
  {
   "cell_type": "code",
   "execution_count": null,
   "metadata": {},
   "outputs": [],
   "source": [
    "message = None\n",
    "\n",
    "# Remove square brackets and write condition to make if statement code run\n",
    "if ...: \n",
    "    message = \"Hello World\"\n",
    "\n",
    "print(message)\n"
   ]
  },
  {
   "cell_type": "markdown",
   "metadata": {},
   "source": [
    "\n",
    "## The equals operator\n",
    "\n",
    "Complete the code in the editor to make `message_1` equal to `\"Hello World\"` and `message_2` equal to `\"This is INE\"`.\n"
   ]
  },
  {
   "cell_type": "code",
   "execution_count": null,
   "metadata": {},
   "outputs": [],
   "source": [
    "x = 10\n",
    "\n",
    "# Remove square brackets and complete if statement conditions to make code run\n",
    "if x == [...]:\n",
    "    message_1 = \"Hello World\"\n",
    "\n",
    "if x != [...]:\n",
    "    message_2 = \"This is INE\"\n",
    "\n",
    "#print(message_1)\n",
    "#print(message_2)"
   ]
  },
  {
   "cell_type": "markdown",
   "metadata": {},
   "source": [
    "\n",
    "## Greater and less than\n",
    "\n",
    "Modify the code in the editor to make `message_1` equals to `\"Python is Awesome\"` and `message_2` equals to `\"Python is Great\"`.\n"
   ]
  },
  {
   "cell_type": "code",
   "execution_count": null,
   "metadata": {},
   "outputs": [],
   "source": [
    "x = 0  # ...adjust\n",
    "\n",
    "if x > 10:\n",
    "    message_1 = \"Python is Awesome\"\n",
    "\n",
    "if x < 20:\n",
    "    message_2 = \"Python is Great\"\n",
    "\n",
    "#print(message_1)\n",
    "#print(message_2)"
   ]
  },
  {
   "cell_type": "markdown",
   "metadata": {},
   "source": [
    "\n",
    "## Check Divisibility\n",
    "\n",
    "Complete the code on the editor to answer to the questions if 583 is divisible by 11 and 911 is divisible by 11.\n",
    "\n",
    "> Hint: Check the \"modulo\" operator\n"
   ]
  },
  {
   "cell_type": "code",
   "execution_count": null,
   "metadata": {},
   "outputs": [],
   "source": [
    "divisible_by_11 = 11\n",
    "\n",
    "is_583_divisible_by_11 = None\n",
    "is_911_divisible_by_11 = None\n",
    "\n",
    "number_583 = 583\n",
    "\n",
    "if ...:\n",
    "    is_583_divisible_by_11 = True\n",
    "else:\n",
    "    is_583_divisible_by_11 = False\n",
    "\n",
    "\n",
    "is_911_divisible_by_11 = None\n",
    "number_911 = 911\n",
    "\n",
    "if ...:\n",
    "    is_911_divisible_by_11 = True\n",
    "else:\n",
    "    is_911_divisible_by_11 = False\n"
   ]
  },
  {
   "cell_type": "markdown",
   "metadata": {},
   "source": [
    "\n",
    "## Conditional multiplication\n",
    "\n",
    "Define a function `conditional_multiplication` that receives a boolean and a number and returns a number. If the boolean is True the number returned is multiplied by 10. In other case, it returns it unchanged.\n",
    "\n",
    "Examples:\n",
    "\n",
    "```python\n",
    "# Boolean is True, multiply it by 10\n",
    ">>> conditional_multiplication(True, 2)\n",
    "20\n",
    "\n",
    "# Boolean is False, return it as it is\n",
    ">>> conditional_multiplication(False, 5)\n",
    "5\n",
    "```"
   ]
  },
  {
   "cell_type": "code",
   "execution_count": null,
   "metadata": {},
   "outputs": [],
   "source": [
    "def conditional_multiplication(a_condition, number):\n",
    "    pass\n"
   ]
  },
  {
   "cell_type": "markdown",
   "metadata": {},
   "source": [
    "\n",
    "## Change number to odd\n",
    "\n",
    "Define a function `make_number_odd` that receives a number, adds 1 to that number if it is even, and returns the number.\n",
    "\n",
    "If the original number passed is odd, just return it.\n",
    "\n",
    "> Hint: Use the % operator to determine if even or odd\n",
    "\n",
    "Examples:\n",
    "\n",
    "```python\n",
    ">>> make_number_odd(2)\n",
    "3\n",
    ">>> make_number_odd(5)\n",
    "5\n",
    "```"
   ]
  },
  {
   "cell_type": "code",
   "execution_count": null,
   "metadata": {},
   "outputs": [],
   "source": [
    "def make_number_odd(number):\n",
    "    pass\n"
   ]
  },
  {
   "cell_type": "markdown",
   "metadata": {},
   "source": [
    "\n",
    "## Greater than 20\n",
    "\n",
    "Define a function `greater_than_20` that receives a number and if it is greater than 20 returns `True` and if not returns `False`.\n",
    "\n",
    "Examples:\n",
    "\n",
    "```python\n",
    ">>> greater_than_20(42)\n",
    "True\n",
    ">>> greater_than_20(19)\n",
    "False\n",
    "```"
   ]
  },
  {
   "cell_type": "code",
   "execution_count": null,
   "metadata": {},
   "outputs": [],
   "source": [
    "def greater_than_20(number):\n",
    "    pass\n"
   ]
  },
  {
   "cell_type": "markdown",
   "metadata": {},
   "source": [
    "\n",
    "## Return whether an input number is even or odd\n",
    "\n",
    "Write a function that will take in a number, and return whether it's even or odd.\n",
    "\n",
    "Hint: You'll need to use the % (modulus) operator to get the remainder when dividing by 2 to determine if the number is even or odd.\n",
    "\n",
    "```python\n",
    "even_or_odd(57) == 'odd'\n",
    "even_or_odd(2422) == 'even'\n",
    "```"
   ]
  },
  {
   "cell_type": "code",
   "execution_count": null,
   "metadata": {},
   "outputs": [],
   "source": [
    "def even_or_odd(a_number):\n",
    "    pass\n"
   ]
  },
  {
   "cell_type": "markdown",
   "metadata": {},
   "source": [
    "\n",
    "## Traffic light\n",
    "\n",
    "Define a function `traffic_light` that receives a color and returns:\n",
    "\n",
    "- 'stop' if the color is `red`\n",
    "- 'slow down' if the color is `yellow`\n",
    "- 'go' if the color is `green`\n",
    "\n",
    "Examples:\n",
    "\n",
    "```python\n",
    ">>> traffic_light('red')\n",
    "'stop'\n",
    ">>> traffic_light('yellow')\n",
    "'slow down'\n",
    ">>> traffic_light('green')\n",
    "'go'\n",
    "```"
   ]
  },
  {
   "cell_type": "code",
   "execution_count": null,
   "metadata": {},
   "outputs": [],
   "source": [
    "def traffic_light(color):\n",
    "    pass\n"
   ]
  },
  {
   "cell_type": "markdown",
   "metadata": {},
   "source": [
    "\n",
    "## Color mixer\n",
    "\n",
    "Define a function `color_mixer` that receives two colors `color1` and `color2` and returns the color resulting from mixing them in EITHER ORDER. The colors received are either `red`, `blue`, or `yellow` and you should return:\n",
    "\n",
    "- `Magenta` if the colors mixed are `red` and `blue`\n",
    "- `Green` if the colors mixed are `blue` and `yellow`\n",
    "- `Orange` if the colors mixed are `yellow` and `red`\n",
    "\n",
    "Examples:\n",
    "\n",
    "```python\n",
    ">>> color_mixer('red', 'blue')\n",
    "'Magenta'\n",
    ">>> color_mixer('blue', 'red')\n",
    "'Magenta'\n",
    ">>> color_mixer('blue', 'yellow')\n",
    "'Green'\n",
    ">>> color_mixer('yellow', 'red')\n",
    "'Orange'\n",
    "```\n"
   ]
  },
  {
   "cell_type": "code",
   "execution_count": null,
   "metadata": {},
   "outputs": [],
   "source": [
    "def color_mixer(color1, color2):\n",
    "    pass"
   ]
  },
  {
   "cell_type": "markdown",
   "metadata": {},
   "source": [
    "\n",
    "## Get grade letter\n",
    "\n",
    "Define a function `get_grade_letter` that receives a score and you should return:\n",
    "\n",
    "- 'A' if the score is 90 or above\n",
    "- 'B' if the score is 80 to 89\n",
    "- 'C' if the score is 70 to 79\n",
    "- 'D' if the score is 60 to 69\n",
    "- 'F' if the score is less than 60\n",
    "\n",
    "Examples:\n",
    "\n",
    "```python\n",
    ">>> get_grade_letter(93)\n",
    "'A'\n",
    ">>> get_grade_letter(80)\n",
    "'B'\n",
    ">>> get_grade_letter(75)\n",
    "'C'\n",
    ">>> get_grade_letter(67)\n",
    "'D'\n",
    ">>> get_grade_letter(42)\n",
    "'F'\n",
    "```"
   ]
  },
  {
   "cell_type": "code",
   "execution_count": null,
   "metadata": {},
   "outputs": [],
   "source": [
    "def get_grade_letter(score):\n",
    "    pass\n"
   ]
  },
  {
   "cell_type": "markdown",
   "metadata": {},
   "source": [
    "\n",
    "## Fix this code: legal age\n",
    "\n",
    "This is an example of poorly written code. The code **works fine**, but it's very ugly. Your job is to refactor it contains the minimum amount of lines (and if statements), while still being readable.\n",
    "\n",
    "> Hint: check out the `elif` statement, it might be useful 😉.\n"
   ]
  },
  {
   "cell_type": "code",
   "execution_count": null,
   "metadata": {},
   "outputs": [],
   "source": [
    "def legal_age(age):\n",
    "    if age > 21:\n",
    "        return \"You can do anything\"\n",
    "    else:\n",
    "        if age == 21:\n",
    "            return \"You can do anything\"\n",
    "        else:\n",
    "            if age > 18:\n",
    "                return \"You can drive with parents' permission\"\n",
    "            else:\n",
    "                if age == 18:\n",
    "                    return \"You can drive with parents' permission\"\n",
    "                else:\n",
    "                    if age == 17:\n",
    "                        return \"You'll have to wait\"\n",
    "                    else:\n",
    "                        return \"You'll have to wait\"\n"
   ]
  },
  {
   "cell_type": "markdown",
   "metadata": {},
   "source": [
    "\n",
    "## Double Down\n",
    "\n",
    "Complete the function `double_down` so that it receives a number `num` and an integer `times_doubled` and returns `num` doubled `times_doubled` amount of times. Use a while loop to do this (and for everyone's sake, no infinite loops!).\n",
    "\n",
    "Examples:\n",
    "\n",
    "```python\n",
    ">>>  double_down(3, 3)\n",
    "24\n",
    "\n",
    ">>>  double_down(2, 0)\n",
    "2\n",
    "\n",
    ">>>  double_down(4, 1)\n",
    "8\n",
    "```"
   ]
  },
  {
   "cell_type": "code",
   "execution_count": null,
   "metadata": {},
   "outputs": [],
   "source": [
    "def double_down(num, times_doubled):\n",
    "    pass"
   ]
  },
  {
   "cell_type": "markdown",
   "metadata": {},
   "source": [
    "\n",
    "## The Power of While Loops\n",
    "\n",
    "Use a while loop to complete the function `feel_the_power` so that it takes the `initial_number` and multiplies it by itself power number of times.\n",
    "\n",
    "Examples:\n",
    "\n",
    "```python\n",
    ">>> feel_the_power(3, 0)\n",
    "1\n",
    "\n",
    ">>> feel_the_power(3, 1)\n",
    "3\n",
    "\n",
    ">>> feel_the_power(3, 2)\n",
    "9\n",
    "\n",
    ">>> feel_the_power(3, 3)\n",
    "27\n",
    "```\n",
    "\n",
    "> Hint: You'll need additional variables to keep track of both the result and how many times you've multiplied it by itself.\n",
    "\n",
    "> Hint 2: Remember, with multiplication, you start your result at 1 instead of 0 because if you multiply by 0 you get 0.\n",
    "\n",
    "> Hint 3: NO INFINITE LOOPS!\n"
   ]
  },
  {
   "cell_type": "code",
   "execution_count": null,
   "metadata": {},
   "outputs": [],
   "source": [
    "def feel_the_power(initial_number, power):\n",
    "    pass"
   ]
  },
  {
   "cell_type": "markdown",
   "metadata": {},
   "source": [
    "\n",
    "## Is Char in String\n",
    "\n",
    "Use a for loops to complete the function `char_in_string` to check if `char_to_look_for` is in `a_string`.\n",
    "\n",
    "Do NOT use the `in` keyword to determine if it is in there.\n",
    "\n",
    "Return True if it is there and False if it is not.\n",
    "\n",
    "Examples:\n",
    "\n",
    "```python\n",
    ">>>  char_in_string(\"abcdef\", \"X\")\n",
    "False\n",
    "\n",
    ">>>  char_in_string(\"abcXdef\", \"X\")\n",
    "True\n",
    "```\n",
    "\n",
    "> Note: If you find the character, you can leave the loop early by using a break or a return statement.\n"
   ]
  },
  {
   "cell_type": "code",
   "execution_count": null,
   "metadata": {},
   "outputs": [],
   "source": [
    "def char_in_string(a_string, char_to_look_for):\n",
    "    pass"
   ]
  },
  {
   "cell_type": "markdown",
   "metadata": {},
   "source": [
    "\n",
    "## Convert Pirate to Dog\n",
    "\n",
    "Today we're going to write a function to convert what a pirate would say into the way a dog would say it. Roo roo roo roo!\n",
    "\n",
    "Complete the function `convert_pirate_to_dog` with a for loop so that it goes through each letter of `pirate_saying` and then adds 'oo' after each letter.\n",
    "\n",
    "Remember that strings are immutable, so you will have to create a new string for the result of how a dog would sound.\n",
    "\n",
    "Examples:\n",
    "\n",
    "```python\n",
    ">>>  convert_pirate_to_dog(\"arrrr\")\n",
    "'aoorooroorooroo'\n",
    "```\n",
    "\n",
    "> Hint: To add letters to the result string, use the += operator.\n"
   ]
  },
  {
   "cell_type": "code",
   "execution_count": null,
   "metadata": {},
   "outputs": [],
   "source": [
    "def convert_pirate_to_dog(pirate_saying):\n",
    "    pass\n"
   ]
  },
  {
   "cell_type": "markdown",
   "metadata": {},
   "source": [
    "\n",
    "## Create List with Three Elements\n",
    "\n",
    "What... You want more practice with lists...! Geez, you must really like them. Fine.\n",
    "\n",
    "This time, we're going to expand on the previous assignment.\n",
    "\n",
    "What's better than a list with one element... A list with three elements. Great!\n",
    "\n",
    "Use the three word variables `word1`, `word2` and `word3` to create a list pizza_time that contains those three words.\n"
   ]
  },
  {
   "cell_type": "code",
   "execution_count": null,
   "metadata": {},
   "outputs": [],
   "source": [
    "\n",
    "# Enter 3 words to describe pizza\n",
    "word1 = ...\n",
    "word2 = ...\n",
    "word3 = ...\n",
    "\n",
    "# Now make a list containing each of these words and store in a variable called `pizza_time`.\n"
   ]
  },
  {
   "cell_type": "markdown",
   "metadata": {},
   "source": [
    "\n",
    "## Is even and contains red\n",
    "\n",
    "Write a function `is_even_and_contains_red` that receives a list (containing colors) and returns True if the list contains the color `\"red\"` **AND** has an even number of elements. False, otherwise.\n",
    "\n",
    "Check the examples:\n",
    "\n",
    "```python\n",
    "# 4 elements (even) with red:\n",
    "is_even_and_contains_red(['red', 'blue', 'green', 'white'])  # True\n",
    "\n",
    "# 3 elements (odd!) with red:\n",
    "is_even_and_contains_red(['red', 'blue', 'green'])  # False\n",
    "\n",
    "# 2 elements (even!) **WITHOUT** red:\n",
    "is_even_and_contains_red(['white', 'blue', 'green', 'black'])  # False\n",
    "\n",
    "# 3 elements (odd!) **WITHOUT** red:\n",
    "is_even_and_contains_red(['white', 'blue', 'green'])  # False\n",
    "```\n"
   ]
  },
  {
   "cell_type": "code",
   "execution_count": null,
   "metadata": {},
   "outputs": [],
   "source": [
    "def is_even_and_contains_red(a_list):\n",
    "    pass\n"
   ]
  }
 ],
 "metadata": {
  "kernelspec": {
   "display_name": "Python 3",
   "language": "python",
   "name": "python3"
  },
  "language_info": {
   "codemirror_mode": {
    "name": "ipython",
    "version": 3
   },
   "file_extension": ".py",
   "mimetype": "text/x-python",
   "name": "python",
   "nbconvert_exporter": "python",
   "pygments_lexer": "ipython3",
   "version": "3.9.1"
  }
 },
 "nbformat": 4,
 "nbformat_minor": 4
}
