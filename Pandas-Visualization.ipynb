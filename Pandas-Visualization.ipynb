{
 "cells": [
  {
   "cell_type": "markdown",
   "id": "another-consciousness",
   "metadata": {},
   "source": [
    "![ine-divider](https://user-images.githubusercontent.com/7065401/92672068-398e8080-f2ee-11ea-82d6-ad53f7feb5c0.png)\n",
    "<hr>\n",
    "\n",
    "# Visualization using Pandas\n",
    "<img src=\"https://user-images.githubusercontent.com/7065401/75165824-badf4680-5701-11ea-9c5b-5475b0a33abf.png\" style=\"width:200px; float: right; margin: 0 40px 40px 40px;\"/>\n",
    "\n",
    "The Pandas (Panel Data) Python library is a very powerful tool for data manipulation and analysis.  In this lesson, we look at some of the visualization capabilities built into the library.\n",
    "\n",
    "![orange-divider](https://user-images.githubusercontent.com/7065401/92672455-187a5f80-f2ef-11ea-890c-40be9474f7b7.png)"
   ]
  },
  {
   "cell_type": "markdown",
   "id": "marked-millennium",
   "metadata": {},
   "source": [
    "The visualizations in Pandas, like those we will see later with Seaborn, are based on the underlying library Matplotlib.  Whenever you issue a single `.plot()` method call in Pandas, \"under the hood\" Pandas is composing numerous Matplotlib calls to configure style, axes, colors, fonts, legends, tick marks, and other elements.  \n",
    "\n",
    "In concept, everything you visualize in Pandas could be replicated exactly with Matplotlib alone.  However, using the Pandas wrapper makes the work *a whole lot easier* and *usually* assures that results are \"reasonable looking\" (whereas, with low-level Matplotlib, you can make very beautiful things; but because you control everything, you can also make very bad choices)."
   ]
  },
  {
   "cell_type": "code",
   "execution_count": null,
   "id": "liked-jefferson",
   "metadata": {},
   "outputs": [],
   "source": [
    "import pandas as pd\n",
    "# Import Seaborn only to set style options throughout\n",
    "import seaborn as sns\n",
    "sns.set_style('whitegrid')\n",
    "# Configure ellipses in DataFrames\n",
    "pd.set_option('display.max_rows', 15)\n",
    "pd.set_option('display.max_columns', 8)\n",
    "# Make sure figures render inside notebook\n",
    "%matplotlib inline"
   ]
  },
  {
   "cell_type": "markdown",
   "id": "third-anthony",
   "metadata": {},
   "source": [
    "All Pandas DataFrame and Series objects have a `.plot()` method.  Many plot options are set by default. Some plot styles perform statistical operations.\n",
    "\n",
    "There are several plot types available using the `kind=` keyword argument.\n",
    "\n",
    "* `line` : line plot (default)\n",
    "* `bar` : vertical bar plot\n",
    "* `barh` : horizontal bar plot\n",
    "* `hist` : histogram\n",
    "* `box` : boxplot\n",
    "* `kde` : Kernel Density Estimation plot\n",
    "* `density` : same as 'kde'\n",
    "* `area` : area plot\n",
    "* `pie` : pie plot\n",
    "* `scatter` : scatter plot\n",
    "* `hexbin` : hexbin plot\n",
    "\n",
    "See the [Pandas documentation](http://pandas.pydata.org/pandas-docs/stable/visualization.html)."
   ]
  },
  {
   "cell_type": "markdown",
   "id": "previous-reducing",
   "metadata": {},
   "source": [
    "## Line Plots\n",
    "\n",
    "Let us read in a sample dataset about gender and university degrees in the United States."
   ]
  },
  {
   "cell_type": "code",
   "execution_count": null,
   "id": "induced-instrument",
   "metadata": {},
   "outputs": [],
   "source": [
    "degrees = pd.read_csv('data/percent-bachelors-degrees-women-usa.csv', index_col='Year')\n",
    "degrees"
   ]
  },
  {
   "cell_type": "markdown",
   "id": "coral-copyright",
   "metadata": {},
   "source": [
    "Let's try to visualize this completely naively."
   ]
  },
  {
   "cell_type": "code",
   "execution_count": null,
   "id": "eight-armstrong",
   "metadata": {},
   "outputs": [],
   "source": [
    "degrees.plot()"
   ]
  },
  {
   "cell_type": "markdown",
   "id": "funky-zimbabwe",
   "metadata": {},
   "source": [
    "It turns out it is not *impossible* to go wrong with Pandas defaults.  While the data is *accurate*, the arrangment of the plot is a mess.  We can fix three issues very easily:\n",
    "\n",
    "* The legend covers the plot\n",
    "* There are two many line trends to follow easily\n",
    "* The `AxesSubplot` object type echos needlessly"
   ]
  },
  {
   "cell_type": "code",
   "execution_count": null,
   "id": "prompt-soviet",
   "metadata": {},
   "outputs": [],
   "source": [
    "stem = ['Computer Science', 'Math and Statistics', 'Engineering', 'Physical Sciences', 'Biology']\n",
    "degrees[stem].plot(figsize=(12,5));"
   ]
  },
  {
   "cell_type": "markdown",
   "id": "civil-booking",
   "metadata": {},
   "source": [
    "## Timeseries\n",
    "\n",
    "Let us work with the fairly large NOAA dataset that was used in an exercise in an earlier lesson.  Recall that this data covers most of 2019, but only a subset of the tens of thousands of total stations.  Very roughly, those stations retrieved into this dataset are the northernmost ones, between 45°N and the north pole."
   ]
  },
  {
   "cell_type": "code",
   "execution_count": null,
   "id": "center-settle",
   "metadata": {},
   "outputs": [],
   "source": [
    "weather = pd.read_csv('data/NOAA-2019-partial.csv.gz', \n",
    "                      index_col='DATE', parse_dates=True)\n",
    "weather"
   ]
  },
  {
   "cell_type": "code",
   "execution_count": null,
   "id": "recreational-flashing",
   "metadata": {},
   "outputs": [],
   "source": [
    "print(f\"    Rows: {len(weather):,}\")\n",
    "print(f\"   Dates: {weather.index.min().date()} to {weather.index.max().date()}\")\n",
    "print(f\"Stations: {len(weather.STATION.unique())}\")"
   ]
  },
  {
   "cell_type": "markdown",
   "id": "thousand-louisville",
   "metadata": {},
   "source": [
    "For our purposes, let us select only the data from one station (we arbitrarily choose the first one by station ID)"
   ]
  },
  {
   "cell_type": "code",
   "execution_count": null,
   "id": "eleven-contract",
   "metadata": {},
   "outputs": [],
   "source": [
    "jan_mayen = weather.loc[weather.STATION == 1001099999, ['TEMP', 'PRCP', 'WDSP', 'NAME']]\n",
    "jan_mayen.head()"
   ]
  },
  {
   "cell_type": "markdown",
   "id": "successful-strength",
   "metadata": {},
   "source": [
    "Here again, the very simplest call to `.plot()` is imperfect, but easy to improve.  The main issue here is that the different trends are over quantities measured in very different units, and hence very different numeric quantities (℉ vs. inches vs. mph)."
   ]
  },
  {
   "cell_type": "code",
   "execution_count": null,
   "id": "structured-entry",
   "metadata": {},
   "outputs": [],
   "source": [
    "jan_mayen.plot();"
   ]
  },
  {
   "cell_type": "code",
   "execution_count": null,
   "id": "instrumental-progressive",
   "metadata": {},
   "outputs": [],
   "source": [
    "jan_mayen.plot(figsize=(12, 7), subplots=True,\n",
    "               title=\"Temperature, Precipitation, and Windspeed in Jan Mayen, NO\");"
   ]
  },
  {
   "cell_type": "markdown",
   "id": "through-hamburg",
   "metadata": {},
   "source": [
    "This version gives us a reasonble picture of how these quantities might be interrelated as a year progresses."
   ]
  },
  {
   "cell_type": "markdown",
   "id": "copyrighted-portsmouth",
   "metadata": {},
   "source": [
    "## Scatter"
   ]
  },
  {
   "cell_type": "markdown",
   "id": "comparable-circle",
   "metadata": {},
   "source": [
    "Pandas scatter plots let us compare the relationship among quantites. Let's slice a different portion of the weather station data to find something likely to be useful.  Temperature, elevation, latitude, precipitation, and wind speed are likely to have some notable correlations; we choose a single day to compare across stations."
   ]
  },
  {
   "cell_type": "code",
   "execution_count": null,
   "id": "usual-classification",
   "metadata": {},
   "outputs": [],
   "source": [
    "apr1 = weather.loc[weather.index == '2019-04-01', \n",
    "                   ['TEMP', 'ELEVATION', 'LATITUDE', 'PRCP', 'WDSP', 'STATION']]\n",
    "apr1.set_index('STATION', inplace=True)\n",
    "apr1"
   ]
  },
  {
   "cell_type": "code",
   "execution_count": null,
   "id": "former-affiliation",
   "metadata": {},
   "outputs": [],
   "source": [
    "apr1.plot.scatter(x='LATITUDE', y='TEMP', color='blue', marker='.',\n",
    "                  title=\"Latitude vs. Temperature on April 1, 2019\");"
   ]
  },
  {
   "cell_type": "code",
   "execution_count": null,
   "id": "further-husband",
   "metadata": {},
   "outputs": [],
   "source": [
    "apr1.plot.scatter(x='ELEVATION', y='TEMP', c='green', s=1,\n",
    "                  title=\"Elevation vs. Temperature on April 1, 2019\");"
   ]
  },
  {
   "cell_type": "markdown",
   "id": "czech-parish",
   "metadata": {},
   "source": [
    "We can add several details here.  Probably latitude and elevation interact to affect temperature.  We can use color to represent a third dimension.  Moreover, we can choose a colormap that is iconic of how temperatures are usually represented (albeit, people in mid-latitudes are unlikely to think of 50℉ as \"red\").\n",
    "\n",
    "As a tweak, we need to disable the `sharex` option to prevent the colorbar from hiding the X-axis label (this may not quite be a bug, but it's a glitch not a feature)."
   ]
  },
  {
   "cell_type": "code",
   "execution_count": null,
   "id": "experienced-worship",
   "metadata": {},
   "outputs": [],
   "source": [
    "apr1.plot.scatter(x='LATITUDE', y='ELEVATION', figsize=(10, 6),\n",
    "                  c=apr1.TEMP, cmap='coolwarm', sharex=False,\n",
    "                  title=\"Elevation and Latitude influencing tempearutre\");"
   ]
  },
  {
   "cell_type": "markdown",
   "id": "comfortable-sacramento",
   "metadata": {},
   "source": [
    "## Box Plots"
   ]
  },
  {
   "cell_type": "markdown",
   "id": "relevant-ordering",
   "metadata": {},
   "source": [
    "Box Plots provide a quick statistical overview of column data."
   ]
  },
  {
   "cell_type": "code",
   "execution_count": null,
   "id": "sudden-queensland",
   "metadata": {},
   "outputs": [],
   "source": [
    "apr1.plot(kind='box', subplots=True, figsize=(14,8), sym='k.');"
   ]
  },
  {
   "cell_type": "markdown",
   "id": "seasonal-minutes",
   "metadata": {},
   "source": [
    "All of these have quite a few outliers, and they are asymmetrically distributed for all the columns.  Precipitation is particularly notable since it is \"usually zero\" and hence the quartiles and 1.5x IQR whiskers are all solidly right at zero. "
   ]
  },
  {
   "cell_type": "markdown",
   "id": "decreased-health",
   "metadata": {},
   "source": [
    "## Histograms and Bar Charts"
   ]
  },
  {
   "cell_type": "markdown",
   "id": "applicable-documentary",
   "metadata": {},
   "source": [
    "The boxplot was not very revealing for precipitation.  A histogram might be more informative.  The predominance of zeros can be reduced by using a log Y scale.  We can use the entire large `weather` data for this. Note that *in this dataset*, zero can indicate \"no report\" rather than an \"no precipitation\" per se."
   ]
  },
  {
   "cell_type": "code",
   "execution_count": null,
   "id": "light-closing",
   "metadata": {},
   "outputs": [],
   "source": [
    "weather.PRCP.plot(kind='hist', logy=True, bins=30, \n",
    "                  title=\"2019 daily precipitation distribution across stations\");"
   ]
  },
  {
   "cell_type": "markdown",
   "id": "massive-ordering",
   "metadata": {},
   "source": [
    "For bar charts we wish to plot some sort of categorical values.  The station ID for the April 1 observations is  good candidate.  All 1253 of them is not useful to plot this way.  Let us pick 8 at random for an example."
   ]
  },
  {
   "cell_type": "code",
   "execution_count": null,
   "id": "after-forestry",
   "metadata": {},
   "outputs": [],
   "source": [
    "stations = [3660099999, 6806599999, 4196099999, 6619099999, \n",
    "            2428599999, 6797099999, 1336099999, 1257099999]\n",
    "sample = apr1.loc[stations, ['ELEVATION', 'TEMP']]\n",
    "sample"
   ]
  },
  {
   "cell_type": "code",
   "execution_count": null,
   "id": "electric-venue",
   "metadata": {},
   "outputs": [],
   "source": [
    "sample.plot.bar(secondary_y='TEMP', rot=60, figsize=(10, 4),\n",
    "                title=\"Elevation and temperature at selected stations\",\n",
    "                color=['lightgreen', 'darkcyan']);"
   ]
  },
  {
   "cell_type": "markdown",
   "id": "naked-commander",
   "metadata": {},
   "source": [
    "# Exercises\n",
    "\n",
    "![orange-divider](https://user-images.githubusercontent.com/7065401/92672455-187a5f80-f2ef-11ea-890c-40be9474f7b7.png)"
   ]
  },
  {
   "cell_type": "markdown",
   "id": "unknown-synthetic",
   "metadata": {},
   "source": [
    "## Visualize three correlated variables\n",
    "\n",
    "In the early dataset about percentage of women in US colleges who major in various fields, there are a clear overall dependencies among the values, but they might be complex.  Each female college student has one of the groupings of majors listed.\n",
    "\n",
    "As the student body of women collective shifts among majors over time, other majors thereby have fewer women in them.  In this exercise, try to visually express a relationship among Business, Engineering, and Art & Performance in comparison to each other.\n",
    "\n",
    "**Hint**: It is easy to think this dataset tells us more than it actually does.  From this data alone, we know neither what overall percentage of students are women in a given year, nor what the relative enrollment in the different majors is.  Working with ratio data is tricky, so avoiding misrepresentation is especially important.  Think about accurate and descriptive plot titles."
   ]
  },
  {
   "cell_type": "code",
   "execution_count": null,
   "id": "resident-final",
   "metadata": {},
   "outputs": [],
   "source": [
    "# your code here..."
   ]
  },
  {
   "cell_type": "markdown",
   "id": "caroline-albuquerque",
   "metadata": {},
   "source": [
    "## Stacked Bars\n",
    "\n",
    "The lesson on the Ethics of Visualization specifically called out misuse of stacked bars (at least as an example of an irresponsible comparison of incompatible quantities).  For example, stacking elevation and temperature—or indeed any two of the measurements in the NOAA data—would be nonsensical. Moreover, stacking e.g. temperature from one day to the next also makes no sense.\n",
    "\n",
    "However, one quantity measured clearly has a cumulative quality.  The precipitation over months is (approximately) the sum of the precipitation during each day.  This may not be exactly true in the dataset because of missing data, but it is not directly a conceptual problem.  Just to clarify, the measurements given are \"rain or melted snow\", so the units are compatible between days.\n",
    "\n",
    "For this exercise, take several stations (e.g. those used in the lesson), and show the daily precipitation over the course of one month as a stacked bar chart.  You may pick whatever month you like for this exercise.  An even shorter period like 2 weeks might be better for the visualization; feel free to do that.\n",
    "\n",
    "**Hint**: Look at the Pandas DataFrame `.pivot()` method.  This will make the task easier. Another approach uses `.groupby()`, discussed in next lesson."
   ]
  },
  {
   "cell_type": "code",
   "execution_count": null,
   "id": "civilian-benchmark",
   "metadata": {},
   "outputs": [],
   "source": [
    "# you code here..."
   ]
  }
 ],
 "metadata": {
  "kernelspec": {
   "display_name": "Python 3",
   "language": "python",
   "name": "python3"
  },
  "language_info": {
   "codemirror_mode": {
    "name": "ipython",
    "version": 3
   },
   "file_extension": ".py",
   "mimetype": "text/x-python",
   "name": "python",
   "nbconvert_exporter": "python",
   "pygments_lexer": "ipython3",
   "version": "3.9.1"
  }
 },
 "nbformat": 4,
 "nbformat_minor": 5
}
