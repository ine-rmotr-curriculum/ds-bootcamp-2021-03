{
 "cells": [
  {
   "cell_type": "markdown",
   "id": "official-celebrity",
   "metadata": {},
   "source": [
    "![ine-divider](https://user-images.githubusercontent.com/7065401/92672068-398e8080-f2ee-11ea-82d6-ad53f7feb5c0.png)\n",
    "<hr>\n",
    "\n",
    "# Introducing Pandas Series\n",
    "<img src=\"https://user-images.githubusercontent.com/7065401/75165824-badf4680-5701-11ea-9c5b-5475b0a33abf.png\" style=\"width:200px; float: right; margin: 0 40px 40px 40px;\"/>\n",
    "\n",
    "The Pandas (Panel Data) Python library is a very powerful tool for data manipulation and analysis.  We will talk about it throughout several lessons of this bootcamp, and even assume familiarity with Pandas in later lessons.\n",
    "\n",
    "![orange-divider](https://user-images.githubusercontent.com/7065401/92672455-187a5f80-f2ef-11ea-890c-40be9474f7b7.png)"
   ]
  },
  {
   "cell_type": "markdown",
   "id": "innocent-standing",
   "metadata": {},
   "source": [
    "The basic data type/collection in Pandas is the `Series`.  More often—once you get to know Pandas—you will find yourself working with another kind of collection, called a `DataFrame`.  A Series is an array of data having the same data type that is also labeled in ways more meaningful than only by index position.\n",
    "\n",
    "A special relationship exists between these two though: a DataFrame is a way of collecting together one or more Series.  Most operations on Series and DataFrames are very similar.  We start with the simpler data collection.\n",
    "\n",
    "At the start, we can import Pandas, by convention it is usually given the two-letter name `pd` within Python programs.  We also import the library NumPy, using the conventional short name `np`.  This bootcamp will not discuss NumPy specifically, but Pandas' Series are built on top of NumPy `ndarrays`, and occasionally we want to use capabilities of their underlying arrrays."
   ]
  },
  {
   "cell_type": "code",
   "execution_count": null,
   "id": "collected-processing",
   "metadata": {},
   "outputs": [],
   "source": [
    "import pandas as pd\n",
    "import numpy as np"
   ]
  },
  {
   "cell_type": "markdown",
   "id": "consecutive-length",
   "metadata": {},
   "source": [
    "## Pandas Series\n",
    "\n",
    "We'll start analyzing \"[The Group of Seven](https://en.wikipedia.org/wiki/Group_of_Seven)\". Which is a political formed by Canada, France, Germany, Italy, Japan, the United Kingdom and the United States. We'll start by analyzing population, and for that, we'll use a `pandas.Series` object."
   ]
  },
  {
   "cell_type": "code",
   "execution_count": null,
   "id": "heard-wright",
   "metadata": {},
   "outputs": [],
   "source": [
    "# In millions\n",
    "populations = [63.951, 35.467, 80.940, 60.665, 127.061, 64.511, 318.523]\n",
    "g7_pop = pd.Series(populations)\n",
    "g7_pop"
   ]
  },
  {
   "cell_type": "markdown",
   "id": "double-military",
   "metadata": {},
   "source": [
    "Someone might not know we're representing population in millions of inhabitants. Series can have a `name`, to better document the purpose of the Series:"
   ]
  },
  {
   "cell_type": "code",
   "execution_count": null,
   "id": "valid-triple",
   "metadata": {},
   "outputs": [],
   "source": [
    "g7_pop.name = 'G7 Population in millions'"
   ]
  },
  {
   "cell_type": "code",
   "execution_count": null,
   "id": "extreme-nancy",
   "metadata": {},
   "outputs": [],
   "source": [
    "g7_pop"
   ]
  },
  {
   "cell_type": "raw",
   "id": "rough-burlington",
   "metadata": {},
   "source": [
    "Series always have a common data type for each of their elements."
   ]
  },
  {
   "cell_type": "code",
   "execution_count": null,
   "id": "classified-irish",
   "metadata": {},
   "outputs": [],
   "source": [
    "g7_pop.dtype"
   ]
  },
  {
   "cell_type": "code",
   "execution_count": null,
   "id": "accurate-essence",
   "metadata": {},
   "outputs": [],
   "source": [
    "g7_pop.values"
   ]
  },
  {
   "cell_type": "markdown",
   "id": "gothic-wholesale",
   "metadata": {},
   "source": [
    "Series wrap underlying NumPy arrays:"
   ]
  },
  {
   "cell_type": "code",
   "execution_count": null,
   "id": "indonesian-intellectual",
   "metadata": {},
   "outputs": [],
   "source": [
    "type(g7_pop.values)"
   ]
  },
  {
   "cell_type": "markdown",
   "id": "numerous-incentive",
   "metadata": {},
   "source": [
    "And they _look_ like simple Python lists or Numpy arrays. But they're actually more similar to Python `dict`s.\n",
    "\n",
    "A Series has an `index`, that's similar to the automatic index assigned to Python's lists:"
   ]
  },
  {
   "cell_type": "code",
   "execution_count": null,
   "id": "explicit-oxygen",
   "metadata": {},
   "outputs": [],
   "source": [
    "g7_pop"
   ]
  },
  {
   "cell_type": "code",
   "execution_count": null,
   "id": "innocent-baltimore",
   "metadata": {},
   "outputs": [],
   "source": [
    "g7_pop[0]"
   ]
  },
  {
   "cell_type": "code",
   "execution_count": null,
   "id": "basic-testimony",
   "metadata": {},
   "outputs": [],
   "source": [
    "g7_pop[1]"
   ]
  },
  {
   "cell_type": "code",
   "execution_count": null,
   "id": "corrected-pride",
   "metadata": {},
   "outputs": [],
   "source": [
    "g7_pop.index"
   ]
  },
  {
   "cell_type": "markdown",
   "id": "herbal-drove",
   "metadata": {},
   "source": [
    "In contrast to lists, we can explicitly define the index:"
   ]
  },
  {
   "cell_type": "code",
   "execution_count": null,
   "id": "pressed-performance",
   "metadata": {},
   "outputs": [],
   "source": [
    "g7_pop.index = [\n",
    "    'France',\n",
    "    'Canada',\n",
    "    'Germany',\n",
    "    'Italy',\n",
    "    'Japan',\n",
    "    'United Kingdom',\n",
    "    'United States',\n",
    "]"
   ]
  },
  {
   "cell_type": "code",
   "execution_count": null,
   "id": "educated-enforcement",
   "metadata": {},
   "outputs": [],
   "source": [
    "g7_pop"
   ]
  },
  {
   "cell_type": "markdown",
   "id": "miniature-meter",
   "metadata": {},
   "source": [
    "Compare it with the [following table](https://docs.google.com/spreadsheets/d/1IlorV2-Oh9Da1JAZ7weVw86PQrQydSMp-ydVMH135iI/edit?usp=sharing): \n",
    "\n",
    "|                |   G7 Population in millions |\n",
    "|:---------------|----------------------------:|\n",
    "| Canada         |                      35.467 |\n",
    "| France         |                      63.951 |\n",
    "| Germany        |                      80.94  |\n",
    "| Italy          |                      60.665 |\n",
    "| Japan          |                     127.061 |\n",
    "| United Kingdom |                      64.511 |\n",
    "| United States  |                     318.523 |\n",
    "\n",
    "Series look like \"ordered dictionaries\". Moreover, we can create Series out of dictionaries:"
   ]
  },
  {
   "cell_type": "code",
   "execution_count": null,
   "id": "integral-uncertainty",
   "metadata": {},
   "outputs": [],
   "source": [
    "pd.Series({\n",
    "    'France': 63.951,\n",
    "    'Canada': 35.467,\n",
    "    'Germany': 80.94,\n",
    "    'Italy': 60.665,\n",
    "    'Japan': 127.061,\n",
    "    'United Kingdom': 64.511,\n",
    "    'United States': 318.523\n",
    "}, name='G7 Population in millions')"
   ]
  },
  {
   "cell_type": "markdown",
   "id": "adverse-maria",
   "metadata": {},
   "source": [
    "There are several other \"constructors\" for Series, i.e. different ways of passing in the data needed to create one."
   ]
  },
  {
   "cell_type": "code",
   "execution_count": null,
   "id": "floppy-aquatic",
   "metadata": {},
   "outputs": [],
   "source": [
    "pd.Series(\n",
    "    [63.951, 35.467, 80.94, 60.665, 127.061, 64.511, 318.523],\n",
    "    index=['France', 'Canada', 'Germany', 'Italy', 'Japan', \n",
    "           'United Kingdom', 'United States'],\n",
    "    name='G7 Population in millions')"
   ]
  },
  {
   "cell_type": "markdown",
   "id": "recorded-litigation",
   "metadata": {},
   "source": [
    "You can create Series out of other series, specifying indexes:"
   ]
  },
  {
   "cell_type": "code",
   "execution_count": null,
   "id": "satisfactory-manhattan",
   "metadata": {},
   "outputs": [],
   "source": [
    "pd.Series(g7_pop, index=['France', 'Germany', 'Italy', 'Spain'])"
   ]
  },
  {
   "cell_type": "markdown",
   "id": "opponent-latin",
   "metadata": {},
   "source": [
    "## Indexing\n",
    "\n",
    "Indexing works similarly as on lists and dictionaries, you use the **index** of the element you're looking for:"
   ]
  },
  {
   "cell_type": "code",
   "execution_count": null,
   "id": "mighty-america",
   "metadata": {},
   "outputs": [],
   "source": [
    "g7_pop"
   ]
  },
  {
   "cell_type": "code",
   "execution_count": null,
   "id": "located-flashing",
   "metadata": {},
   "outputs": [],
   "source": [
    "g7_pop['Canada']"
   ]
  },
  {
   "cell_type": "code",
   "execution_count": null,
   "id": "interesting-alarm",
   "metadata": {},
   "outputs": [],
   "source": [
    "g7_pop['Japan']"
   ]
  },
  {
   "cell_type": "markdown",
   "id": "distributed-active",
   "metadata": {},
   "source": [
    "Numeric positions can also be used, with the `iloc` accessor:"
   ]
  },
  {
   "cell_type": "code",
   "execution_count": null,
   "id": "duplicate-exception",
   "metadata": {},
   "outputs": [],
   "source": [
    "g7_pop.iloc[0]"
   ]
  },
  {
   "cell_type": "code",
   "execution_count": null,
   "id": "monthly-andrew",
   "metadata": {},
   "outputs": [],
   "source": [
    "g7_pop.iloc[-1]"
   ]
  },
  {
   "cell_type": "markdown",
   "id": "pacific-device",
   "metadata": {},
   "source": [
    "Selecting multiple elements at once:"
   ]
  },
  {
   "cell_type": "code",
   "execution_count": null,
   "id": "handed-construction",
   "metadata": {},
   "outputs": [],
   "source": [
    "g7_pop[['Italy', 'France']]"
   ]
  },
  {
   "cell_type": "markdown",
   "id": "devoted-denmark",
   "metadata": {},
   "source": [
    "_(The result is another Series)_"
   ]
  },
  {
   "cell_type": "code",
   "execution_count": null,
   "id": "wrapped-district",
   "metadata": {},
   "outputs": [],
   "source": [
    "g7_pop.iloc[[0, 1]]"
   ]
  },
  {
   "cell_type": "markdown",
   "id": "interested-raleigh",
   "metadata": {},
   "source": [
    "Slicing also works, but **unlike in lists**, in Pandas the upper limit is included:"
   ]
  },
  {
   "cell_type": "code",
   "execution_count": null,
   "id": "fabulous-exclusive",
   "metadata": {},
   "outputs": [],
   "source": [
    "g7_pop['Canada': 'Italy']"
   ]
  },
  {
   "cell_type": "markdown",
   "id": "selective-hypothesis",
   "metadata": {},
   "source": [
    "It is usually preferred to use the `.loc` accessor rather than simple square brackets.  It is a few extra characters, but it avoids confusion when the indices of Series are themselves numbers (like in our first pass at `g7_pop`).  A motto in Python is \"explicit is better than implicit\"; we can specifiy whether we mean the name of row or its numeric position."
   ]
  },
  {
   "cell_type": "code",
   "execution_count": null,
   "id": "stunning-rings",
   "metadata": {},
   "outputs": [],
   "source": [
    "g7_pop.loc['Canada': 'Italy']"
   ]
  },
  {
   "cell_type": "markdown",
   "id": "economic-theology",
   "metadata": {},
   "source": [
    "## Conditional selection (Boolean arrays)\n",
    "\n",
    "A special \"Boolean array\" can be used to select from Pandas Series:"
   ]
  },
  {
   "cell_type": "code",
   "execution_count": null,
   "id": "talented-bahamas",
   "metadata": {},
   "outputs": [],
   "source": [
    "g7_pop"
   ]
  },
  {
   "cell_type": "code",
   "execution_count": null,
   "id": "rapid-flash",
   "metadata": {},
   "outputs": [],
   "source": [
    "g7_pop > 70"
   ]
  },
  {
   "cell_type": "code",
   "execution_count": null,
   "id": "assured-particular",
   "metadata": {},
   "outputs": [],
   "source": [
    "g7_pop[g7_pop > 70]"
   ]
  },
  {
   "cell_type": "markdown",
   "id": "medieval-brush",
   "metadata": {},
   "source": [
    "Often we create Boolean arrays directly inside square brackets to index elements.  But we can also save the name of a useful filter."
   ]
  },
  {
   "cell_type": "code",
   "execution_count": null,
   "id": "employed-hospital",
   "metadata": {},
   "outputs": [],
   "source": [
    "is_big = g7_pop > 70\n",
    "g7_pop[is_big]"
   ]
  },
  {
   "cell_type": "markdown",
   "id": "scheduled-thriller",
   "metadata": {},
   "source": [
    "Series have various useful methods; many of them are numeric or statistical."
   ]
  },
  {
   "cell_type": "code",
   "execution_count": null,
   "id": "optional-argentina",
   "metadata": {},
   "outputs": [],
   "source": [
    "g7_pop.mean()"
   ]
  },
  {
   "cell_type": "markdown",
   "id": "diagnostic-polymer",
   "metadata": {},
   "source": [
    "We can combine these two capabilities we have just seen:"
   ]
  },
  {
   "cell_type": "code",
   "execution_count": null,
   "id": "corrected-berlin",
   "metadata": {},
   "outputs": [],
   "source": [
    "g7_pop[g7_pop > g7_pop.mean()]"
   ]
  },
  {
   "cell_type": "code",
   "execution_count": null,
   "id": "golden-arrest",
   "metadata": {},
   "outputs": [],
   "source": [
    "g7_pop.std()"
   ]
  },
  {
   "cell_type": "markdown",
   "id": "changed-manual",
   "metadata": {},
   "source": [
    "We can use symbols as logical connectors for several different filters.\n",
    "\n",
    "| Symbol | Meaning\n",
    "|--------|---------\n",
    "| ~      | not\n",
    "| &#124; | or\n",
    "| &      | and"
   ]
  },
  {
   "cell_type": "markdown",
   "id": "copyrighted-pointer",
   "metadata": {},
   "source": [
    "A common pitfall is failing to parenthesize subexpressions separated by these symbols.  Often it will give you **some** answer, but the wrong one, when you do that."
   ]
  },
  {
   "cell_type": "markdown",
   "id": "entertaining-nitrogen",
   "metadata": {},
   "source": [
    "Let us select the G7 countries with population within 1/2 standard deviation of the mean."
   ]
  },
  {
   "cell_type": "code",
   "execution_count": null,
   "id": "limiting-blind",
   "metadata": {},
   "outputs": [],
   "source": [
    "g7_pop[(g7_pop > (g7_pop.mean() - g7_pop.std()/2)) &\n",
    "       (g7_pop < (g7_pop.mean() + g7_pop.std()/2))\n",
    "      ].rename('Mid-sized G7 countries')"
   ]
  },
  {
   "cell_type": "markdown",
   "id": "bright-genesis",
   "metadata": {},
   "source": [
    "That was a powerful query, but perhaps hard to read.  We might break it into steps."
   ]
  },
  {
   "cell_type": "code",
   "execution_count": null,
   "id": "contrary-elements",
   "metadata": {},
   "outputs": [],
   "source": [
    "bottom = g7_pop.mean() - g7_pop.std()/2\n",
    "top = g7_pop.mean() + g7_pop.std()/2\n",
    "print(bottom, top)\n",
    "\n",
    "g7_pop[(g7_pop > bottom) & (g7_pop < top)]"
   ]
  },
  {
   "cell_type": "markdown",
   "id": "humanitarian-logan",
   "metadata": {},
   "source": [
    "## Operations and methods\n",
    "\n",
    "Series support \"vectorized\" operations and aggregation functions:"
   ]
  },
  {
   "cell_type": "code",
   "execution_count": null,
   "id": "hungarian-scenario",
   "metadata": {},
   "outputs": [],
   "source": [
    "g7_pop"
   ]
  },
  {
   "cell_type": "code",
   "execution_count": null,
   "id": "victorian-camcorder",
   "metadata": {},
   "outputs": [],
   "source": [
    "g7_pop * 1_000_000"
   ]
  },
  {
   "cell_type": "code",
   "execution_count": null,
   "id": "sudden-occasions",
   "metadata": {},
   "outputs": [],
   "source": [
    "mean = (g7_pop * 1e6).mean()\n",
    "print(f\"{mean:,.0f}\")"
   ]
  },
  {
   "cell_type": "markdown",
   "id": "colored-dressing",
   "metadata": {},
   "source": [
    "Perhaps we would like to think just of \"order of magnitude\" of these populations."
   ]
  },
  {
   "cell_type": "code",
   "execution_count": null,
   "id": "eligible-fellowship",
   "metadata": {},
   "outputs": [],
   "source": [
    "np.log10(g7_pop * 1e6)"
   ]
  },
  {
   "cell_type": "markdown",
   "id": "natural-perfume",
   "metadata": {},
   "source": [
    "We might aggregate over a subset of the data."
   ]
  },
  {
   "cell_type": "code",
   "execution_count": null,
   "id": "blank-florist",
   "metadata": {},
   "outputs": [],
   "source": [
    "g7_pop['France': 'Italy'].mean()"
   ]
  },
  {
   "cell_type": "markdown",
   "id": "boring-greene",
   "metadata": {},
   "source": [
    "Looking at Series in particular orders can be useful. For example, perhaps alphabetically by the index."
   ]
  },
  {
   "cell_type": "code",
   "execution_count": null,
   "id": "rapid-bicycle",
   "metadata": {},
   "outputs": [],
   "source": [
    "g7_pop.sort_index()"
   ]
  },
  {
   "cell_type": "markdown",
   "id": "sticky-queen",
   "metadata": {},
   "source": [
    "Or in order by the population."
   ]
  },
  {
   "cell_type": "code",
   "execution_count": null,
   "id": "changed-activation",
   "metadata": {},
   "outputs": [],
   "source": [
    "g7_pop.sort_values()"
   ]
  },
  {
   "cell_type": "code",
   "execution_count": null,
   "id": "horizontal-mobile",
   "metadata": {},
   "outputs": [],
   "source": [
    "g7_pop.sort_values(ascending=False)"
   ]
  },
  {
   "cell_type": "markdown",
   "id": "bridal-metro",
   "metadata": {},
   "source": [
    "## Modifying series"
   ]
  },
  {
   "cell_type": "markdown",
   "id": "interesting-projection",
   "metadata": {},
   "source": [
    "Let us make some changes to populations hypothetically.  Perhaps these are projections or hypotheticals."
   ]
  },
  {
   "cell_type": "code",
   "execution_count": null,
   "id": "proprietary-louisville",
   "metadata": {},
   "outputs": [],
   "source": [
    "g7_imagined = g7_pop.copy()\n",
    "g7_imagined.rename(\"Imagined populations\", inplace=True)\n",
    "g7_imagined"
   ]
  },
  {
   "cell_type": "code",
   "execution_count": null,
   "id": "french-burke",
   "metadata": {},
   "outputs": [],
   "source": [
    "g7_imagined.loc['Canada'] = 40.5\n",
    "g7_imagined"
   ]
  },
  {
   "cell_type": "markdown",
   "id": "promotional-enterprise",
   "metadata": {},
   "source": [
    "Perhaps we stipulate by index position."
   ]
  },
  {
   "cell_type": "code",
   "execution_count": null,
   "id": "pursuant-stewart",
   "metadata": {},
   "outputs": [],
   "source": [
    "g7_imagined.iloc[-1] = 500\n",
    "g7_imagined"
   ]
  },
  {
   "cell_type": "markdown",
   "id": "accepted-formula",
   "metadata": {},
   "source": [
    "Recall how we might filter."
   ]
  },
  {
   "cell_type": "code",
   "execution_count": null,
   "id": "special-willow",
   "metadata": {},
   "outputs": [],
   "source": [
    "g7_imagined[g7_imagined < 70]"
   ]
  },
  {
   "cell_type": "markdown",
   "id": "normal-austria",
   "metadata": {},
   "source": [
    "We can also modify based on the filter."
   ]
  },
  {
   "cell_type": "code",
   "execution_count": null,
   "id": "alien-future",
   "metadata": {},
   "outputs": [],
   "source": [
    "g7_imagined[g7_imagined < 70] = 99.99\n",
    "g7_imagined"
   ]
  },
  {
   "cell_type": "markdown",
   "id": "first-retention",
   "metadata": {},
   "source": [
    "# Exercises\n",
    "\n",
    "![orange-divider](https://user-images.githubusercontent.com/7065401/92672455-187a5f80-f2ef-11ea-890c-40be9474f7b7.png)"
   ]
  },
  {
   "cell_type": "markdown",
   "id": "chubby-system",
   "metadata": {},
   "source": [
    "## Series creation"
   ]
  },
  {
   "cell_type": "markdown",
   "id": "everyday-animal",
   "metadata": {},
   "source": [
    "### Create an empty pandas Series"
   ]
  },
  {
   "cell_type": "code",
   "execution_count": null,
   "id": "median-translation",
   "metadata": {},
   "outputs": [],
   "source": [
    "# your code goes here"
   ]
  },
  {
   "cell_type": "markdown",
   "id": "educational-complex",
   "metadata": {},
   "source": [
    "### Given the X python list convert it to an Y pandas Series"
   ]
  },
  {
   "cell_type": "code",
   "execution_count": null,
   "id": "injured-legislation",
   "metadata": {},
   "outputs": [],
   "source": [
    "# your code goes here\n",
    "X = ['A','B','C']\n",
    "print(X, type(X))"
   ]
  },
  {
   "cell_type": "markdown",
   "id": "dutch-subject",
   "metadata": {},
   "source": [
    "### Given the X pandas Series, name it 'My letters'"
   ]
  },
  {
   "cell_type": "code",
   "execution_count": null,
   "id": "twelve-membership",
   "metadata": {},
   "outputs": [],
   "source": [
    "# your code goes here\n",
    "X = pd.Series(['A','B','C'])\n",
    "X"
   ]
  },
  {
   "cell_type": "markdown",
   "id": "tight-hungary",
   "metadata": {},
   "source": [
    "### Given the X pandas Series, show its values"
   ]
  },
  {
   "cell_type": "code",
   "execution_count": null,
   "id": "imperial-azerbaijan",
   "metadata": {},
   "outputs": [],
   "source": [
    "# your code goes here\n",
    "X = pd.Series(['A','B','C'])"
   ]
  },
  {
   "cell_type": "markdown",
   "id": "southern-honolulu",
   "metadata": {},
   "source": [
    "## Series indexing"
   ]
  },
  {
   "cell_type": "markdown",
   "id": "dominant-reply",
   "metadata": {},
   "source": [
    "### Assign index names to the given X pandas Series\n"
   ]
  },
  {
   "cell_type": "code",
   "execution_count": null,
   "id": "sealed-research",
   "metadata": {},
   "outputs": [],
   "source": [
    "# your code goes here\n",
    "X = pd.Series(['A','B','C'])\n",
    "X"
   ]
  },
  {
   "cell_type": "markdown",
   "id": "contained-indicator",
   "metadata": {},
   "source": [
    "### Given the X pandas Series, show its first element"
   ]
  },
  {
   "cell_type": "code",
   "execution_count": null,
   "id": "raised-nomination",
   "metadata": {},
   "outputs": [],
   "source": [
    "X = pd.Series(['A','B','C'], index=['first', 'second', 'third'])\n",
    "# your code goes here"
   ]
  },
  {
   "cell_type": "markdown",
   "id": "prescription-willow",
   "metadata": {},
   "source": [
    "### Given the X pandas Series, show its last element"
   ]
  },
  {
   "cell_type": "code",
   "execution_count": null,
   "id": "unlimited-savage",
   "metadata": {},
   "outputs": [],
   "source": [
    "X = pd.Series(['A','B','C'], index=['first', 'second', 'third'])\n",
    "# your code goes here"
   ]
  },
  {
   "cell_type": "markdown",
   "id": "quality-welding",
   "metadata": {},
   "source": [
    "### Given the X pandas Series, show all middle elements"
   ]
  },
  {
   "cell_type": "code",
   "execution_count": null,
   "id": "forty-volleyball",
   "metadata": {},
   "outputs": [],
   "source": [
    "# your code goes here\n",
    "X = pd.Series(['A','B','C','D','E'],\n",
    "              index=['first','second','third','forth','fifth'])"
   ]
  },
  {
   "cell_type": "markdown",
   "id": "second-piano",
   "metadata": {},
   "source": [
    "### Given the X pandas Series, show the elements in reverse position"
   ]
  },
  {
   "cell_type": "code",
   "execution_count": null,
   "id": "coastal-bernard",
   "metadata": {},
   "outputs": [],
   "source": [
    "# your code goes here\n",
    "X = pd.Series(['A','B','C','D','E'],\n",
    "              index=['first','second','third','forth','fifth'])"
   ]
  },
  {
   "cell_type": "markdown",
   "id": "rocky-measure",
   "metadata": {},
   "source": [
    "### Given the X pandas Series, show the first and last elements"
   ]
  },
  {
   "cell_type": "code",
   "execution_count": null,
   "id": "fallen-birthday",
   "metadata": {},
   "outputs": [],
   "source": [
    "# your code goes here\n",
    "X = pd.Series(['A','B','C','D','E'],\n",
    "              index=['first','second','third','fourth','fifth'])"
   ]
  },
  {
   "cell_type": "markdown",
   "id": "mature-arrow",
   "metadata": {},
   "source": [
    "## Series manipulation"
   ]
  },
  {
   "cell_type": "markdown",
   "id": "immediate-verification",
   "metadata": {},
   "source": [
    "### Convert the given integer pandas Series to float\n"
   ]
  },
  {
   "cell_type": "code",
   "execution_count": null,
   "id": "brief-bahrain",
   "metadata": {},
   "outputs": [],
   "source": [
    "# your code goes here\n",
    "X = pd.Series([1, 2, 3, 4, 5],\n",
    "              index=['first', 'second', 'third', 'fourth', 'fifth'])\n",
    "X"
   ]
  },
  {
   "cell_type": "markdown",
   "id": "handmade-tribune",
   "metadata": {},
   "source": [
    "### Order (sort) the given pandas Series"
   ]
  },
  {
   "cell_type": "code",
   "execution_count": null,
   "id": "academic-shuttle",
   "metadata": {},
   "outputs": [],
   "source": [
    "X = pd.Series([4, 2, 5, 1, 3],\n",
    "              index=['fourth', 'second', 'fifth', 'first', 'third'])\n",
    "# your code goes here"
   ]
  },
  {
   "cell_type": "markdown",
   "id": "polyphonic-absorption",
   "metadata": {},
   "source": [
    "### Given the X pandas Series, set the fifth element equal to 10"
   ]
  },
  {
   "cell_type": "code",
   "execution_count": null,
   "id": "hourly-terrorism",
   "metadata": {},
   "outputs": [],
   "source": [
    "X = pd.Series([1, 2, 3, 4, 5],\n",
    "              index=['A', 'B', 'C', 'D', 'E'])\n",
    "# your code goes here"
   ]
  },
  {
   "cell_type": "markdown",
   "id": "internal-lewis",
   "metadata": {},
   "source": [
    "### Given the X pandas Series, change all the middle elements to 0"
   ]
  },
  {
   "cell_type": "code",
   "execution_count": null,
   "id": "opposed-manufacturer",
   "metadata": {},
   "outputs": [],
   "source": [
    "# your code goes here\n",
    "X = pd.Series([1, 2, 3, 4, 5],\n",
    "              index=['A', 'B', 'C', 'D', 'E'])"
   ]
  },
  {
   "cell_type": "markdown",
   "id": "legal-management",
   "metadata": {},
   "source": [
    "### Given the X pandas Series, add 5 to every element"
   ]
  },
  {
   "cell_type": "code",
   "execution_count": null,
   "id": "transparent-millennium",
   "metadata": {},
   "outputs": [],
   "source": [
    "X = pd.Series([1,2,3,4,5],\n",
    "              index=['A','B','C','D','E'])\n",
    "# your code goes here\n"
   ]
  },
  {
   "cell_type": "markdown",
   "id": "comfortable-landscape",
   "metadata": {},
   "source": [
    "## Boolean arrays (also called masks)"
   ]
  },
  {
   "cell_type": "markdown",
   "id": "descending-extraction",
   "metadata": {},
   "source": [
    "### Given the X pandas Series, make a mask showing negative elements\n"
   ]
  },
  {
   "cell_type": "code",
   "execution_count": null,
   "id": "convenient-oxford",
   "metadata": {},
   "outputs": [],
   "source": [
    "X = pd.Series([-1, 2, 0, -4, 5, 6, 0, 0, -9, 10])\n",
    "# your code goes here"
   ]
  },
  {
   "cell_type": "markdown",
   "id": "excited-artist",
   "metadata": {},
   "source": [
    "### Given the X pandas Series, get the negative elements"
   ]
  },
  {
   "cell_type": "code",
   "execution_count": null,
   "id": "young-label",
   "metadata": {},
   "outputs": [],
   "source": [
    "X = pd.Series([-1, 2, 0, -4, 5, 6, 0, 0, -9, 10])\n",
    "# your code goes here"
   ]
  },
  {
   "cell_type": "markdown",
   "id": "varied-donna",
   "metadata": {},
   "source": [
    "### Given the X pandas Series, get numbers larger than 5\n"
   ]
  },
  {
   "cell_type": "code",
   "execution_count": null,
   "id": "duplicate-inventory",
   "metadata": {},
   "outputs": [],
   "source": [
    "X = pd.Series([-1, 2, 0, -4, 5, 6, 0, 0, -9, 10])\n",
    "# your code goes here"
   ]
  },
  {
   "cell_type": "markdown",
   "id": "adapted-marijuana",
   "metadata": {},
   "source": [
    "### Given the X pandas Series, select numbers higher than the elements mean"
   ]
  },
  {
   "cell_type": "code",
   "execution_count": null,
   "id": "eleven-philippines",
   "metadata": {},
   "outputs": [],
   "source": [
    "X = pd.Series([-1, 2, 0, -4, 5, 6, 0, 0, -9, 10])\n",
    "# your code goes here"
   ]
  },
  {
   "cell_type": "markdown",
   "id": "serious-coalition",
   "metadata": {},
   "source": [
    "### Given the X pandas Series, get numbers equal to 2 or 10"
   ]
  },
  {
   "cell_type": "code",
   "execution_count": null,
   "id": "afraid-bouquet",
   "metadata": {},
   "outputs": [],
   "source": [
    "X = pd.Series([-1, 2, 0, -4, 5, 6, 0, 0, -9, 10])\n",
    "# your code goes here"
   ]
  },
  {
   "cell_type": "markdown",
   "id": "quiet-riding",
   "metadata": {},
   "source": [
    "## Logic functions"
   ]
  },
  {
   "cell_type": "markdown",
   "id": "greek-richmond",
   "metadata": {},
   "source": [
    "### Given the X pandas Series, return True if none of its elements is zero"
   ]
  },
  {
   "cell_type": "code",
   "execution_count": null,
   "id": "discrete-sugar",
   "metadata": {},
   "outputs": [],
   "source": [
    "X = pd.Series([-1, 2, 0, -4, 5, 6, 0, 0, -9, 10])\n",
    "# your code goes here"
   ]
  },
  {
   "cell_type": "markdown",
   "id": "enclosed-credit",
   "metadata": {},
   "source": [
    "### Given the X pandas Series, return True if any of its elements is zero"
   ]
  },
  {
   "cell_type": "code",
   "execution_count": null,
   "id": "placed-music",
   "metadata": {},
   "outputs": [],
   "source": [
    "X = pd.Series([-1, 2, 0, -4, 5, 6, 0, 0, -9, 10])\n",
    "# your code goes here"
   ]
  },
  {
   "cell_type": "markdown",
   "id": "numerous-divorce",
   "metadata": {},
   "source": [
    "## Summary statistics"
   ]
  },
  {
   "cell_type": "markdown",
   "id": "happy-train",
   "metadata": {},
   "source": [
    "### Given the X pandas Series, show the sum of its elements\n"
   ]
  },
  {
   "cell_type": "code",
   "execution_count": null,
   "id": "instructional-bargain",
   "metadata": {},
   "outputs": [],
   "source": [
    "X = pd.Series([3, 5, 6, 7, 2, 3, 4, 9, 4])\n",
    "# your code goes here"
   ]
  },
  {
   "cell_type": "markdown",
   "id": "peripheral-lithuania",
   "metadata": {},
   "source": [
    "### Given the X pandas Series, show the mean value of its elements"
   ]
  },
  {
   "cell_type": "code",
   "execution_count": null,
   "id": "violent-service",
   "metadata": {},
   "outputs": [],
   "source": [
    "X = pd.Series([1, 2, 0, 4, 5, 6, 0, 0, 9, 10])\n",
    "# your code goes here"
   ]
  },
  {
   "cell_type": "markdown",
   "id": "characteristic-grammar",
   "metadata": {},
   "source": [
    "### Given the X pandas Series, show the max value of its elements"
   ]
  },
  {
   "cell_type": "code",
   "execution_count": null,
   "id": "framed-presentation",
   "metadata": {},
   "outputs": [],
   "source": [
    "X = pd.Series([1, 2, 0, 4, 5, 6, 0, 0, 9, 10])\n",
    "# your code goes here"
   ]
  }
 ],
 "metadata": {
  "kernelspec": {
   "display_name": "Python 3",
   "language": "python",
   "name": "python3"
  },
  "language_info": {
   "codemirror_mode": {
    "name": "ipython",
    "version": 3
   },
   "file_extension": ".py",
   "mimetype": "text/x-python",
   "name": "python",
   "nbconvert_exporter": "python",
   "pygments_lexer": "ipython3",
   "version": "3.9.1"
  }
 },
 "nbformat": 4,
 "nbformat_minor": 5
}
