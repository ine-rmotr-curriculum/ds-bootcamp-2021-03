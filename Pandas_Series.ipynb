{
 "cells": [
  {
   "cell_type": "markdown",
   "id": "demanding-despite",
   "metadata": {},
   "source": [
    "<div style=\"position: relative;\">\n",
    "<img src=\"https://user-images.githubusercontent.com/7065401/98728503-5ab82f80-2378-11eb-9c79-adeb308fc647.png\"></img>\n",
    "\n",
    "<h1 style=\"color: white; position: absolute; top:27%; left:10%;\">\n",
    "     INE Bootcamp\n",
    "</h1>\n",
    "<h2 style=\"color: white; position: absolute; top:36%; left:10%;\">\n",
    "    Data Analysis, Visualization and Predictive Modeling\n",
    "</h2> \n",
    "\n",
    "<h3 style=\"color: #ef7d22; font-weight: normal; position: absolute; top:58%; left:10%;\">\n",
    "    <b>David Mertz, Ph.D.</b>\n",
    "</h3>\n",
    "\n",
    "<h3 style=\"color: #ef7d22; font-weight: normal; position: absolute; top:63%; left:10%;\">\n",
    "    <b>Data Scientist</b>\n",
    "</h3>\n",
    "</div>"
   ]
  },
  {
   "cell_type": "markdown",
   "id": "hydraulic-edward",
   "metadata": {},
   "source": [
    "<div style=\"width: 100%; height: 200px; background-color: #222; text-align: center; padding-top: 20px; margin-bottom: 40px;\">\n",
    "<br><br>\n",
    "\n",
    "<h1 style=\"color: white; font-weight: bold;\">\n",
    "    Introducing Pandas Series\n",
    "</h1>\n",
    "\n",
    "<br><br> \n",
    "</div>\n",
    "\n",
    "The Pandas (Panel Data) Python library is a very powerful tool for data manipulation and analysis.  We will talk about it throughout several lessons of this bootcamp, and even assume familiarity with Pandas in later lessons.\n",
    "\n",
    "<img src=\"https://user-images.githubusercontent.com/7065401/75165824-badf4680-5701-11ea-9c5b-5475b0a33abf.png\" style=\"width:300px; float: right; margin: 0 40px 40px 40px;\"/>\n",
    "\n",
    "> The basic data type/collection in Pandas is the `Series`.  More often—once you get to know Pandas—you will find yourself working with another kind of collection, called a `DataFrame`.  A Series is an array of data having the same data type that is also labeled in ways more meaningful than only by index position.\n",
    "\n",
    "A special relationship exists between these two though: a DataFrame is a way of collecting together one or more Series.  Most operations on Series and DataFrames are very similar.  We start with the simpler data collection.\n",
    "\n",
    "At the start, we can import Pandas, by convention it is usually given the two-letter name `pd` within Python programs.  We also import the library NumPy, using the conventional short name `np`.  This bootcamp will not discuss NumPy specifically, but Pandas' Series are built on top of NumPy `ndarrays`, and occasionally we want to use capabilities of their underlying arrrays."
   ]
  },
  {
   "cell_type": "code",
   "execution_count": 1,
   "id": "descending-tonight",
   "metadata": {},
   "outputs": [],
   "source": [
    "import pandas as pd\n",
    "import numpy as np"
   ]
  },
  {
   "cell_type": "markdown",
   "id": "moving-sentence",
   "metadata": {},
   "source": [
    "<h2 style=\"font-weight: bold;\">\n",
    "    Pandas Series\n",
    "</h2>\n",
    "\n",
    "![orange-divider](https://user-images.githubusercontent.com/7065401/98619088-44ab6000-22e1-11eb-8f6d-5532e68ab274.png)\n",
    "\n",
    "We'll start analyzing \"[The Group of Seven](https://en.wikipedia.org/wiki/Group_of_Seven)\". Which is a political formed by Canada, France, Germany, Italy, Japan, the United Kingdom and the United States. We'll start by analyzing population, and for that, we'll use a `pandas.Series` object."
   ]
  },
  {
   "cell_type": "code",
   "execution_count": 2,
   "id": "threatened-indian",
   "metadata": {},
   "outputs": [
    {
     "data": {
      "text/plain": [
       "0     63.951\n",
       "1     35.467\n",
       "2     80.940\n",
       "3     60.665\n",
       "4    127.061\n",
       "5     64.511\n",
       "6    318.523\n",
       "dtype: float64"
      ]
     },
     "execution_count": 2,
     "metadata": {},
     "output_type": "execute_result"
    }
   ],
   "source": [
    "# In millions\n",
    "populations = [63.951, 35.467, 80.940, 60.665, 127.061, 64.511, 318.523]\n",
    "g7_pop = pd.Series(populations)\n",
    "g7_pop"
   ]
  },
  {
   "cell_type": "markdown",
   "id": "central-heating",
   "metadata": {},
   "source": [
    "Someone might not know we're representing population in millions of inhabitants. Series can have a `name`, to better document the purpose of the Series:"
   ]
  },
  {
   "cell_type": "code",
   "execution_count": 3,
   "id": "classified-authorization",
   "metadata": {},
   "outputs": [],
   "source": [
    "g7_pop.name = 'G7 Population in millions'"
   ]
  },
  {
   "cell_type": "code",
   "execution_count": 4,
   "id": "limited-thanksgiving",
   "metadata": {},
   "outputs": [
    {
     "data": {
      "text/plain": [
       "0     63.951\n",
       "1     35.467\n",
       "2     80.940\n",
       "3     60.665\n",
       "4    127.061\n",
       "5     64.511\n",
       "6    318.523\n",
       "Name: G7 Population in millions, dtype: float64"
      ]
     },
     "execution_count": 4,
     "metadata": {},
     "output_type": "execute_result"
    }
   ],
   "source": [
    "g7_pop"
   ]
  },
  {
   "cell_type": "markdown",
   "id": "polyphonic-aside",
   "metadata": {},
   "source": [
    "Series always have a common data type for each of their elements."
   ]
  },
  {
   "cell_type": "code",
   "execution_count": 5,
   "id": "variable-adult",
   "metadata": {},
   "outputs": [
    {
     "data": {
      "text/plain": [
       "dtype('float64')"
      ]
     },
     "execution_count": 5,
     "metadata": {},
     "output_type": "execute_result"
    }
   ],
   "source": [
    "g7_pop.dtype"
   ]
  },
  {
   "cell_type": "code",
   "execution_count": 6,
   "id": "brief-surgeon",
   "metadata": {},
   "outputs": [
    {
     "data": {
      "text/plain": [
       "array([ 63.951,  35.467,  80.94 ,  60.665, 127.061,  64.511, 318.523])"
      ]
     },
     "execution_count": 6,
     "metadata": {},
     "output_type": "execute_result"
    }
   ],
   "source": [
    "g7_pop.values"
   ]
  },
  {
   "cell_type": "markdown",
   "id": "angry-classroom",
   "metadata": {},
   "source": [
    "Series wrap underlying NumPy arrays:"
   ]
  },
  {
   "cell_type": "code",
   "execution_count": 7,
   "id": "latin-academy",
   "metadata": {},
   "outputs": [
    {
     "data": {
      "text/plain": [
       "numpy.ndarray"
      ]
     },
     "execution_count": 7,
     "metadata": {},
     "output_type": "execute_result"
    }
   ],
   "source": [
    "type(g7_pop.values)"
   ]
  },
  {
   "cell_type": "markdown",
   "id": "perceived-dancing",
   "metadata": {},
   "source": [
    "And they _look_ like simple Python lists or Numpy arrays. But they're actually more similar to Python `dict`s.\n",
    "\n",
    "A Series has an `index`, that's similar to the automatic index assigned to Python's lists:"
   ]
  },
  {
   "cell_type": "code",
   "execution_count": 8,
   "id": "federal-merchant",
   "metadata": {},
   "outputs": [
    {
     "data": {
      "text/plain": [
       "0     63.951\n",
       "1     35.467\n",
       "2     80.940\n",
       "3     60.665\n",
       "4    127.061\n",
       "5     64.511\n",
       "6    318.523\n",
       "Name: G7 Population in millions, dtype: float64"
      ]
     },
     "execution_count": 8,
     "metadata": {},
     "output_type": "execute_result"
    }
   ],
   "source": [
    "g7_pop"
   ]
  },
  {
   "cell_type": "code",
   "execution_count": 9,
   "id": "monetary-cassette",
   "metadata": {},
   "outputs": [
    {
     "data": {
      "text/plain": [
       "63.951"
      ]
     },
     "execution_count": 9,
     "metadata": {},
     "output_type": "execute_result"
    }
   ],
   "source": [
    "g7_pop[0]"
   ]
  },
  {
   "cell_type": "code",
   "execution_count": 10,
   "id": "municipal-numbers",
   "metadata": {},
   "outputs": [
    {
     "data": {
      "text/plain": [
       "35.467"
      ]
     },
     "execution_count": 10,
     "metadata": {},
     "output_type": "execute_result"
    }
   ],
   "source": [
    "g7_pop[1]"
   ]
  },
  {
   "cell_type": "code",
   "execution_count": 11,
   "id": "twelve-fiction",
   "metadata": {},
   "outputs": [
    {
     "data": {
      "text/plain": [
       "RangeIndex(start=0, stop=7, step=1)"
      ]
     },
     "execution_count": 11,
     "metadata": {},
     "output_type": "execute_result"
    }
   ],
   "source": [
    "g7_pop.index"
   ]
  },
  {
   "cell_type": "markdown",
   "id": "indirect-trademark",
   "metadata": {},
   "source": [
    "In contrast to lists, we can explicitly define the index:"
   ]
  },
  {
   "cell_type": "code",
   "execution_count": 12,
   "id": "illegal-porter",
   "metadata": {},
   "outputs": [],
   "source": [
    "g7_pop.index = [\n",
    "    'France',\n",
    "    'Canada',\n",
    "    'Germany',\n",
    "    'Italy',\n",
    "    'Japan',\n",
    "    'United Kingdom',\n",
    "    'United States',\n",
    "]"
   ]
  },
  {
   "cell_type": "code",
   "execution_count": 13,
   "id": "automatic-florida",
   "metadata": {},
   "outputs": [
    {
     "data": {
      "text/plain": [
       "France             63.951\n",
       "Canada             35.467\n",
       "Germany            80.940\n",
       "Italy              60.665\n",
       "Japan             127.061\n",
       "United Kingdom     64.511\n",
       "United States     318.523\n",
       "Name: G7 Population in millions, dtype: float64"
      ]
     },
     "execution_count": 13,
     "metadata": {},
     "output_type": "execute_result"
    }
   ],
   "source": [
    "g7_pop"
   ]
  },
  {
   "cell_type": "markdown",
   "id": "rubber-population",
   "metadata": {},
   "source": [
    "Compare it with the [following table](https://docs.google.com/spreadsheets/d/1IlorV2-Oh9Da1JAZ7weVw86PQrQydSMp-ydVMH135iI/edit?usp=sharing): \n",
    "\n",
    "|                |   G7 Population in millions |\n",
    "|:---------------|----------------------------:|\n",
    "| Canada         |                      35.467 |\n",
    "| France         |                      63.951 |\n",
    "| Germany        |                      80.94  |\n",
    "| Italy          |                      60.665 |\n",
    "| Japan          |                     127.061 |\n",
    "| United Kingdom |                      64.511 |\n",
    "| United States  |                     318.523 |\n",
    "\n",
    "Series look like \"ordered dictionaries\". Moreover, we can create Series out of dictionaries:"
   ]
  },
  {
   "cell_type": "code",
   "execution_count": 14,
   "id": "considerable-consultation",
   "metadata": {},
   "outputs": [
    {
     "data": {
      "text/plain": [
       "France             63.951\n",
       "Canada             35.467\n",
       "Germany            80.940\n",
       "Italy              60.665\n",
       "Japan             127.061\n",
       "United Kingdom     64.511\n",
       "United States     318.523\n",
       "Name: G7 Population in millions, dtype: float64"
      ]
     },
     "execution_count": 14,
     "metadata": {},
     "output_type": "execute_result"
    }
   ],
   "source": [
    "pd.Series({\n",
    "    'France': 63.951,\n",
    "    'Canada': 35.467,\n",
    "    'Germany': 80.94,\n",
    "    'Italy': 60.665,\n",
    "    'Japan': 127.061,\n",
    "    'United Kingdom': 64.511,\n",
    "    'United States': 318.523\n",
    "}, name='G7 Population in millions')"
   ]
  },
  {
   "cell_type": "markdown",
   "id": "formed-touch",
   "metadata": {},
   "source": [
    "There are several other \"constructors\" for Series, i.e. different ways of passing in the data needed to create one."
   ]
  },
  {
   "cell_type": "code",
   "execution_count": 15,
   "id": "likely-intake",
   "metadata": {},
   "outputs": [
    {
     "data": {
      "text/plain": [
       "France             63.951\n",
       "Canada             35.467\n",
       "Germany            80.940\n",
       "Italy              60.665\n",
       "Japan             127.061\n",
       "United Kingdom     64.511\n",
       "United States     318.523\n",
       "Name: G7 Population in millions, dtype: float64"
      ]
     },
     "execution_count": 15,
     "metadata": {},
     "output_type": "execute_result"
    }
   ],
   "source": [
    "pd.Series(\n",
    "    [63.951, 35.467, 80.94, 60.665, 127.061, 64.511, 318.523],\n",
    "    index=['France', 'Canada', 'Germany', 'Italy', 'Japan', \n",
    "           'United Kingdom', 'United States'],\n",
    "    name='G7 Population in millions')"
   ]
  },
  {
   "cell_type": "markdown",
   "id": "sudden-therapy",
   "metadata": {},
   "source": [
    "You can create Series out of other series, specifying indexes:"
   ]
  },
  {
   "cell_type": "code",
   "execution_count": 16,
   "id": "swiss-council",
   "metadata": {},
   "outputs": [
    {
     "data": {
      "text/plain": [
       "France     63.951\n",
       "Germany    80.940\n",
       "Italy      60.665\n",
       "Spain         NaN\n",
       "Name: G7 Population in millions, dtype: float64"
      ]
     },
     "execution_count": 16,
     "metadata": {},
     "output_type": "execute_result"
    }
   ],
   "source": [
    "pd.Series(g7_pop, index=['France', 'Germany', 'Italy', 'Spain'])"
   ]
  },
  {
   "cell_type": "markdown",
   "id": "knowing-preservation",
   "metadata": {},
   "source": [
    "<h2 style=\"font-weight: bold;\">\n",
    "    Indexing\n",
    "</h2>\n",
    "\n",
    "![orange-divider](https://user-images.githubusercontent.com/7065401/98619088-44ab6000-22e1-11eb-8f6d-5532e68ab274.png)\n",
    "\n",
    "Indexing works similarly as on lists and dictionaries, you use the **index** of the element you're looking for:"
   ]
  },
  {
   "cell_type": "code",
   "execution_count": 17,
   "id": "silent-gentleman",
   "metadata": {},
   "outputs": [
    {
     "data": {
      "text/plain": [
       "France             63.951\n",
       "Canada             35.467\n",
       "Germany            80.940\n",
       "Italy              60.665\n",
       "Japan             127.061\n",
       "United Kingdom     64.511\n",
       "United States     318.523\n",
       "Name: G7 Population in millions, dtype: float64"
      ]
     },
     "execution_count": 17,
     "metadata": {},
     "output_type": "execute_result"
    }
   ],
   "source": [
    "g7_pop"
   ]
  },
  {
   "cell_type": "code",
   "execution_count": 18,
   "id": "banned-patio",
   "metadata": {},
   "outputs": [
    {
     "data": {
      "text/plain": [
       "35.467"
      ]
     },
     "execution_count": 18,
     "metadata": {},
     "output_type": "execute_result"
    }
   ],
   "source": [
    "g7_pop['Canada']"
   ]
  },
  {
   "cell_type": "code",
   "execution_count": 19,
   "id": "dutch-establishment",
   "metadata": {},
   "outputs": [
    {
     "data": {
      "text/plain": [
       "127.061"
      ]
     },
     "execution_count": 19,
     "metadata": {},
     "output_type": "execute_result"
    }
   ],
   "source": [
    "g7_pop['Japan']"
   ]
  },
  {
   "cell_type": "markdown",
   "id": "minimal-savannah",
   "metadata": {},
   "source": [
    "Numeric positions can also be used, with the `iloc` accessor:"
   ]
  },
  {
   "cell_type": "code",
   "execution_count": 20,
   "id": "hollywood-terrorist",
   "metadata": {},
   "outputs": [
    {
     "data": {
      "text/plain": [
       "63.951"
      ]
     },
     "execution_count": 20,
     "metadata": {},
     "output_type": "execute_result"
    }
   ],
   "source": [
    "g7_pop.iloc[0]"
   ]
  },
  {
   "cell_type": "code",
   "execution_count": 21,
   "id": "instructional-closure",
   "metadata": {},
   "outputs": [
    {
     "data": {
      "text/plain": [
       "318.523"
      ]
     },
     "execution_count": 21,
     "metadata": {},
     "output_type": "execute_result"
    }
   ],
   "source": [
    "g7_pop.iloc[-1]"
   ]
  },
  {
   "cell_type": "code",
   "execution_count": 22,
   "id": "innocent-laser",
   "metadata": {},
   "outputs": [
    {
     "data": {
      "text/plain": [
       "Germany     80.940\n",
       "Italy       60.665\n",
       "Japan      127.061\n",
       "Name: G7 Population in millions, dtype: float64"
      ]
     },
     "execution_count": 22,
     "metadata": {},
     "output_type": "execute_result"
    }
   ],
   "source": [
    "g7_pop.iloc[2:5]"
   ]
  },
  {
   "cell_type": "markdown",
   "id": "dangerous-organization",
   "metadata": {},
   "source": [
    "Selecting multiple elements at once:"
   ]
  },
  {
   "cell_type": "code",
   "execution_count": 23,
   "id": "changed-graham",
   "metadata": {},
   "outputs": [
    {
     "data": {
      "text/plain": [
       "Italy     60.665\n",
       "France    63.951\n",
       "Name: G7 Population in millions, dtype: float64"
      ]
     },
     "execution_count": 23,
     "metadata": {},
     "output_type": "execute_result"
    }
   ],
   "source": [
    "g7_pop[['Italy', 'France']]"
   ]
  },
  {
   "cell_type": "markdown",
   "id": "hollywood-jenny",
   "metadata": {},
   "source": [
    "_(The result is another Series)_"
   ]
  },
  {
   "cell_type": "code",
   "execution_count": 24,
   "id": "convenient-tuning",
   "metadata": {},
   "outputs": [
    {
     "data": {
      "text/plain": [
       "France    63.951\n",
       "Canada    35.467\n",
       "Name: G7 Population in millions, dtype: float64"
      ]
     },
     "execution_count": 24,
     "metadata": {},
     "output_type": "execute_result"
    }
   ],
   "source": [
    "g7_pop.iloc[[0, 1]]"
   ]
  },
  {
   "cell_type": "markdown",
   "id": "occupied-spring",
   "metadata": {},
   "source": [
    "Slicing also works, but **unlike in lists**, in Pandas the upper limit is included:"
   ]
  },
  {
   "cell_type": "code",
   "execution_count": 25,
   "id": "plain-turtle",
   "metadata": {},
   "outputs": [
    {
     "data": {
      "text/plain": [
       "Canada     35.467\n",
       "Germany    80.940\n",
       "Italy      60.665\n",
       "Name: G7 Population in millions, dtype: float64"
      ]
     },
     "execution_count": 25,
     "metadata": {},
     "output_type": "execute_result"
    }
   ],
   "source": [
    "g7_pop['Canada': 'Italy']"
   ]
  },
  {
   "cell_type": "markdown",
   "id": "terminal-promotion",
   "metadata": {},
   "source": [
    "It is usually preferred to use the `.loc` accessor rather than simple square brackets.  It is a few extra characters, but it avoids confusion when the indices of Series are themselves numbers (like in our first pass at `g7_pop`).  A motto in Python is \"explicit is better than implicit\"; we can specifiy whether we mean the name of row or its numeric position."
   ]
  },
  {
   "cell_type": "code",
   "execution_count": 26,
   "id": "designing-piano",
   "metadata": {},
   "outputs": [
    {
     "data": {
      "text/plain": [
       "Canada     35.467\n",
       "Germany    80.940\n",
       "Italy      60.665\n",
       "Name: G7 Population in millions, dtype: float64"
      ]
     },
     "execution_count": 26,
     "metadata": {},
     "output_type": "execute_result"
    }
   ],
   "source": [
    "g7_pop.loc['Canada': 'Italy']"
   ]
  },
  {
   "cell_type": "markdown",
   "id": "modified-kidney",
   "metadata": {},
   "source": [
    "<h2 style=\"font-weight: bold;\">\n",
    "    Conditional selection (Boolean arrays)\n",
    "</h2>\n",
    "\n",
    "![orange-divider](https://user-images.githubusercontent.com/7065401/98619088-44ab6000-22e1-11eb-8f6d-5532e68ab274.png)\n",
    "\n",
    "A special \"Boolean array\" can be used to select from Pandas Series:"
   ]
  },
  {
   "cell_type": "code",
   "execution_count": 27,
   "id": "marked-bibliography",
   "metadata": {},
   "outputs": [
    {
     "data": {
      "text/plain": [
       "France             63.951\n",
       "Canada             35.467\n",
       "Germany            80.940\n",
       "Italy              60.665\n",
       "Japan             127.061\n",
       "United Kingdom     64.511\n",
       "United States     318.523\n",
       "Name: G7 Population in millions, dtype: float64"
      ]
     },
     "execution_count": 27,
     "metadata": {},
     "output_type": "execute_result"
    }
   ],
   "source": [
    "g7_pop"
   ]
  },
  {
   "cell_type": "code",
   "execution_count": 28,
   "id": "defensive-satin",
   "metadata": {},
   "outputs": [
    {
     "data": {
      "text/plain": [
       "France            False\n",
       "Canada            False\n",
       "Germany            True\n",
       "Italy             False\n",
       "Japan              True\n",
       "United Kingdom    False\n",
       "United States      True\n",
       "Name: G7 Population in millions, dtype: bool"
      ]
     },
     "execution_count": 28,
     "metadata": {},
     "output_type": "execute_result"
    }
   ],
   "source": [
    "g7_pop > 70"
   ]
  },
  {
   "cell_type": "code",
   "execution_count": 29,
   "id": "provincial-punishment",
   "metadata": {},
   "outputs": [
    {
     "data": {
      "text/plain": [
       "Germany           80.940\n",
       "Japan            127.061\n",
       "United States    318.523\n",
       "Name: G7 Population in millions, dtype: float64"
      ]
     },
     "execution_count": 29,
     "metadata": {},
     "output_type": "execute_result"
    }
   ],
   "source": [
    "g7_pop[g7_pop > 70]"
   ]
  },
  {
   "cell_type": "markdown",
   "id": "homeless-surrey",
   "metadata": {},
   "source": [
    "Often we create Boolean arrays directly inside square brackets to index elements.  But we can also save the name of a useful filter."
   ]
  },
  {
   "cell_type": "code",
   "execution_count": 30,
   "id": "elementary-theorem",
   "metadata": {},
   "outputs": [
    {
     "data": {
      "text/plain": [
       "Germany           80.940\n",
       "Japan            127.061\n",
       "United States    318.523\n",
       "Name: G7 Population in millions, dtype: float64"
      ]
     },
     "execution_count": 30,
     "metadata": {},
     "output_type": "execute_result"
    }
   ],
   "source": [
    "is_big = g7_pop > 70\n",
    "g7_pop[is_big]"
   ]
  },
  {
   "cell_type": "markdown",
   "id": "foster-draft",
   "metadata": {},
   "source": [
    "Series have various useful methods; many of them are numeric or statistical."
   ]
  },
  {
   "cell_type": "code",
   "execution_count": 31,
   "id": "comprehensive-aspect",
   "metadata": {},
   "outputs": [
    {
     "data": {
      "text/plain": [
       "107.30257142857144"
      ]
     },
     "execution_count": 31,
     "metadata": {},
     "output_type": "execute_result"
    }
   ],
   "source": [
    "g7_pop.mean()"
   ]
  },
  {
   "cell_type": "markdown",
   "id": "clinical-track",
   "metadata": {},
   "source": [
    "We can combine these two capabilities we have just seen:"
   ]
  },
  {
   "cell_type": "code",
   "execution_count": 32,
   "id": "expired-drunk",
   "metadata": {},
   "outputs": [
    {
     "data": {
      "text/plain": [
       "Japan            127.061\n",
       "United States    318.523\n",
       "Name: G7 Population in millions, dtype: float64"
      ]
     },
     "execution_count": 32,
     "metadata": {},
     "output_type": "execute_result"
    }
   ],
   "source": [
    "g7_pop[g7_pop > g7_pop.mean()]"
   ]
  },
  {
   "cell_type": "code",
   "execution_count": 35,
   "id": "restricted-policy",
   "metadata": {},
   "outputs": [
    {
     "data": {
      "text/plain": [
       "Germany           80.940\n",
       "Japan            127.061\n",
       "United States    318.523\n",
       "Name: G7 Population in millions, dtype: float64"
      ]
     },
     "execution_count": 35,
     "metadata": {},
     "output_type": "execute_result"
    }
   ],
   "source": [
    "g7_pop[g7_pop > g7_pop.median()]"
   ]
  },
  {
   "cell_type": "code",
   "execution_count": 36,
   "id": "extra-template",
   "metadata": {},
   "outputs": [
    {
     "data": {
      "text/plain": [
       "97.24996987121581"
      ]
     },
     "execution_count": 36,
     "metadata": {},
     "output_type": "execute_result"
    }
   ],
   "source": [
    "g7_pop.std()"
   ]
  },
  {
   "cell_type": "markdown",
   "id": "incoming-footage",
   "metadata": {},
   "source": [
    "We can use symbols as logical connectors for several different filters.\n",
    "\n",
    "| Symbol | Meaning\n",
    "|--------|---------\n",
    "| ~      | not\n",
    "| &#124; | or\n",
    "| &      | and"
   ]
  },
  {
   "cell_type": "markdown",
   "id": "subject-north",
   "metadata": {},
   "source": [
    "A common pitfall is failing to parenthesize subexpressions separated by these symbols.  Often it will give you **some** answer, but the wrong one, when you do that."
   ]
  },
  {
   "cell_type": "markdown",
   "id": "upset-algebra",
   "metadata": {},
   "source": [
    "Let us select the G7 countries with population within 1/2 standard deviation of the mean."
   ]
  },
  {
   "cell_type": "code",
   "execution_count": 38,
   "id": "national-fifth",
   "metadata": {},
   "outputs": [
    {
     "data": {
      "text/plain": [
       "France             63.951\n",
       "Germany            80.940\n",
       "Italy              60.665\n",
       "Japan             127.061\n",
       "United Kingdom     64.511\n",
       "Name: Mid-sized G7 countries, dtype: float64"
      ]
     },
     "execution_count": 38,
     "metadata": {},
     "output_type": "execute_result"
    }
   ],
   "source": [
    "g7_pop[(g7_pop > (g7_pop.mean() - g7_pop.std()/2)) &\n",
    "       (g7_pop < (g7_pop.mean() + g7_pop.std()/2))\n",
    "      ].rename('Mid-sized G7 countries')"
   ]
  },
  {
   "cell_type": "markdown",
   "id": "amber-notification",
   "metadata": {},
   "source": [
    "That was a powerful query, but perhaps hard to read.  We might break it into steps."
   ]
  },
  {
   "cell_type": "code",
   "execution_count": 39,
   "id": "national-trauma",
   "metadata": {},
   "outputs": [
    {
     "name": "stdout",
     "output_type": "stream",
     "text": [
      "58.677586492963535 155.92755636417934\n"
     ]
    },
    {
     "data": {
      "text/plain": [
       "France             63.951\n",
       "Germany            80.940\n",
       "Italy              60.665\n",
       "Japan             127.061\n",
       "United Kingdom     64.511\n",
       "Name: G7 Population in millions, dtype: float64"
      ]
     },
     "execution_count": 39,
     "metadata": {},
     "output_type": "execute_result"
    }
   ],
   "source": [
    "bottom = g7_pop.mean() - g7_pop.std()/2\n",
    "top = g7_pop.mean() + g7_pop.std()/2\n",
    "print(bottom, top)\n",
    "\n",
    "g7_pop[(g7_pop > bottom) & (g7_pop < top)]"
   ]
  },
  {
   "cell_type": "markdown",
   "id": "subjective-warning",
   "metadata": {},
   "source": [
    "<h2 style=\"font-weight: bold;\">\n",
    "    Operations and methods\n",
    "</h2>\n",
    "\n",
    "![orange-divider](https://user-images.githubusercontent.com/7065401/98619088-44ab6000-22e1-11eb-8f6d-5532e68ab274.png)\n",
    "\n",
    "Series support \"vectorized\" operations and aggregation functions:"
   ]
  },
  {
   "cell_type": "code",
   "execution_count": 40,
   "id": "paperback-massachusetts",
   "metadata": {},
   "outputs": [
    {
     "data": {
      "text/plain": [
       "France             63.951\n",
       "Canada             35.467\n",
       "Germany            80.940\n",
       "Italy              60.665\n",
       "Japan             127.061\n",
       "United Kingdom     64.511\n",
       "United States     318.523\n",
       "Name: G7 Population in millions, dtype: float64"
      ]
     },
     "execution_count": 40,
     "metadata": {},
     "output_type": "execute_result"
    }
   ],
   "source": [
    "g7_pop"
   ]
  },
  {
   "cell_type": "code",
   "execution_count": 43,
   "id": "recognized-alcohol",
   "metadata": {},
   "outputs": [
    {
     "data": {
      "text/plain": [
       "France             63951000.0\n",
       "Canada             35467000.0\n",
       "Germany            80940000.0\n",
       "Italy              60665000.0\n",
       "Japan             127061000.0\n",
       "United Kingdom     64511000.0\n",
       "United States     318523000.0\n",
       "Name: G7 population, dtype: float64"
      ]
     },
     "execution_count": 43,
     "metadata": {},
     "output_type": "execute_result"
    }
   ],
   "source": [
    "g7_pop_persons = (g7_pop * 1_000_000).rename(\"G7 population\")\n",
    "g7_pop_persons"
   ]
  },
  {
   "cell_type": "code",
   "execution_count": 44,
   "id": "narrative-migration",
   "metadata": {},
   "outputs": [
    {
     "name": "stdout",
     "output_type": "stream",
     "text": [
      "107,302,571\n"
     ]
    }
   ],
   "source": [
    "mean = (g7_pop * 1e6).mean()\n",
    "print(f\"{mean:,.0f}\")"
   ]
  },
  {
   "cell_type": "markdown",
   "id": "thermal-wyoming",
   "metadata": {},
   "source": [
    "Perhaps we would like to think just of \"order of magnitude\" of these populations."
   ]
  },
  {
   "cell_type": "code",
   "execution_count": 45,
   "id": "celtic-ticket",
   "metadata": {},
   "outputs": [
    {
     "data": {
      "text/plain": [
       "France            7.805847\n",
       "Canada            7.549824\n",
       "Germany           7.908163\n",
       "Italy             7.782938\n",
       "Japan             8.104012\n",
       "United Kingdom    7.809634\n",
       "United States     8.503141\n",
       "Name: G7 Population in millions, dtype: float64"
      ]
     },
     "execution_count": 45,
     "metadata": {},
     "output_type": "execute_result"
    }
   ],
   "source": [
    "np.log10(g7_pop * 1e6)"
   ]
  },
  {
   "cell_type": "markdown",
   "id": "phantom-edition",
   "metadata": {},
   "source": [
    "We might aggregate over a subset of the data."
   ]
  },
  {
   "cell_type": "code",
   "execution_count": 46,
   "id": "abroad-mediterranean",
   "metadata": {},
   "outputs": [
    {
     "data": {
      "text/plain": [
       "60.25575"
      ]
     },
     "execution_count": 46,
     "metadata": {},
     "output_type": "execute_result"
    }
   ],
   "source": [
    "g7_pop['France': 'Italy'].mean()"
   ]
  },
  {
   "cell_type": "markdown",
   "id": "immune-helmet",
   "metadata": {},
   "source": [
    "Looking at Series in particular orders can be useful. For example, perhaps alphabetically by the index."
   ]
  },
  {
   "cell_type": "code",
   "execution_count": 47,
   "id": "given-communication",
   "metadata": {},
   "outputs": [
    {
     "data": {
      "text/plain": [
       "Canada             35.467\n",
       "France             63.951\n",
       "Germany            80.940\n",
       "Italy              60.665\n",
       "Japan             127.061\n",
       "United Kingdom     64.511\n",
       "United States     318.523\n",
       "Name: G7 Population in millions, dtype: float64"
      ]
     },
     "execution_count": 47,
     "metadata": {},
     "output_type": "execute_result"
    }
   ],
   "source": [
    "g7_pop.sort_index()"
   ]
  },
  {
   "cell_type": "markdown",
   "id": "dental-simpson",
   "metadata": {},
   "source": [
    "Or in order by the population."
   ]
  },
  {
   "cell_type": "code",
   "execution_count": 48,
   "id": "endless-inspector",
   "metadata": {},
   "outputs": [
    {
     "data": {
      "text/plain": [
       "Canada             35.467\n",
       "Italy              60.665\n",
       "France             63.951\n",
       "United Kingdom     64.511\n",
       "Germany            80.940\n",
       "Japan             127.061\n",
       "United States     318.523\n",
       "Name: G7 Population in millions, dtype: float64"
      ]
     },
     "execution_count": 48,
     "metadata": {},
     "output_type": "execute_result"
    }
   ],
   "source": [
    "g7_pop.sort_values()"
   ]
  },
  {
   "cell_type": "code",
   "execution_count": 49,
   "id": "industrial-combine",
   "metadata": {},
   "outputs": [
    {
     "data": {
      "text/plain": [
       "United States     318.523\n",
       "Japan             127.061\n",
       "Germany            80.940\n",
       "United Kingdom     64.511\n",
       "France             63.951\n",
       "Italy              60.665\n",
       "Canada             35.467\n",
       "Name: G7 Population in millions, dtype: float64"
      ]
     },
     "execution_count": 49,
     "metadata": {},
     "output_type": "execute_result"
    }
   ],
   "source": [
    "g7_pop.sort_values(ascending=False)"
   ]
  },
  {
   "cell_type": "markdown",
   "id": "painted-enlargement",
   "metadata": {},
   "source": [
    "<h2 style=\"font-weight: bold;\">\n",
    "    Modifying series\n",
    "</h2>\n",
    "\n",
    "![orange-divider](https://user-images.githubusercontent.com/7065401/98619088-44ab6000-22e1-11eb-8f6d-5532e68ab274.png)\n"
   ]
  },
  {
   "cell_type": "markdown",
   "id": "bronze-thunder",
   "metadata": {},
   "source": [
    "Let us make some changes to populations hypothetically.  Perhaps these are projections or hypotheticals."
   ]
  },
  {
   "cell_type": "code",
   "execution_count": 50,
   "id": "threaded-allah",
   "metadata": {},
   "outputs": [
    {
     "data": {
      "text/plain": [
       "France             63.951\n",
       "Canada             35.467\n",
       "Germany            80.940\n",
       "Italy              60.665\n",
       "Japan             127.061\n",
       "United Kingdom     64.511\n",
       "United States     318.523\n",
       "Name: Imagined populations, dtype: float64"
      ]
     },
     "execution_count": 50,
     "metadata": {},
     "output_type": "execute_result"
    }
   ],
   "source": [
    "g7_imagined = g7_pop.copy()\n",
    "g7_imagined.rename(\"Imagined populations\", inplace=True)\n",
    "g7_imagined"
   ]
  },
  {
   "cell_type": "code",
   "execution_count": 51,
   "id": "magnetic-naples",
   "metadata": {},
   "outputs": [
    {
     "data": {
      "text/plain": [
       "France             63.951\n",
       "Canada             40.500\n",
       "Germany            80.940\n",
       "Italy              60.665\n",
       "Japan             127.061\n",
       "United Kingdom     64.511\n",
       "United States     318.523\n",
       "Name: Imagined populations, dtype: float64"
      ]
     },
     "execution_count": 51,
     "metadata": {},
     "output_type": "execute_result"
    }
   ],
   "source": [
    "g7_imagined.loc['Canada'] = 40.5\n",
    "g7_imagined"
   ]
  },
  {
   "cell_type": "markdown",
   "id": "increasing-assist",
   "metadata": {},
   "source": [
    "Perhaps we stipulate by index position."
   ]
  },
  {
   "cell_type": "code",
   "execution_count": 52,
   "id": "efficient-mistress",
   "metadata": {},
   "outputs": [
    {
     "data": {
      "text/plain": [
       "France             63.951\n",
       "Canada             40.500\n",
       "Germany            80.940\n",
       "Italy              60.665\n",
       "Japan             127.061\n",
       "United Kingdom     64.511\n",
       "United States     500.000\n",
       "Name: Imagined populations, dtype: float64"
      ]
     },
     "execution_count": 52,
     "metadata": {},
     "output_type": "execute_result"
    }
   ],
   "source": [
    "g7_imagined.iloc[-1] = 500\n",
    "g7_imagined"
   ]
  },
  {
   "cell_type": "markdown",
   "id": "level-windsor",
   "metadata": {},
   "source": [
    "Recall how we might filter."
   ]
  },
  {
   "cell_type": "code",
   "execution_count": 53,
   "id": "ordinary-screen",
   "metadata": {},
   "outputs": [
    {
     "data": {
      "text/plain": [
       "France            63.951\n",
       "Canada            40.500\n",
       "Italy             60.665\n",
       "United Kingdom    64.511\n",
       "Name: Imagined populations, dtype: float64"
      ]
     },
     "execution_count": 53,
     "metadata": {},
     "output_type": "execute_result"
    }
   ],
   "source": [
    "g7_imagined[g7_imagined < 70]"
   ]
  },
  {
   "cell_type": "markdown",
   "id": "controversial-juice",
   "metadata": {},
   "source": [
    "We can also modify based on the filter."
   ]
  },
  {
   "cell_type": "code",
   "execution_count": 54,
   "id": "dying-exposure",
   "metadata": {},
   "outputs": [
    {
     "data": {
      "text/plain": [
       "France             99.990\n",
       "Canada             99.990\n",
       "Germany            80.940\n",
       "Italy              99.990\n",
       "Japan             127.061\n",
       "United Kingdom     99.990\n",
       "United States     500.000\n",
       "Name: Imagined populations, dtype: float64"
      ]
     },
     "execution_count": 54,
     "metadata": {},
     "output_type": "execute_result"
    }
   ],
   "source": [
    "g7_imagined[g7_imagined < 70] = 99.99\n",
    "g7_imagined"
   ]
  },
  {
   "cell_type": "markdown",
   "id": "environmental-coast",
   "metadata": {},
   "source": [
    "<div style=\"width: 100%; height: 200px; background-color: #ef7d22; text-align: center; padding-top: 20px; margin-bottom: 40px;\">\n",
    "<br><br>\n",
    "\n",
    "<h1 style=\"color: white; font-weight: bold;\">\n",
    "    Exercises\n",
    "</h1>\n",
    "\n",
    "<br><br> \n",
    "</div>"
   ]
  },
  {
   "cell_type": "markdown",
   "id": "unique-overhead",
   "metadata": {},
   "source": [
    "<h2 style=\"font-weight: bold;\">\n",
    "    Series creation\n",
    "</h2>\n",
    "\n",
    "![orange-divider](https://user-images.githubusercontent.com/7065401/98619088-44ab6000-22e1-11eb-8f6d-5532e68ab274.png)\n"
   ]
  },
  {
   "cell_type": "markdown",
   "id": "vietnamese-captain",
   "metadata": {},
   "source": [
    "---\n",
    "### Create an empty pandas Series"
   ]
  },
  {
   "cell_type": "code",
   "execution_count": null,
   "id": "wooden-cylinder",
   "metadata": {},
   "outputs": [],
   "source": [
    "# your code goes here"
   ]
  },
  {
   "cell_type": "markdown",
   "id": "champion-leadership",
   "metadata": {},
   "source": [
    "---\n",
    "### Given the X python list convert it to an Y pandas Series"
   ]
  },
  {
   "cell_type": "code",
   "execution_count": null,
   "id": "affecting-burton",
   "metadata": {},
   "outputs": [],
   "source": [
    "# your code goes here\n",
    "X = ['A','B','C']\n",
    "print(X, type(X))"
   ]
  },
  {
   "cell_type": "markdown",
   "id": "pregnant-possibility",
   "metadata": {},
   "source": [
    "---\n",
    "### Given the X pandas Series, name it 'My letters'"
   ]
  },
  {
   "cell_type": "code",
   "execution_count": null,
   "id": "innocent-field",
   "metadata": {},
   "outputs": [],
   "source": [
    "# your code goes here\n",
    "X = pd.Series(['A','B','C'])\n",
    "X"
   ]
  },
  {
   "cell_type": "markdown",
   "id": "dominant-manchester",
   "metadata": {},
   "source": [
    "---\n",
    "### Given the X pandas Series, show its values"
   ]
  },
  {
   "cell_type": "code",
   "execution_count": null,
   "id": "different-baking",
   "metadata": {},
   "outputs": [],
   "source": [
    "# your code goes here\n",
    "X = pd.Series(['A','B','C'])"
   ]
  },
  {
   "cell_type": "markdown",
   "id": "embedded-cement",
   "metadata": {},
   "source": [
    "<h2 style=\"font-weight: bold;\">\n",
    "    Series indexing\n",
    "</h2>\n",
    "\n",
    "![orange-divider](https://user-images.githubusercontent.com/7065401/98619088-44ab6000-22e1-11eb-8f6d-5532e68ab274.png)"
   ]
  },
  {
   "cell_type": "markdown",
   "id": "occupational-president",
   "metadata": {},
   "source": [
    "---\n",
    "### Assign index names to the given X pandas Series\n"
   ]
  },
  {
   "cell_type": "code",
   "execution_count": null,
   "id": "sophisticated-validation",
   "metadata": {},
   "outputs": [],
   "source": [
    "# your code goes here\n",
    "X = pd.Series(['A','B','C'])\n",
    "X"
   ]
  },
  {
   "cell_type": "markdown",
   "id": "directed-fleet",
   "metadata": {},
   "source": [
    "---\n",
    "### Given the X pandas Series, show its first element"
   ]
  },
  {
   "cell_type": "code",
   "execution_count": null,
   "id": "refined-continent",
   "metadata": {},
   "outputs": [],
   "source": [
    "X = pd.Series(['A','B','C'], index=['first', 'second', 'third'])\n",
    "# your code goes here"
   ]
  },
  {
   "cell_type": "markdown",
   "id": "japanese-saver",
   "metadata": {},
   "source": [
    "---\n",
    "### Given the X pandas Series, show its last element"
   ]
  },
  {
   "cell_type": "code",
   "execution_count": null,
   "id": "dirty-metadata",
   "metadata": {},
   "outputs": [],
   "source": [
    "X = pd.Series(['A','B','C'], index=['first', 'second', 'third'])\n",
    "# your code goes here"
   ]
  },
  {
   "cell_type": "markdown",
   "id": "adolescent-irish",
   "metadata": {},
   "source": [
    "---\n",
    "### Given the X pandas Series, show all middle elements"
   ]
  },
  {
   "cell_type": "code",
   "execution_count": null,
   "id": "treated-commander",
   "metadata": {},
   "outputs": [],
   "source": [
    "# your code goes here\n",
    "X = pd.Series(['A','B','C','D','E'],\n",
    "              index=['first','second','third','forth','fifth'])"
   ]
  },
  {
   "cell_type": "markdown",
   "id": "declared-pepper",
   "metadata": {},
   "source": [
    "---\n",
    "### Given the X pandas Series, show the elements in reverse position"
   ]
  },
  {
   "cell_type": "code",
   "execution_count": null,
   "id": "massive-failure",
   "metadata": {},
   "outputs": [],
   "source": [
    "# your code goes here\n",
    "X = pd.Series(['A','B','C','D','E'],\n",
    "              index=['first','second','third','forth','fifth'])"
   ]
  },
  {
   "cell_type": "markdown",
   "id": "sitting-folder",
   "metadata": {},
   "source": [
    "---\n",
    "### Given the X pandas Series, show the first and last elements"
   ]
  },
  {
   "cell_type": "code",
   "execution_count": null,
   "id": "asian-dealer",
   "metadata": {},
   "outputs": [],
   "source": [
    "# your code goes here\n",
    "X = pd.Series(['A','B','C','D','E'],\n",
    "              index=['first','second','third','fourth','fifth'])"
   ]
  },
  {
   "cell_type": "markdown",
   "id": "charitable-stamp",
   "metadata": {},
   "source": [
    "<h2 style=\"font-weight: bold;\">\n",
    "    Series manipulation\n",
    "</h2>\n",
    "\n",
    "![orange-divider](https://user-images.githubusercontent.com/7065401/98619088-44ab6000-22e1-11eb-8f6d-5532e68ab274.png)"
   ]
  },
  {
   "cell_type": "markdown",
   "id": "correct-squad",
   "metadata": {},
   "source": [
    "---\n",
    "### Convert the given integer pandas Series to float\n"
   ]
  },
  {
   "cell_type": "code",
   "execution_count": null,
   "id": "small-pioneer",
   "metadata": {},
   "outputs": [],
   "source": [
    "# your code goes here\n",
    "X = pd.Series([1, 2, 3, 4, 5],\n",
    "              index=['first', 'second', 'third', 'fourth', 'fifth'])\n",
    "X"
   ]
  },
  {
   "cell_type": "markdown",
   "id": "dominant-makeup",
   "metadata": {},
   "source": [
    "---\n",
    "### Order (sort) the given pandas Series"
   ]
  },
  {
   "cell_type": "code",
   "execution_count": null,
   "id": "fourth-assumption",
   "metadata": {},
   "outputs": [],
   "source": [
    "X = pd.Series([4, 2, 5, 1, 3],\n",
    "              index=['fourth', 'second', 'fifth', 'first', 'third'])\n",
    "# your code goes here"
   ]
  },
  {
   "cell_type": "markdown",
   "id": "governmental-japanese",
   "metadata": {},
   "source": [
    "---\n",
    "### Given the X pandas Series, set the fifth element equal to 10"
   ]
  },
  {
   "cell_type": "code",
   "execution_count": null,
   "id": "handled-wrapping",
   "metadata": {},
   "outputs": [],
   "source": [
    "X = pd.Series([1, 2, 3, 4, 5],\n",
    "              index=['A', 'B', 'C', 'D', 'E'])\n",
    "# your code goes here"
   ]
  },
  {
   "cell_type": "markdown",
   "id": "planned-homework",
   "metadata": {},
   "source": [
    "---\n",
    "### Given the X pandas Series, change all the middle elements to 0"
   ]
  },
  {
   "cell_type": "code",
   "execution_count": null,
   "id": "passing-gravity",
   "metadata": {},
   "outputs": [],
   "source": [
    "# your code goes here\n",
    "X = pd.Series([1, 2, 3, 4, 5],\n",
    "              index=['A', 'B', 'C', 'D', 'E'])"
   ]
  },
  {
   "cell_type": "markdown",
   "id": "surgical-headline",
   "metadata": {},
   "source": [
    "---\n",
    "### Given the X pandas Series, add 5 to every element"
   ]
  },
  {
   "cell_type": "code",
   "execution_count": null,
   "id": "athletic-thesis",
   "metadata": {},
   "outputs": [],
   "source": [
    "X = pd.Series([1,2,3,4,5],\n",
    "              index=['A','B','C','D','E'])\n",
    "# your code goes here\n"
   ]
  },
  {
   "cell_type": "markdown",
   "id": "korean-engagement",
   "metadata": {},
   "source": [
    "<h2 style=\"font-weight: bold;\">\n",
    "    Boolean arrays (also called masks)\n",
    "</h2>\n",
    "\n",
    "![orange-divider](https://user-images.githubusercontent.com/7065401/98619088-44ab6000-22e1-11eb-8f6d-5532e68ab274.png)"
   ]
  },
  {
   "cell_type": "markdown",
   "id": "tired-space",
   "metadata": {},
   "source": [
    "---\n",
    "### Given the X pandas Series, make a mask showing negative elements\n"
   ]
  },
  {
   "cell_type": "code",
   "execution_count": null,
   "id": "latter-expense",
   "metadata": {},
   "outputs": [],
   "source": [
    "X = pd.Series([-1, 2, 0, -4, 5, 6, 0, 0, -9, 10])\n",
    "# your code goes here"
   ]
  },
  {
   "cell_type": "markdown",
   "id": "median-crazy",
   "metadata": {},
   "source": [
    "---\n",
    "### Given the X pandas Series, get the negative elements"
   ]
  },
  {
   "cell_type": "code",
   "execution_count": null,
   "id": "breathing-summit",
   "metadata": {},
   "outputs": [],
   "source": [
    "X = pd.Series([-1, 2, 0, -4, 5, 6, 0, 0, -9, 10])\n",
    "# your code goes here"
   ]
  },
  {
   "cell_type": "markdown",
   "id": "graphic-visiting",
   "metadata": {},
   "source": [
    "---\n",
    "### Given the X pandas Series, get numbers larger than 5\n"
   ]
  },
  {
   "cell_type": "code",
   "execution_count": null,
   "id": "military-delicious",
   "metadata": {},
   "outputs": [],
   "source": [
    "X = pd.Series([-1, 2, 0, -4, 5, 6, 0, 0, -9, 10])\n",
    "# your code goes here"
   ]
  },
  {
   "cell_type": "markdown",
   "id": "bridal-bandwidth",
   "metadata": {},
   "source": [
    "---\n",
    "### Given the X pandas Series, select numbers higher than the elements mean"
   ]
  },
  {
   "cell_type": "code",
   "execution_count": null,
   "id": "subjective-species",
   "metadata": {},
   "outputs": [],
   "source": [
    "X = pd.Series([-1, 2, 0, -4, 5, 6, 0, 0, -9, 10])\n",
    "# your code goes here"
   ]
  },
  {
   "cell_type": "markdown",
   "id": "liable-private",
   "metadata": {},
   "source": [
    "---\n",
    "### Given the X pandas Series, get numbers equal to 2 or 10"
   ]
  },
  {
   "cell_type": "code",
   "execution_count": null,
   "id": "ongoing-aaron",
   "metadata": {},
   "outputs": [],
   "source": [
    "X = pd.Series([-1, 2, 0, -4, 5, 6, 0, 0, -9, 10])\n",
    "# your code goes here"
   ]
  },
  {
   "cell_type": "markdown",
   "id": "featured-bookmark",
   "metadata": {},
   "source": [
    "<h2 style=\"font-weight: bold;\">\n",
    "    Logic functions\n",
    "</h2>\n",
    "\n",
    "![orange-divider](https://user-images.githubusercontent.com/7065401/98619088-44ab6000-22e1-11eb-8f6d-5532e68ab274.png)"
   ]
  },
  {
   "cell_type": "markdown",
   "id": "excess-morris",
   "metadata": {},
   "source": [
    "---\n",
    "### Given the X pandas Series, return True if none of its elements is zero"
   ]
  },
  {
   "cell_type": "code",
   "execution_count": null,
   "id": "legitimate-nursery",
   "metadata": {},
   "outputs": [],
   "source": [
    "X = pd.Series([-1, 2, 0, -4, 5, 6, 0, 0, -9, 10])\n",
    "# your code goes here"
   ]
  },
  {
   "cell_type": "markdown",
   "id": "greater-inflation",
   "metadata": {},
   "source": [
    "---\n",
    "### Given the X pandas Series, return True if any of its elements is zero"
   ]
  },
  {
   "cell_type": "code",
   "execution_count": null,
   "id": "sophisticated-significance",
   "metadata": {},
   "outputs": [],
   "source": [
    "X = pd.Series([-1, 2, 0, -4, 5, 6, 0, 0, -9, 10])\n",
    "# your code goes here"
   ]
  },
  {
   "cell_type": "markdown",
   "id": "equipped-maryland",
   "metadata": {},
   "source": [
    "<h2 style=\"font-weight: bold;\">\n",
    "    Summary statistics\n",
    "</h2>\n",
    "\n",
    "![orange-divider](https://user-images.githubusercontent.com/7065401/98619088-44ab6000-22e1-11eb-8f6d-5532e68ab274.png)"
   ]
  },
  {
   "cell_type": "markdown",
   "id": "dominican-performance",
   "metadata": {},
   "source": [
    "---\n",
    "### Given the X pandas Series, show the sum of its elements\n"
   ]
  },
  {
   "cell_type": "code",
   "execution_count": null,
   "id": "eastern-plymouth",
   "metadata": {},
   "outputs": [],
   "source": [
    "X = pd.Series([3, 5, 6, 7, 2, 3, 4, 9, 4])\n",
    "# your code goes here"
   ]
  },
  {
   "cell_type": "markdown",
   "id": "greenhouse-upgrade",
   "metadata": {},
   "source": [
    "---\n",
    "### Given the X pandas Series, show the mean value of its elements"
   ]
  },
  {
   "cell_type": "code",
   "execution_count": null,
   "id": "excessive-spanking",
   "metadata": {},
   "outputs": [],
   "source": [
    "X = pd.Series([1, 2, 0, 4, 5, 6, 0, 0, 9, 10])\n",
    "# your code goes here"
   ]
  },
  {
   "cell_type": "markdown",
   "id": "amazing-links",
   "metadata": {},
   "source": [
    "---\n",
    "### Given the X pandas Series, show the max value of its elements"
   ]
  },
  {
   "cell_type": "code",
   "execution_count": null,
   "id": "ordinary-learning",
   "metadata": {},
   "outputs": [],
   "source": [
    "X = pd.Series([1, 2, 0, 4, 5, 6, 0, 0, 9, 10])\n",
    "# your code goes here"
   ]
  },
  {
   "cell_type": "markdown",
   "id": "subjective-quantum",
   "metadata": {},
   "source": [
    "<div style=\"width: 100%; height: 400px; background-color: #222; text-align: center; padding-top: 120px;\">\n",
    "<br><br>\n",
    "\n",
    "<h1 style=\"color: white; font-weight: bold;\">\n",
    "    Review and questions\n",
    "</h1>\n",
    "\n",
    "<br><br> \n",
    "</div>"
   ]
  },
  {
   "cell_type": "markdown",
   "id": "knowing-pricing",
   "metadata": {},
   "source": [
    "---\n",
    "<div style=\"position: relative; text-align: right;\">\n",
    "<img src=\"https://user-images.githubusercontent.com/7065401/98614301-dcf01780-22d6-11eb-9c8f-65ebfceac6f6.png\" style=\"width: 130px; display: inline-block;\"></img>\n",
    "\n",
    "<img src=\"https://user-images.githubusercontent.com/7065401/98864025-08deda80-2448-11eb-9600-22aa17884cdf.png\" style=\"height: 100%; max-height: inherit; position: absolute; top: 20%; left: 0px;\"></img>\n",
    "<br>\n",
    "\n",
    "<h2 style=\"font-weight: bold;\">\n",
    "    David Mertz, Ph.D.\n",
    "</h2>\n",
    "\n",
    "<h3 style=\"color: #ef7d22; margin-top: 0.8em\">\n",
    "    Data Scientist\n",
    "</h3>\n",
    "<hr>\n",
    "<br><br>\n",
    "\n",
    "<p style=\"font-size: 80%; text-align: right; margin: 10px 0px;\">\n",
    "    david.mertz@gmail.com\n",
    "</p>\n",
    "<p style=\"font-size: 80%; text-align: right; margin: 10px 0px;\">\n",
    "    linkedin.com/in/dmertz/\n",
    "</p>\n",
    "\n",
    "</div>\n",
    "\n",
    "<br><br><br>"
   ]
  }
 ],
 "metadata": {
  "kernelspec": {
   "display_name": "Python 3",
   "language": "python",
   "name": "python3"
  },
  "language_info": {
   "codemirror_mode": {
    "name": "ipython",
    "version": 3
   },
   "file_extension": ".py",
   "mimetype": "text/x-python",
   "name": "python",
   "nbconvert_exporter": "python",
   "pygments_lexer": "ipython3",
   "version": "3.9.2"
  }
 },
 "nbformat": 4,
 "nbformat_minor": 5
}
