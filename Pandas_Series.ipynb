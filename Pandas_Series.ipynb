{
 "cells": [
  {
   "cell_type": "markdown",
   "id": "vital-withdrawal",
   "metadata": {},
   "source": [
    "<div style=\"position: relative;\">\n",
    "<img src=\"https://user-images.githubusercontent.com/7065401/98728503-5ab82f80-2378-11eb-9c79-adeb308fc647.png\"></img>\n",
    "\n",
    "<h1 style=\"color: white; position: absolute; top:27%; left:10%;\">\n",
    "     INE Bootcamp\n",
    "</h1>\n",
    "<h2 style=\"color: white; position: absolute; top:36%; left:10%;\">\n",
    "    Data Analysis, Visualization and Predictive Modeling\n",
    "</h2> \n",
    "\n",
    "<h3 style=\"color: #ef7d22; font-weight: normal; position: absolute; top:58%; left:10%;\">\n",
    "    David Mertz, Ph.D.\n",
    "</h3>\n",
    "\n",
    "<h3 style=\"color: #ef7d22; font-weight: normal; position: absolute; top:63%; left:10%;\">\n",
    "    Data Scientist\n",
    "</h3>\n",
    "</div>"
   ]
  },
  {
   "cell_type": "markdown",
   "id": "corporate-dollar",
   "metadata": {},
   "source": [
    "# Introducing Pandas Series\n",
    "\n",
    "<img src=\"https://user-images.githubusercontent.com/7065401/75165824-badf4680-5701-11ea-9c5b-5475b0a33abf.png\" style=\"width:200px; float: right; margin: 0 40px 40px 40px;\"/>\n",
    "\n",
    "The Pandas (Panel Data) Python library is a very powerful tool for data manipulation and analysis.  We will talk about it throughout several lessons of this bootcamp, and even assume familiarity with Pandas in later lessons.\n",
    "\n",
    "The basic data type/collection in Pandas is the `Series`.  More often—once you get to know Pandas—you will find yourself working with another kind of collection, called a `DataFrame`.  A Series is an array of data having the same data type that is also labeled in ways more meaningful than only by index position.\n",
    "\n",
    "A special relationship exists between these two though: a DataFrame is a way of collecting together one or more Series.  Most operations on Series and DataFrames are very similar.  We start with the simpler data collection.\n",
    "\n",
    "At the start, we can import Pandas, by convention it is usually given the two-letter name `pd` within Python programs.  We also import the library NumPy, using the conventional short name `np`.  This bootcamp will not discuss NumPy specifically, but Pandas' Series are built on top of NumPy `ndarrays`, and occasionally we want to use capabilities of their underlying arrrays."
   ]
  },
  {
   "cell_type": "code",
   "execution_count": null,
   "id": "abstract-municipality",
   "metadata": {},
   "outputs": [],
   "source": [
    "import pandas as pd\n",
    "import numpy as np"
   ]
  },
  {
   "cell_type": "markdown",
   "id": "intelligent-threat",
   "metadata": {},
   "source": [
    "## Pandas Series\n",
    "\n",
    "We'll start analyzing \"[The Group of Seven](https://en.wikipedia.org/wiki/Group_of_Seven)\". Which is a political formed by Canada, France, Germany, Italy, Japan, the United Kingdom and the United States. We'll start by analyzing population, and for that, we'll use a `pandas.Series` object."
   ]
  },
  {
   "cell_type": "code",
   "execution_count": null,
   "id": "needed-metropolitan",
   "metadata": {},
   "outputs": [],
   "source": [
    "# In millions\n",
    "populations = [63.951, 35.467, 80.940, 60.665, 127.061, 64.511, 318.523]\n",
    "g7_pop = pd.Series(populations)\n",
    "g7_pop"
   ]
  },
  {
   "cell_type": "markdown",
   "id": "enhanced-genius",
   "metadata": {},
   "source": [
    "Someone might not know we're representing population in millions of inhabitants. Series can have a `name`, to better document the purpose of the Series:"
   ]
  },
  {
   "cell_type": "code",
   "execution_count": null,
   "id": "considerable-flight",
   "metadata": {},
   "outputs": [],
   "source": [
    "g7_pop.name = 'G7 Population in millions'"
   ]
  },
  {
   "cell_type": "code",
   "execution_count": null,
   "id": "fancy-kernel",
   "metadata": {},
   "outputs": [],
   "source": [
    "g7_pop"
   ]
  },
  {
   "cell_type": "raw",
   "id": "overall-iceland",
   "metadata": {},
   "source": [
    "Series always have a common data type for each of their elements."
   ]
  },
  {
   "cell_type": "code",
   "execution_count": null,
   "id": "instant-gardening",
   "metadata": {},
   "outputs": [],
   "source": [
    "g7_pop.dtype"
   ]
  },
  {
   "cell_type": "code",
   "execution_count": null,
   "id": "federal-robinson",
   "metadata": {},
   "outputs": [],
   "source": [
    "g7_pop.values"
   ]
  },
  {
   "cell_type": "markdown",
   "id": "thermal-communist",
   "metadata": {},
   "source": [
    "Series wrap underlying NumPy arrays:"
   ]
  },
  {
   "cell_type": "code",
   "execution_count": null,
   "id": "secure-hudson",
   "metadata": {},
   "outputs": [],
   "source": [
    "type(g7_pop.values)"
   ]
  },
  {
   "cell_type": "markdown",
   "id": "working-panel",
   "metadata": {},
   "source": [
    "And they _look_ like simple Python lists or Numpy arrays. But they're actually more similar to Python `dict`s.\n",
    "\n",
    "A Series has an `index`, that's similar to the automatic index assigned to Python's lists:"
   ]
  },
  {
   "cell_type": "code",
   "execution_count": null,
   "id": "female-granny",
   "metadata": {},
   "outputs": [],
   "source": [
    "g7_pop"
   ]
  },
  {
   "cell_type": "code",
   "execution_count": null,
   "id": "happy-finding",
   "metadata": {},
   "outputs": [],
   "source": [
    "g7_pop[0]"
   ]
  },
  {
   "cell_type": "code",
   "execution_count": null,
   "id": "focused-finnish",
   "metadata": {},
   "outputs": [],
   "source": [
    "g7_pop[1]"
   ]
  },
  {
   "cell_type": "code",
   "execution_count": null,
   "id": "surgical-candidate",
   "metadata": {},
   "outputs": [],
   "source": [
    "g7_pop.index"
   ]
  },
  {
   "cell_type": "markdown",
   "id": "integral-finland",
   "metadata": {},
   "source": [
    "In contrast to lists, we can explicitly define the index:"
   ]
  },
  {
   "cell_type": "code",
   "execution_count": null,
   "id": "fourth-health",
   "metadata": {},
   "outputs": [],
   "source": [
    "g7_pop.index = [\n",
    "    'France',\n",
    "    'Canada',\n",
    "    'Germany',\n",
    "    'Italy',\n",
    "    'Japan',\n",
    "    'United Kingdom',\n",
    "    'United States',\n",
    "]"
   ]
  },
  {
   "cell_type": "code",
   "execution_count": null,
   "id": "cooked-claim",
   "metadata": {},
   "outputs": [],
   "source": [
    "g7_pop"
   ]
  },
  {
   "cell_type": "markdown",
   "id": "processed-instrumentation",
   "metadata": {},
   "source": [
    "Compare it with the [following table](https://docs.google.com/spreadsheets/d/1IlorV2-Oh9Da1JAZ7weVw86PQrQydSMp-ydVMH135iI/edit?usp=sharing): \n",
    "\n",
    "|                |   G7 Population in millions |\n",
    "|:---------------|----------------------------:|\n",
    "| Canada         |                      35.467 |\n",
    "| France         |                      63.951 |\n",
    "| Germany        |                      80.94  |\n",
    "| Italy          |                      60.665 |\n",
    "| Japan          |                     127.061 |\n",
    "| United Kingdom |                      64.511 |\n",
    "| United States  |                     318.523 |\n",
    "\n",
    "Series look like \"ordered dictionaries\". Moreover, we can create Series out of dictionaries:"
   ]
  },
  {
   "cell_type": "code",
   "execution_count": null,
   "id": "integrated-style",
   "metadata": {},
   "outputs": [],
   "source": [
    "pd.Series({\n",
    "    'France': 63.951,\n",
    "    'Canada': 35.467,\n",
    "    'Germany': 80.94,\n",
    "    'Italy': 60.665,\n",
    "    'Japan': 127.061,\n",
    "    'United Kingdom': 64.511,\n",
    "    'United States': 318.523\n",
    "}, name='G7 Population in millions')"
   ]
  },
  {
   "cell_type": "markdown",
   "id": "atmospheric-quilt",
   "metadata": {},
   "source": [
    "There are several other \"constructors\" for Series, i.e. different ways of passing in the data needed to create one."
   ]
  },
  {
   "cell_type": "code",
   "execution_count": null,
   "id": "small-survivor",
   "metadata": {},
   "outputs": [],
   "source": [
    "pd.Series(\n",
    "    [63.951, 35.467, 80.94, 60.665, 127.061, 64.511, 318.523],\n",
    "    index=['France', 'Canada', 'Germany', 'Italy', 'Japan', \n",
    "           'United Kingdom', 'United States'],\n",
    "    name='G7 Population in millions')"
   ]
  },
  {
   "cell_type": "markdown",
   "id": "endless-order",
   "metadata": {},
   "source": [
    "You can create Series out of other series, specifying indexes:"
   ]
  },
  {
   "cell_type": "code",
   "execution_count": null,
   "id": "leading-alberta",
   "metadata": {},
   "outputs": [],
   "source": [
    "pd.Series(g7_pop, index=['France', 'Germany', 'Italy', 'Spain'])"
   ]
  },
  {
   "cell_type": "markdown",
   "id": "gentle-white",
   "metadata": {},
   "source": [
    "## Indexing\n",
    "\n",
    "Indexing works similarly as on lists and dictionaries, you use the **index** of the element you're looking for:"
   ]
  },
  {
   "cell_type": "code",
   "execution_count": null,
   "id": "casual-eating",
   "metadata": {},
   "outputs": [],
   "source": [
    "g7_pop"
   ]
  },
  {
   "cell_type": "code",
   "execution_count": null,
   "id": "formed-overhead",
   "metadata": {},
   "outputs": [],
   "source": [
    "g7_pop['Canada']"
   ]
  },
  {
   "cell_type": "code",
   "execution_count": null,
   "id": "blessed-million",
   "metadata": {},
   "outputs": [],
   "source": [
    "g7_pop['Japan']"
   ]
  },
  {
   "cell_type": "markdown",
   "id": "spatial-turkey",
   "metadata": {},
   "source": [
    "Numeric positions can also be used, with the `iloc` accessor:"
   ]
  },
  {
   "cell_type": "code",
   "execution_count": null,
   "id": "labeled-startup",
   "metadata": {},
   "outputs": [],
   "source": [
    "g7_pop.iloc[0]"
   ]
  },
  {
   "cell_type": "code",
   "execution_count": null,
   "id": "unusual-officer",
   "metadata": {},
   "outputs": [],
   "source": [
    "g7_pop.iloc[-1]"
   ]
  },
  {
   "cell_type": "markdown",
   "id": "stunning-female",
   "metadata": {},
   "source": [
    "Selecting multiple elements at once:"
   ]
  },
  {
   "cell_type": "code",
   "execution_count": null,
   "id": "automatic-melbourne",
   "metadata": {},
   "outputs": [],
   "source": [
    "g7_pop[['Italy', 'France']]"
   ]
  },
  {
   "cell_type": "markdown",
   "id": "divine-notion",
   "metadata": {},
   "source": [
    "_(The result is another Series)_"
   ]
  },
  {
   "cell_type": "code",
   "execution_count": null,
   "id": "permanent-appraisal",
   "metadata": {},
   "outputs": [],
   "source": [
    "g7_pop.iloc[[0, 1]]"
   ]
  },
  {
   "cell_type": "markdown",
   "id": "blank-adams",
   "metadata": {},
   "source": [
    "Slicing also works, but **unlike in lists**, in Pandas the upper limit is included:"
   ]
  },
  {
   "cell_type": "code",
   "execution_count": null,
   "id": "corporate-timer",
   "metadata": {},
   "outputs": [],
   "source": [
    "g7_pop['Canada': 'Italy']"
   ]
  },
  {
   "cell_type": "markdown",
   "id": "functioning-softball",
   "metadata": {},
   "source": [
    "It is usually preferred to use the `.loc` accessor rather than simple square brackets.  It is a few extra characters, but it avoids confusion when the indices of Series are themselves numbers (like in our first pass at `g7_pop`).  A motto in Python is \"explicit is better than implicit\"; we can specifiy whether we mean the name of row or its numeric position."
   ]
  },
  {
   "cell_type": "code",
   "execution_count": null,
   "id": "banned-constant",
   "metadata": {},
   "outputs": [],
   "source": [
    "g7_pop.loc['Canada': 'Italy']"
   ]
  },
  {
   "cell_type": "markdown",
   "id": "international-christianity",
   "metadata": {},
   "source": [
    "## Conditional selection (Boolean arrays)\n",
    "\n",
    "A special \"Boolean array\" can be used to select from Pandas Series:"
   ]
  },
  {
   "cell_type": "code",
   "execution_count": null,
   "id": "certain-premiere",
   "metadata": {},
   "outputs": [],
   "source": [
    "g7_pop"
   ]
  },
  {
   "cell_type": "code",
   "execution_count": null,
   "id": "color-bangladesh",
   "metadata": {},
   "outputs": [],
   "source": [
    "g7_pop > 70"
   ]
  },
  {
   "cell_type": "code",
   "execution_count": null,
   "id": "global-diversity",
   "metadata": {},
   "outputs": [],
   "source": [
    "g7_pop[g7_pop > 70]"
   ]
  },
  {
   "cell_type": "markdown",
   "id": "sexual-trust",
   "metadata": {},
   "source": [
    "Often we create Boolean arrays directly inside square brackets to index elements.  But we can also save the name of a useful filter."
   ]
  },
  {
   "cell_type": "code",
   "execution_count": null,
   "id": "alpha-continuity",
   "metadata": {},
   "outputs": [],
   "source": [
    "is_big = g7_pop > 70\n",
    "g7_pop[is_big]"
   ]
  },
  {
   "cell_type": "markdown",
   "id": "otherwise-landscape",
   "metadata": {},
   "source": [
    "Series have various useful methods; many of them are numeric or statistical."
   ]
  },
  {
   "cell_type": "code",
   "execution_count": null,
   "id": "occupied-party",
   "metadata": {},
   "outputs": [],
   "source": [
    "g7_pop.mean()"
   ]
  },
  {
   "cell_type": "markdown",
   "id": "proud-station",
   "metadata": {},
   "source": [
    "We can combine these two capabilities we have just seen:"
   ]
  },
  {
   "cell_type": "code",
   "execution_count": null,
   "id": "closing-assist",
   "metadata": {},
   "outputs": [],
   "source": [
    "g7_pop[g7_pop > g7_pop.mean()]"
   ]
  },
  {
   "cell_type": "code",
   "execution_count": null,
   "id": "final-anderson",
   "metadata": {},
   "outputs": [],
   "source": [
    "g7_pop.std()"
   ]
  },
  {
   "cell_type": "markdown",
   "id": "suited-supply",
   "metadata": {},
   "source": [
    "We can use symbols as logical connectors for several different filters.\n",
    "\n",
    "| Symbol | Meaning\n",
    "|--------|---------\n",
    "| ~      | not\n",
    "| &#124; | or\n",
    "| &      | and"
   ]
  },
  {
   "cell_type": "markdown",
   "id": "cognitive-completion",
   "metadata": {},
   "source": [
    "A common pitfall is failing to parenthesize subexpressions separated by these symbols.  Often it will give you **some** answer, but the wrong one, when you do that."
   ]
  },
  {
   "cell_type": "markdown",
   "id": "difficult-essex",
   "metadata": {},
   "source": [
    "Let us select the G7 countries with population within 1/2 standard deviation of the mean."
   ]
  },
  {
   "cell_type": "code",
   "execution_count": null,
   "id": "broad-blake",
   "metadata": {},
   "outputs": [],
   "source": [
    "g7_pop[(g7_pop > (g7_pop.mean() - g7_pop.std()/2)) &\n",
    "       (g7_pop < (g7_pop.mean() + g7_pop.std()/2))\n",
    "      ].rename('Mid-sized G7 countries')"
   ]
  },
  {
   "cell_type": "markdown",
   "id": "overhead-salad",
   "metadata": {},
   "source": [
    "That was a powerful query, but perhaps hard to read.  We might break it into steps."
   ]
  },
  {
   "cell_type": "code",
   "execution_count": null,
   "id": "willing-nursing",
   "metadata": {},
   "outputs": [],
   "source": [
    "bottom = g7_pop.mean() - g7_pop.std()/2\n",
    "top = g7_pop.mean() + g7_pop.std()/2\n",
    "print(bottom, top)\n",
    "\n",
    "g7_pop[(g7_pop > bottom) & (g7_pop < top)]"
   ]
  },
  {
   "cell_type": "markdown",
   "id": "green-stability",
   "metadata": {},
   "source": [
    "## Operations and methods\n",
    "\n",
    "Series support \"vectorized\" operations and aggregation functions:"
   ]
  },
  {
   "cell_type": "code",
   "execution_count": null,
   "id": "laden-construction",
   "metadata": {},
   "outputs": [],
   "source": [
    "g7_pop"
   ]
  },
  {
   "cell_type": "code",
   "execution_count": null,
   "id": "generic-bahamas",
   "metadata": {},
   "outputs": [],
   "source": [
    "g7_pop * 1_000_000"
   ]
  },
  {
   "cell_type": "code",
   "execution_count": null,
   "id": "casual-richards",
   "metadata": {},
   "outputs": [],
   "source": [
    "mean = (g7_pop * 1e6).mean()\n",
    "print(f\"{mean:,.0f}\")"
   ]
  },
  {
   "cell_type": "markdown",
   "id": "provincial-portable",
   "metadata": {},
   "source": [
    "Perhaps we would like to think just of \"order of magnitude\" of these populations."
   ]
  },
  {
   "cell_type": "code",
   "execution_count": null,
   "id": "under-maple",
   "metadata": {},
   "outputs": [],
   "source": [
    "np.log10(g7_pop * 1e6)"
   ]
  },
  {
   "cell_type": "markdown",
   "id": "color-encounter",
   "metadata": {},
   "source": [
    "We might aggregate over a subset of the data."
   ]
  },
  {
   "cell_type": "code",
   "execution_count": null,
   "id": "median-spotlight",
   "metadata": {},
   "outputs": [],
   "source": [
    "g7_pop['France': 'Italy'].mean()"
   ]
  },
  {
   "cell_type": "markdown",
   "id": "foster-rebate",
   "metadata": {},
   "source": [
    "Looking at Series in particular orders can be useful. For example, perhaps alphabetically by the index."
   ]
  },
  {
   "cell_type": "code",
   "execution_count": null,
   "id": "overhead-royalty",
   "metadata": {},
   "outputs": [],
   "source": [
    "g7_pop.sort_index()"
   ]
  },
  {
   "cell_type": "markdown",
   "id": "occasional-tuesday",
   "metadata": {},
   "source": [
    "Or in order by the population."
   ]
  },
  {
   "cell_type": "code",
   "execution_count": null,
   "id": "following-afternoon",
   "metadata": {},
   "outputs": [],
   "source": [
    "g7_pop.sort_values()"
   ]
  },
  {
   "cell_type": "code",
   "execution_count": null,
   "id": "sensitive-armstrong",
   "metadata": {},
   "outputs": [],
   "source": [
    "g7_pop.sort_values(ascending=False)"
   ]
  },
  {
   "cell_type": "markdown",
   "id": "invalid-majority",
   "metadata": {},
   "source": [
    "## Modifying series"
   ]
  },
  {
   "cell_type": "markdown",
   "id": "impressive-slave",
   "metadata": {},
   "source": [
    "Let us make some changes to populations hypothetically.  Perhaps these are projections or hypotheticals."
   ]
  },
  {
   "cell_type": "code",
   "execution_count": null,
   "id": "conceptual-particular",
   "metadata": {},
   "outputs": [],
   "source": [
    "g7_imagined = g7_pop.copy()\n",
    "g7_imagined.rename(\"Imagined populations\", inplace=True)\n",
    "g7_imagined"
   ]
  },
  {
   "cell_type": "code",
   "execution_count": null,
   "id": "dynamic-traffic",
   "metadata": {},
   "outputs": [],
   "source": [
    "g7_imagined.loc['Canada'] = 40.5\n",
    "g7_imagined"
   ]
  },
  {
   "cell_type": "markdown",
   "id": "excellent-channels",
   "metadata": {},
   "source": [
    "Perhaps we stipulate by index position."
   ]
  },
  {
   "cell_type": "code",
   "execution_count": null,
   "id": "owned-spanish",
   "metadata": {},
   "outputs": [],
   "source": [
    "g7_imagined.iloc[-1] = 500\n",
    "g7_imagined"
   ]
  },
  {
   "cell_type": "markdown",
   "id": "rural-worship",
   "metadata": {},
   "source": [
    "Recall how we might filter."
   ]
  },
  {
   "cell_type": "code",
   "execution_count": null,
   "id": "political-parts",
   "metadata": {},
   "outputs": [],
   "source": [
    "g7_imagined[g7_imagined < 70]"
   ]
  },
  {
   "cell_type": "markdown",
   "id": "classified-moment",
   "metadata": {},
   "source": [
    "We can also modify based on the filter."
   ]
  },
  {
   "cell_type": "code",
   "execution_count": null,
   "id": "comprehensive-dairy",
   "metadata": {},
   "outputs": [],
   "source": [
    "g7_imagined[g7_imagined < 70] = 99.99\n",
    "g7_imagined"
   ]
  },
  {
   "cell_type": "markdown",
   "id": "bulgarian-holly",
   "metadata": {},
   "source": [
    "# Exercises\n",
    "\n",
    "![orange-divider](https://user-images.githubusercontent.com/7065401/92672455-187a5f80-f2ef-11ea-890c-40be9474f7b7.png)"
   ]
  },
  {
   "cell_type": "markdown",
   "id": "grateful-collector",
   "metadata": {},
   "source": [
    "## Series creation"
   ]
  },
  {
   "cell_type": "markdown",
   "id": "passive-cologne",
   "metadata": {},
   "source": [
    "### Create an empty pandas Series"
   ]
  },
  {
   "cell_type": "code",
   "execution_count": null,
   "id": "seasonal-princeton",
   "metadata": {},
   "outputs": [],
   "source": [
    "# your code goes here"
   ]
  },
  {
   "cell_type": "markdown",
   "id": "spoken-advance",
   "metadata": {},
   "source": [
    "### Given the X python list convert it to an Y pandas Series"
   ]
  },
  {
   "cell_type": "code",
   "execution_count": null,
   "id": "moving-evans",
   "metadata": {},
   "outputs": [],
   "source": [
    "# your code goes here\n",
    "X = ['A','B','C']\n",
    "print(X, type(X))"
   ]
  },
  {
   "cell_type": "markdown",
   "id": "protective-america",
   "metadata": {},
   "source": [
    "### Given the X pandas Series, name it 'My letters'"
   ]
  },
  {
   "cell_type": "code",
   "execution_count": null,
   "id": "changed-smith",
   "metadata": {},
   "outputs": [],
   "source": [
    "# your code goes here\n",
    "X = pd.Series(['A','B','C'])\n",
    "X"
   ]
  },
  {
   "cell_type": "markdown",
   "id": "dimensional-sweet",
   "metadata": {},
   "source": [
    "### Given the X pandas Series, show its values"
   ]
  },
  {
   "cell_type": "code",
   "execution_count": null,
   "id": "smaller-humanity",
   "metadata": {},
   "outputs": [],
   "source": [
    "# your code goes here\n",
    "X = pd.Series(['A','B','C'])"
   ]
  },
  {
   "cell_type": "markdown",
   "id": "julian-kuwait",
   "metadata": {},
   "source": [
    "## Series indexing"
   ]
  },
  {
   "cell_type": "markdown",
   "id": "comprehensive-animation",
   "metadata": {},
   "source": [
    "### Assign index names to the given X pandas Series\n"
   ]
  },
  {
   "cell_type": "code",
   "execution_count": null,
   "id": "grave-vulnerability",
   "metadata": {},
   "outputs": [],
   "source": [
    "# your code goes here\n",
    "X = pd.Series(['A','B','C'])\n",
    "X"
   ]
  },
  {
   "cell_type": "markdown",
   "id": "irish-pendant",
   "metadata": {},
   "source": [
    "### Given the X pandas Series, show its first element"
   ]
  },
  {
   "cell_type": "code",
   "execution_count": null,
   "id": "organizational-turkey",
   "metadata": {},
   "outputs": [],
   "source": [
    "X = pd.Series(['A','B','C'], index=['first', 'second', 'third'])\n",
    "# your code goes here"
   ]
  },
  {
   "cell_type": "markdown",
   "id": "pleased-generic",
   "metadata": {},
   "source": [
    "### Given the X pandas Series, show its last element"
   ]
  },
  {
   "cell_type": "code",
   "execution_count": null,
   "id": "floppy-parallel",
   "metadata": {},
   "outputs": [],
   "source": [
    "X = pd.Series(['A','B','C'], index=['first', 'second', 'third'])\n",
    "# your code goes here"
   ]
  },
  {
   "cell_type": "markdown",
   "id": "surrounded-compound",
   "metadata": {},
   "source": [
    "### Given the X pandas Series, show all middle elements"
   ]
  },
  {
   "cell_type": "code",
   "execution_count": null,
   "id": "commercial-hamburg",
   "metadata": {},
   "outputs": [],
   "source": [
    "# your code goes here\n",
    "X = pd.Series(['A','B','C','D','E'],\n",
    "              index=['first','second','third','forth','fifth'])"
   ]
  },
  {
   "cell_type": "markdown",
   "id": "accepting-monte",
   "metadata": {},
   "source": [
    "### Given the X pandas Series, show the elements in reverse position"
   ]
  },
  {
   "cell_type": "code",
   "execution_count": null,
   "id": "emotional-terrorism",
   "metadata": {},
   "outputs": [],
   "source": [
    "# your code goes here\n",
    "X = pd.Series(['A','B','C','D','E'],\n",
    "              index=['first','second','third','forth','fifth'])"
   ]
  },
  {
   "cell_type": "markdown",
   "id": "productive-architect",
   "metadata": {},
   "source": [
    "### Given the X pandas Series, show the first and last elements"
   ]
  },
  {
   "cell_type": "code",
   "execution_count": null,
   "id": "balanced-punch",
   "metadata": {},
   "outputs": [],
   "source": [
    "# your code goes here\n",
    "X = pd.Series(['A','B','C','D','E'],\n",
    "              index=['first','second','third','fourth','fifth'])"
   ]
  },
  {
   "cell_type": "markdown",
   "id": "challenging-riverside",
   "metadata": {},
   "source": [
    "## Series manipulation"
   ]
  },
  {
   "cell_type": "markdown",
   "id": "italic-hampton",
   "metadata": {},
   "source": [
    "### Convert the given integer pandas Series to float\n"
   ]
  },
  {
   "cell_type": "code",
   "execution_count": null,
   "id": "intimate-output",
   "metadata": {},
   "outputs": [],
   "source": [
    "# your code goes here\n",
    "X = pd.Series([1, 2, 3, 4, 5],\n",
    "              index=['first', 'second', 'third', 'fourth', 'fifth'])\n",
    "X"
   ]
  },
  {
   "cell_type": "markdown",
   "id": "prime-morning",
   "metadata": {},
   "source": [
    "### Order (sort) the given pandas Series"
   ]
  },
  {
   "cell_type": "code",
   "execution_count": null,
   "id": "bright-piano",
   "metadata": {},
   "outputs": [],
   "source": [
    "X = pd.Series([4, 2, 5, 1, 3],\n",
    "              index=['fourth', 'second', 'fifth', 'first', 'third'])\n",
    "# your code goes here"
   ]
  },
  {
   "cell_type": "markdown",
   "id": "christian-aging",
   "metadata": {},
   "source": [
    "### Given the X pandas Series, set the fifth element equal to 10"
   ]
  },
  {
   "cell_type": "code",
   "execution_count": null,
   "id": "cognitive-ghost",
   "metadata": {},
   "outputs": [],
   "source": [
    "X = pd.Series([1, 2, 3, 4, 5],\n",
    "              index=['A', 'B', 'C', 'D', 'E'])\n",
    "# your code goes here"
   ]
  },
  {
   "cell_type": "markdown",
   "id": "operating-george",
   "metadata": {},
   "source": [
    "### Given the X pandas Series, change all the middle elements to 0"
   ]
  },
  {
   "cell_type": "code",
   "execution_count": null,
   "id": "functional-earth",
   "metadata": {},
   "outputs": [],
   "source": [
    "# your code goes here\n",
    "X = pd.Series([1, 2, 3, 4, 5],\n",
    "              index=['A', 'B', 'C', 'D', 'E'])"
   ]
  },
  {
   "cell_type": "markdown",
   "id": "supposed-twist",
   "metadata": {},
   "source": [
    "### Given the X pandas Series, add 5 to every element"
   ]
  },
  {
   "cell_type": "code",
   "execution_count": null,
   "id": "scheduled-sacramento",
   "metadata": {},
   "outputs": [],
   "source": [
    "X = pd.Series([1,2,3,4,5],\n",
    "              index=['A','B','C','D','E'])\n",
    "# your code goes here\n"
   ]
  },
  {
   "cell_type": "markdown",
   "id": "rotary-dryer",
   "metadata": {},
   "source": [
    "## Boolean arrays (also called masks)"
   ]
  },
  {
   "cell_type": "markdown",
   "id": "bound-crime",
   "metadata": {},
   "source": [
    "### Given the X pandas Series, make a mask showing negative elements\n"
   ]
  },
  {
   "cell_type": "code",
   "execution_count": null,
   "id": "perfect-paintball",
   "metadata": {},
   "outputs": [],
   "source": [
    "X = pd.Series([-1, 2, 0, -4, 5, 6, 0, 0, -9, 10])\n",
    "# your code goes here"
   ]
  },
  {
   "cell_type": "markdown",
   "id": "comic-fossil",
   "metadata": {},
   "source": [
    "### Given the X pandas Series, get the negative elements"
   ]
  },
  {
   "cell_type": "code",
   "execution_count": null,
   "id": "adolescent-atlanta",
   "metadata": {},
   "outputs": [],
   "source": [
    "X = pd.Series([-1, 2, 0, -4, 5, 6, 0, 0, -9, 10])\n",
    "# your code goes here"
   ]
  },
  {
   "cell_type": "markdown",
   "id": "parental-battle",
   "metadata": {},
   "source": [
    "### Given the X pandas Series, get numbers larger than 5\n"
   ]
  },
  {
   "cell_type": "code",
   "execution_count": null,
   "id": "amber-philosophy",
   "metadata": {},
   "outputs": [],
   "source": [
    "X = pd.Series([-1, 2, 0, -4, 5, 6, 0, 0, -9, 10])\n",
    "# your code goes here"
   ]
  },
  {
   "cell_type": "markdown",
   "id": "crazy-snake",
   "metadata": {},
   "source": [
    "### Given the X pandas Series, select numbers higher than the elements mean"
   ]
  },
  {
   "cell_type": "code",
   "execution_count": null,
   "id": "worst-johnson",
   "metadata": {},
   "outputs": [],
   "source": [
    "X = pd.Series([-1, 2, 0, -4, 5, 6, 0, 0, -9, 10])\n",
    "# your code goes here"
   ]
  },
  {
   "cell_type": "markdown",
   "id": "bound-springer",
   "metadata": {},
   "source": [
    "### Given the X pandas Series, get numbers equal to 2 or 10"
   ]
  },
  {
   "cell_type": "code",
   "execution_count": null,
   "id": "binding-seventh",
   "metadata": {},
   "outputs": [],
   "source": [
    "X = pd.Series([-1, 2, 0, -4, 5, 6, 0, 0, -9, 10])\n",
    "# your code goes here"
   ]
  },
  {
   "cell_type": "markdown",
   "id": "architectural-certificate",
   "metadata": {},
   "source": [
    "## Logic functions"
   ]
  },
  {
   "cell_type": "markdown",
   "id": "encouraging-experience",
   "metadata": {},
   "source": [
    "### Given the X pandas Series, return True if none of its elements is zero"
   ]
  },
  {
   "cell_type": "code",
   "execution_count": null,
   "id": "atomic-sitting",
   "metadata": {},
   "outputs": [],
   "source": [
    "X = pd.Series([-1, 2, 0, -4, 5, 6, 0, 0, -9, 10])\n",
    "# your code goes here"
   ]
  },
  {
   "cell_type": "markdown",
   "id": "amended-prisoner",
   "metadata": {},
   "source": [
    "### Given the X pandas Series, return True if any of its elements is zero"
   ]
  },
  {
   "cell_type": "code",
   "execution_count": null,
   "id": "comparable-month",
   "metadata": {},
   "outputs": [],
   "source": [
    "X = pd.Series([-1, 2, 0, -4, 5, 6, 0, 0, -9, 10])\n",
    "# your code goes here"
   ]
  },
  {
   "cell_type": "markdown",
   "id": "described-threshold",
   "metadata": {},
   "source": [
    "## Summary statistics"
   ]
  },
  {
   "cell_type": "markdown",
   "id": "special-recording",
   "metadata": {},
   "source": [
    "### Given the X pandas Series, show the sum of its elements\n"
   ]
  },
  {
   "cell_type": "code",
   "execution_count": null,
   "id": "israeli-light",
   "metadata": {},
   "outputs": [],
   "source": [
    "X = pd.Series([3, 5, 6, 7, 2, 3, 4, 9, 4])\n",
    "# your code goes here"
   ]
  },
  {
   "cell_type": "markdown",
   "id": "loose-preserve",
   "metadata": {},
   "source": [
    "### Given the X pandas Series, show the mean value of its elements"
   ]
  },
  {
   "cell_type": "code",
   "execution_count": null,
   "id": "checked-finder",
   "metadata": {},
   "outputs": [],
   "source": [
    "X = pd.Series([1, 2, 0, 4, 5, 6, 0, 0, 9, 10])\n",
    "# your code goes here"
   ]
  },
  {
   "cell_type": "markdown",
   "id": "stunning-romance",
   "metadata": {},
   "source": [
    "### Given the X pandas Series, show the max value of its elements"
   ]
  },
  {
   "cell_type": "code",
   "execution_count": null,
   "id": "excellent-compound",
   "metadata": {},
   "outputs": [],
   "source": [
    "X = pd.Series([1, 2, 0, 4, 5, 6, 0, 0, 9, 10])\n",
    "# your code goes here"
   ]
  }
 ],
 "metadata": {
  "kernelspec": {
   "display_name": "Python 3",
   "language": "python",
   "name": "python3"
  },
  "language_info": {
   "codemirror_mode": {
    "name": "ipython",
    "version": 3
   },
   "file_extension": ".py",
   "mimetype": "text/x-python",
   "name": "python",
   "nbconvert_exporter": "python",
   "pygments_lexer": "ipython3",
   "version": "3.9.0"
  }
 },
 "nbformat": 4,
 "nbformat_minor": 5
}
