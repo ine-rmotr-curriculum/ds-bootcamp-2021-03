{
 "cells": [
  {
   "cell_type": "markdown",
   "metadata": {},
   "source": [
    "![ine-divider](https://user-images.githubusercontent.com/7065401/92672068-398e8080-f2ee-11ea-82d6-ad53f7feb5c0.png)\n",
    "<hr>\n",
    "\n",
    "# Seaborn statistical plots\n",
    "\n",
    "Seaborn extends the capabilities of Matplotlib by providing high-level plotting methods for statistical analysis. It is also a set of style options for Matplotlib.\n",
    "\n",
    "![orange-divider](https://user-images.githubusercontent.com/7065401/92672455-187a5f80-f2ef-11ea-890c-40be9474f7b7.png)"
   ]
  },
  {
   "cell_type": "code",
   "execution_count": null,
   "metadata": {},
   "outputs": [],
   "source": [
    "import pandas as pd\n",
    "import numpy as np\n",
    "import matplotlib.pyplot as plt\n",
    "import seaborn as sns\n",
    "sns.set_theme()"
   ]
  },
  {
   "cell_type": "markdown",
   "metadata": {},
   "source": [
    "# Types of plots"
   ]
  },
  {
   "cell_type": "markdown",
   "metadata": {},
   "source": [
    "Seaborn is a high-level plotting library that accepts data in either *wide* or *tidy* column formats depending on the visualization technique."
   ]
  },
  {
   "cell_type": "markdown",
   "metadata": {},
   "source": [
    "## Single plots"
   ]
  },
  {
   "cell_type": "markdown",
   "metadata": {},
   "source": [
    "The following methods return single plot objects that can combined with layout functions in Matplotlib or Seaborn.\n",
    "\n",
    "* Scatter and regression plots\n",
    "  * regplot, residplot\n",
    "* Distribution plots\n",
    "  * distplot, kdeplot, rugplot\n",
    "* Categorical plots\n",
    "  * boxplot, violinplot, striplot, swarmplot, barplot, countplot\n",
    "* Matrix plots\n",
    "  * heatmap\n",
    "* Time series\n",
    "  * tsplot"
   ]
  },
  {
   "cell_type": "markdown",
   "metadata": {},
   "source": [
    "## Grid plots"
   ]
  },
  {
   "cell_type": "markdown",
   "metadata": {},
   "source": [
    "Grid plots are made up from collections of *single plots*. These plots can be used to perform gorupby-like operations.\n",
    "\n",
    "* Scatter and regression plots\n",
    "  * lmplot\n",
    "* Distribution plots\n",
    "  * jointplot, pairplot\n",
    "* Categorical plots\n",
    "  * factorplot\n",
    "* Matrix plots\n",
    "  * clustermap\n",
    "  \n",
    "These methods allow a `size=` parameter."
   ]
  },
  {
   "cell_type": "markdown",
   "metadata": {},
   "source": [
    "Seaborn supports Pandas DataFrames as input to plot data in columns."
   ]
  },
  {
   "cell_type": "code",
   "execution_count": null,
   "metadata": {},
   "outputs": [],
   "source": [
    "auto = pd.read_csv('data/auto-mpg.csv')\n",
    "auto.head()"
   ]
  },
  {
   "cell_type": "markdown",
   "metadata": {},
   "source": [
    "# Visualizing distributions"
   ]
  },
  {
   "cell_type": "markdown",
   "metadata": {},
   "source": [
    "## Univariate distributions"
   ]
  },
  {
   "cell_type": "markdown",
   "metadata": {},
   "source": [
    "**displot()** and **histplot()** are histograms with a kernel density estimation overlain."
   ]
  },
  {
   "cell_type": "code",
   "execution_count": null,
   "metadata": {},
   "outputs": [],
   "source": [
    "sns.histplot(auto['mpg'], kde=True, bins=35, stat='density');"
   ]
  },
  {
   "cell_type": "markdown",
   "metadata": {},
   "source": [
    "## Bivariate distributions"
   ]
  },
  {
   "cell_type": "markdown",
   "metadata": {},
   "source": [
    "2-dimensional distributions plotted with **jointplot()** include histograms or 1-D KDEs."
   ]
  },
  {
   "cell_type": "markdown",
   "metadata": {},
   "source": [
    "The `kind=` keyword paramter can adjust the display. Available options are\n",
    "* `scatter` (default)\n",
    "* `hex`: hexagonal binning\n",
    "* `kde`: contour mapping\n",
    "* `reg`: adding regressions and kde\n",
    "* `resid`: deviations from regression"
   ]
  },
  {
   "cell_type": "code",
   "execution_count": null,
   "metadata": {},
   "outputs": [],
   "source": [
    "sns.jointplot( data=auto, x='weight', y='hp', height=8);"
   ]
  },
  {
   "cell_type": "markdown",
   "metadata": {},
   "source": [
    "If we add `hue` as a categorical variable, the distributions are shown as KDEs rather than historgrams."
   ]
  },
  {
   "cell_type": "code",
   "execution_count": null,
   "metadata": {},
   "outputs": [],
   "source": [
    "sns.jointplot( data=auto, x='weight', y='hp', height=8, hue='origin');"
   ]
  },
  {
   "cell_type": "markdown",
   "metadata": {},
   "source": [
    "We can create a 2-D KDE as the main plot."
   ]
  },
  {
   "cell_type": "code",
   "execution_count": null,
   "metadata": {},
   "outputs": [],
   "source": [
    "sns.jointplot(data=auto, x=\"mpg\", y=\"weight\", hue=\"origin\", kind=\"kde\", height=8);"
   ]
  },
  {
   "cell_type": "code",
   "execution_count": null,
   "metadata": {},
   "outputs": [],
   "source": [
    "jp = sns.jointplot(x='mpg', y='hp', kind='hex', data=auto, height=8)\n",
    "\n",
    "# add colorbar\n",
    "cax = jp.fig.add_axes([1, .08, .04, .75])\n",
    "plt.colorbar(cax=cax);"
   ]
  },
  {
   "cell_type": "markdown",
   "metadata": {},
   "source": [
    "## Regressions"
   ]
  },
  {
   "cell_type": "markdown",
   "metadata": {},
   "source": [
    "Regressions of aribrary order can be visualized with **regplot()**."
   ]
  },
  {
   "cell_type": "code",
   "execution_count": null,
   "metadata": {},
   "outputs": [],
   "source": [
    "ax = sns.regplot(x='weight', y='mpg', order=2, \n",
    "                 line_kws={'color':'red'}, data=auto)\n",
    "ax.set_title(\"Weight vs HP (2nd order fit)\");"
   ]
  },
  {
   "cell_type": "markdown",
   "metadata": {},
   "source": [
    "Sometimes we need to \"drop down\" to the Matplotlib level to adjust some features.  Here we make the underlying axis object larger."
   ]
  },
  {
   "cell_type": "code",
   "execution_count": null,
   "metadata": {},
   "outputs": [],
   "source": [
    "fig, ax = plt.subplots(figsize=(10, 6))\n",
    "sns.regplot(x='weight', y='mpg', order=2, ax=ax,\n",
    "                 line_kws={'color':'red'}, data=auto)\n",
    "ax.set_title(\"Weight vs HP (2nd order fit)\");"
   ]
  },
  {
   "cell_type": "markdown",
   "metadata": {},
   "source": [
    "## Factoring variables"
   ]
  },
  {
   "cell_type": "markdown",
   "metadata": {},
   "source": [
    "**catplot()** plots distributions with groupby operations applied along the x-axis.<br>Secondary grouping is performed with `hue=`.\n",
    "\n",
    "Multiple plots can be factored with `col=`."
   ]
  },
  {
   "cell_type": "markdown",
   "metadata": {},
   "source": [
    "The `kind=` keyword can be\n",
    "* `point`\n",
    "* `count`\n",
    "* `bar`\n",
    "* `box`\n",
    "* `violin`\n",
    "* `strip`"
   ]
  },
  {
   "cell_type": "markdown",
   "metadata": {},
   "source": [
    "Simple grouping along the column on the x-axis."
   ]
  },
  {
   "cell_type": "code",
   "execution_count": null,
   "metadata": {},
   "outputs": [],
   "source": [
    "sns.catplot(x='origin', y='hp', kind='bar', data=auto, height=5);"
   ]
  },
  {
   "cell_type": "code",
   "execution_count": null,
   "metadata": {},
   "outputs": [],
   "source": [
    "sns.catplot(x='origin', y='mpg', kind='violin', data=auto, height=5);"
   ]
  },
  {
   "cell_type": "markdown",
   "metadata": {},
   "source": [
    "Let's also factor out the average horse-power per region and number of cylinders."
   ]
  },
  {
   "cell_type": "code",
   "execution_count": null,
   "metadata": {},
   "outputs": [],
   "source": [
    "sns.catplot(x='origin', y='hp', hue='cyl', kind='bar', data=auto, height=5);"
   ]
  },
  {
   "cell_type": "markdown",
   "metadata": {},
   "source": [
    "The US is the only manufacturer of 8-cylinder vehicles."
   ]
  },
  {
   "cell_type": "code",
   "execution_count": null,
   "metadata": {},
   "outputs": [],
   "source": [
    "sns.catplot(y='origin', kind='count', hue='cyl', data=auto, height=5);"
   ]
  },
  {
   "cell_type": "markdown",
   "metadata": {},
   "source": [
    "By binning the data set in 5-year increments we can further factor the plots into columns."
   ]
  },
  {
   "cell_type": "code",
   "execution_count": null,
   "metadata": {},
   "outputs": [],
   "source": [
    "auto['bins'] = pd.cut(auto['yr'], bins=np.arange(65,90,5))\n",
    "auto['bins'].value_counts().sort_index()"
   ]
  },
  {
   "cell_type": "markdown",
   "metadata": {},
   "source": [
    "The distributions have changed in Europe and Asia dramatically from 1970 to 1984.\n",
    "\n",
    "The meadian MPG value has raised in the US during this time."
   ]
  },
  {
   "cell_type": "code",
   "execution_count": null,
   "metadata": {},
   "outputs": [],
   "source": [
    "sns.catplot(x='origin', y='mpg', kind='box', col='bins', data=auto);"
   ]
  },
  {
   "cell_type": "markdown",
   "metadata": {},
   "source": [
    "## Pairwise relationships"
   ]
  },
  {
   "cell_type": "markdown",
   "metadata": {},
   "source": [
    "**pairplot()** performs a `jointplot()` over all pairs of columns. "
   ]
  },
  {
   "cell_type": "markdown",
   "metadata": {},
   "source": [
    "It is generally helpful to select only the columns you wish to plot from the DataFrame. `vars=` will also accept a list of column names."
   ]
  },
  {
   "cell_type": "code",
   "execution_count": null,
   "metadata": {},
   "outputs": [],
   "source": [
    "sns.pairplot(auto[['mpg','yr','hp','weight']]);"
   ]
  },
  {
   "cell_type": "markdown",
   "metadata": {},
   "source": [
    "Like `factorplot`, `hue=` performs a groupby operation."
   ]
  },
  {
   "cell_type": "code",
   "execution_count": null,
   "metadata": {},
   "outputs": [],
   "source": [
    "sns.pairplot(auto, vars=['mpg','yr','hp','weight'], hue='origin');"
   ]
  },
  {
   "cell_type": "markdown",
   "metadata": {},
   "source": [
    "# Summary"
   ]
  },
  {
   "cell_type": "markdown",
   "metadata": {},
   "source": [
    "* The single plot methods are similar Pandas `.plot()` methods\n",
    "  * Can also plot regression models\n",
    "* Grid plots allow groupby operations and ggplot-like visualizations\n",
    "  * See [FacetGrid and PairGrid](https://stanford.edu/~mwaskom/software/seaborn/tutorial/axis_grids.html)"
   ]
  },
  {
   "cell_type": "markdown",
   "metadata": {},
   "source": [
    "# Exercise"
   ]
  },
  {
   "cell_type": "markdown",
   "metadata": {},
   "source": [
    "<a href='./Seaborn_ex.ipynb' class='btn btn-primary btn-lg'>Exercise</a>"
   ]
  }
 ],
 "metadata": {
  "kernelspec": {
   "display_name": "Python 3",
   "language": "python",
   "name": "python3"
  },
  "language_info": {
   "codemirror_mode": {
    "name": "ipython",
    "version": 3
   },
   "file_extension": ".py",
   "mimetype": "text/x-python",
   "name": "python",
   "nbconvert_exporter": "python",
   "pygments_lexer": "ipython3",
   "version": "3.9.1"
  }
 },
 "nbformat": 4,
 "nbformat_minor": 4
}
