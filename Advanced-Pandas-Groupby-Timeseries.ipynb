{
 "cells": [
  {
   "cell_type": "markdown",
   "id": "dependent-caribbean",
   "metadata": {},
   "source": [
    "<div style=\"position: relative;\">\n",
    "<img src=\"https://user-images.githubusercontent.com/7065401/98728503-5ab82f80-2378-11eb-9c79-adeb308fc647.png\"></img>\n",
    "\n",
    "<h1 style=\"color: white; position: absolute; top:27%; left:10%;\">\n",
    "     INE Bootcamp\n",
    "</h1>\n",
    "<h2 style=\"color: white; position: absolute; top:36%; left:10%;\">\n",
    "    Data Analysis, Visualization and Predictive Modeling\n",
    "</h2> \n",
    "\n",
    "<h3 style=\"color: #ef7d22; font-weight: normal; position: absolute; top:58%; left:10%;\">\n",
    "    <b>David Mertz, Ph.D.</b>\n",
    "</h3>\n",
    "\n",
    "<h3 style=\"color: #ef7d22; font-weight: normal; position: absolute; top:63%; left:10%;\">\n",
    "    <b>Data Scientist</b>\n",
    "</h3>\n",
    "</div>"
   ]
  },
  {
   "cell_type": "markdown",
   "id": "worldwide-above",
   "metadata": {},
   "source": [
    "<div style=\"width: 100%; height: 200px; background-color: #222; text-align: center; padding-top: 20px; margin-bottom: 40px;\">\n",
    "<br><br>\n",
    "\n",
    "<h1 style=\"color: white; font-weight: bold;\">\n",
    "    Advanced Pandas: Timeseries and Groupby\n",
    "</h1>\n",
    "\n",
    "<br><br> \n",
    "</div>\n",
    "\n",
    "<img src=\"https://user-images.githubusercontent.com/7065401/75165824-badf4680-5701-11ea-9c5b-5475b0a33abf.png\" style=\"width:200px; float: right; margin: 0 40px 40px 40px;\"/>\n",
    "\n",
    "The Pandas (Panel Data) Python library is a very powerful tool for data manipulation and analysis.  We will talk about it throughout several lessons of this bootcamp, and even assume familiarity with Pandas in later lessons. Here we look at some more advanced capabilities.\n",
    "\n",
    "There are **a lot** of capabilities within Pandas.  This short bootcamp cannot touch upon every capability within it.  But for this lesson, we want to touch on special handling of datetime data and using grouping playing around with some hypothetical data on users who have accounts at some service.\n"
   ]
  },
  {
   "cell_type": "code",
   "execution_count": null,
   "id": "divine-copying",
   "metadata": {},
   "outputs": [],
   "source": [
    "import pandas as pd\n",
    "# Read in from efficient parquet format\n",
    "accounts = pd.read_parquet('data/accounts.parq')\n",
    "accounts"
   ]
  },
  {
   "cell_type": "markdown",
   "id": "finished-integrity",
   "metadata": {},
   "source": [
    "<h2 style=\"font-weight: bold;\">\n",
    "    Categories\n",
    "</h2>\n",
    "\n",
    "![orange-divider](https://user-images.githubusercontent.com/7065401/98619088-44ab6000-22e1-11eb-8f6d-5532e68ab274.png)\n",
    "\n",
    "Much data in the world is *categorical*; that is, it takes on one of a comparatively few number of distinct values (often represented as strings).  Some categories might be more common, which is often important to notice. For example, favorite flower seems to break down pretty equally among the options."
   ]
  },
  {
   "cell_type": "code",
   "execution_count": null,
   "id": "pending-detective",
   "metadata": {},
   "outputs": [],
   "source": [
    "accounts.Favorite_Flower.value_counts()"
   ]
  },
  {
   "cell_type": "markdown",
   "id": "japanese-grove",
   "metadata": {},
   "source": [
    "In contrast, some names are much more common than others."
   ]
  },
  {
   "cell_type": "code",
   "execution_count": null,
   "id": "secure-supervision",
   "metadata": {},
   "outputs": [],
   "source": [
    "accounts.Name.value_counts()"
   ]
  },
  {
   "cell_type": "markdown",
   "id": "assumed-lyric",
   "metadata": {},
   "source": [
    "<h2 style=\"font-weight: bold;\">\n",
    "    Date, time, and datetime\n",
    "</h2>\n",
    "\n",
    "![orange-divider](https://user-images.githubusercontent.com/7065401/98619088-44ab6000-22e1-11eb-8f6d-5532e68ab274.png)\n",
    "\n",
    "An important kind of data is timestamp or datetime information.  In our dataset, we have two fields in Pandas' special `datetime64[ns]` datatype, which as the name suggests can store precision down to nanoseconds.  It can also be inspected in interesting and flexible ways."
   ]
  },
  {
   "cell_type": "code",
   "execution_count": null,
   "id": "instructional-committee",
   "metadata": {},
   "outputs": [],
   "source": [
    "accounts.dtypes"
   ]
  },
  {
   "cell_type": "markdown",
   "id": "moved-audio",
   "metadata": {},
   "source": [
    "The special `.dt` accessor pokes into datetime columns."
   ]
  },
  {
   "cell_type": "code",
   "execution_count": null,
   "id": "suspected-briefing",
   "metadata": {},
   "outputs": [],
   "source": [
    "accounts.Account_Closed.dt.year"
   ]
  },
  {
   "cell_type": "markdown",
   "id": "associate-delight",
   "metadata": {},
   "source": [
    "It looks like some accounts have long been closed, and a few are paid long in advance.  But most of them are expiring over the previous or next few years."
   ]
  },
  {
   "cell_type": "code",
   "execution_count": null,
   "id": "educated-plasma",
   "metadata": {},
   "outputs": [],
   "source": [
    "(accounts\n",
    "     .Account_Closed\n",
    "     .dt\n",
    "     .year\n",
    "     .value_counts()\n",
    "     .sort_index()\n",
    "     .plot(title=\"Account closing years\"));"
   ]
  },
  {
   "cell_type": "markdown",
   "id": "necessary-ideal",
   "metadata": {},
   "source": [
    "We can pull off a varity of elements of datetimes to work with."
   ]
  },
  {
   "cell_type": "code",
   "execution_count": null,
   "id": "committed-poverty",
   "metadata": {},
   "outputs": [],
   "source": [
    "# Only the date without the time\n",
    "accounts.Account_Opened.dt.date.head()"
   ]
  },
  {
   "cell_type": "code",
   "execution_count": null,
   "id": "buried-copper",
   "metadata": {},
   "outputs": [],
   "source": [
    "# Only the time without the date\n",
    "accounts.Account_Opened.dt.time.head()"
   ]
  },
  {
   "cell_type": "code",
   "execution_count": null,
   "id": "bored-georgia",
   "metadata": {},
   "outputs": [],
   "source": [
    "# Only the seconds\n",
    "accounts.Account_Opened.dt.second.head()"
   ]
  },
  {
   "cell_type": "markdown",
   "id": "experienced-personality",
   "metadata": {},
   "source": [
    "<h2 style=\"font-weight: bold;\">\n",
    "    Time deltas\n",
    "</h2>\n",
    "\n",
    "![orange-divider](https://user-images.githubusercontent.com/7065401/98619088-44ab6000-22e1-11eb-8f6d-5532e68ab274.png)\n",
    "\n",
    "Arithmetic on datetime objects is powerful and relatively intuitive.  For example, what was the duration for which each account was held?"
   ]
  },
  {
   "cell_type": "code",
   "execution_count": null,
   "id": "democratic-tumor",
   "metadata": {},
   "outputs": [],
   "source": [
    "accounts.Account_Closed - accounts.Account_Opened"
   ]
  },
  {
   "cell_type": "markdown",
   "id": "premier-stake",
   "metadata": {},
   "source": [
    "We can aggregate timedeltas in much the way we do plain numbers."
   ]
  },
  {
   "cell_type": "code",
   "execution_count": null,
   "id": "fourth-quest",
   "metadata": {},
   "outputs": [],
   "source": [
    "(accounts.Account_Closed - accounts.Account_Opened).mean()"
   ]
  },
  {
   "cell_type": "code",
   "execution_count": null,
   "id": "irish-entry",
   "metadata": {},
   "outputs": [],
   "source": [
    "(accounts.Account_Closed - accounts.Account_Opened).min()"
   ]
  },
  {
   "cell_type": "code",
   "execution_count": null,
   "id": "defensive-state",
   "metadata": {},
   "outputs": [],
   "source": [
    "(accounts.Account_Closed - accounts.Account_Opened).max()"
   ]
  },
  {
   "cell_type": "markdown",
   "id": "waiting-lesson",
   "metadata": {},
   "source": [
    "Perhaps in an advertising promotion, we will add 60 days until account expiration for all accounts that are currently active.  Let us look at some upcoming expirations first:"
   ]
  },
  {
   "cell_type": "code",
   "execution_count": null,
   "id": "trying-central",
   "metadata": {},
   "outputs": [],
   "source": [
    "(accounts[accounts.Account_Closed > pd.Timestamp.now()]\n",
    "     .sort_values('Account_Closed')\n",
    "     .head()\n",
    ")"
   ]
  },
  {
   "cell_type": "markdown",
   "id": "civic-bahrain",
   "metadata": {},
   "source": [
    "Let us add the extra enrollment."
   ]
  },
  {
   "cell_type": "code",
   "execution_count": null,
   "id": "square-projector",
   "metadata": {},
   "outputs": [],
   "source": [
    "accounts.loc[accounts.Account_Closed > pd.Timestamp.now(), \n",
    "                'Account_Closed'] += pd.Timedelta(days=60)"
   ]
  },
  {
   "cell_type": "code",
   "execution_count": null,
   "id": "driving-savannah",
   "metadata": {},
   "outputs": [],
   "source": [
    "(accounts[accounts.Account_Closed > pd.Timestamp.now()]\n",
    "     .sort_values('Account_Closed')\n",
    "     .head()\n",
    ")"
   ]
  },
  {
   "cell_type": "markdown",
   "id": "built-politics",
   "metadata": {},
   "source": [
    "<h2 style=\"font-weight: bold;\">\n",
    "    Grouping data\n",
    "</h2>\n",
    "\n",
    "![orange-divider](https://user-images.githubusercontent.com/7065401/98619088-44ab6000-22e1-11eb-8f6d-5532e68ab274.png)\n",
    "\n",
    "Commonly, we are interested in aggregations of rows sharing a common categorical value.  For example, what is the average age and account balance of members who like yellow and lilies?"
   ]
  },
  {
   "cell_type": "code",
   "execution_count": null,
   "id": "sixth-sample",
   "metadata": {},
   "outputs": [],
   "source": [
    "mask = (accounts.Favorite_Color == \"Yellow\") & (accounts.Favorite_Flower == 'Lily')\n",
    "accounts[mask].Age.median()"
   ]
  },
  {
   "cell_type": "code",
   "execution_count": null,
   "id": "continuing-weight",
   "metadata": {},
   "outputs": [],
   "source": [
    "accounts[mask].Balance.mean()"
   ]
  },
  {
   "cell_type": "markdown",
   "id": "accredited-ending",
   "metadata": {},
   "source": [
    "Very often we would like to generalize this kind of question though, rather than filtering with a specific mask.  That's where the `.groupby()` method comes in."
   ]
  },
  {
   "cell_type": "code",
   "execution_count": null,
   "id": "golden-circuit",
   "metadata": {},
   "outputs": [],
   "source": [
    "accounts.groupby(['Favorite_Color', 'Favorite_Flower']).mean()"
   ]
  },
  {
   "cell_type": "markdown",
   "id": "incomplete-stand",
   "metadata": {},
   "source": [
    "In those results, age seems to vary merely randomly, but balance looks more systematic.  Let us explore that."
   ]
  },
  {
   "cell_type": "code",
   "execution_count": null,
   "id": "broke-citation",
   "metadata": {},
   "outputs": [],
   "source": [
    "accounts.groupby('Favorite_Flower').Balance.mean().sort_values()"
   ]
  },
  {
   "cell_type": "markdown",
   "id": "acute-polyester",
   "metadata": {},
   "source": [
    "Those differences do not jump out at us, but more nuanced statistical tests are certainly possible. Let us try a different grouping."
   ]
  },
  {
   "cell_type": "code",
   "execution_count": null,
   "id": "sublime-veteran",
   "metadata": {},
   "outputs": [],
   "source": [
    "accounts.groupby('Favorite_Color').Balance.mean().sort_values()"
   ]
  },
  {
   "cell_type": "markdown",
   "id": "embedded-practice",
   "metadata": {},
   "source": [
    "Here we see a pretty unmistakeable pattern.  Members who like yellow have a notably high balance; those who like green have a notably low balance.  Black looks to be slightly outside the trend, but it is harder to be certain if it could be random variation."
   ]
  },
  {
   "cell_type": "markdown",
   "id": "contrary-savings",
   "metadata": {},
   "source": [
    "We might want to look at several different aggregations at the same time to understand general properties of category class distribution.  For example, are members with different names of characteristically different ages?"
   ]
  },
  {
   "cell_type": "code",
   "execution_count": null,
   "id": "hired-answer",
   "metadata": {},
   "outputs": [],
   "source": [
    "accounts.groupby('Name').Age.agg(['min', 'max', 'median', 'std', 'count'])"
   ]
  },
  {
   "cell_type": "markdown",
   "id": "dominican-federal",
   "metadata": {},
   "source": [
    "<div style=\"width: 100%; height: 200px; background-color: #ef7d22; text-align: center; padding-top: 20px; margin-bottom: 40px;\">\n",
    "<br><br>\n",
    "\n",
    "<h1 style=\"color: white; font-weight: bold;\">\n",
    "    Exercises\n",
    "</h1>\n",
    "\n",
    "<br><br> \n",
    "</div>"
   ]
  },
  {
   "cell_type": "markdown",
   "id": "other-chocolate",
   "metadata": {},
   "source": [
    "<h2 style=\"font-weight: bold;\">\n",
    "    Look for pending events\n",
    "</h2>\n",
    "\n",
    "![orange-divider](https://user-images.githubusercontent.com/7065401/98619088-44ab6000-22e1-11eb-8f6d-5532e68ab274.png)\n",
    "\n",
    "The membership department would like to send membership extension offers to all the over-65 years-old members who have accounts closed in the last six weeks, or that will close in the future.  They wish to prioritize their mailings by the account balance of each qualifying member (from highest to lowest balance).  Produce a DataFrame representing their desired information."
   ]
  },
  {
   "cell_type": "code",
   "execution_count": null,
   "id": "incredible-teens",
   "metadata": {},
   "outputs": [],
   "source": [
    "# your code here..."
   ]
  },
  {
   "cell_type": "markdown",
   "id": "continent-basis",
   "metadata": {},
   "source": [
    "<h2 style=\"font-weight: bold;\">\n",
    "    Grouping by month\n",
    "</h2>\n",
    "\n",
    "![orange-divider](https://user-images.githubusercontent.com/7065401/98619088-44ab6000-22e1-11eb-8f6d-5532e68ab274.png)\n",
    "\n",
    "You will need to think a bit about combining things you have learned already to do this exercise.  We would like to know whether users who joined in different months tend to have different attributes.  Write a few lines of Pandas code to answer that question.  Consider that we have both numeric data for balance and age, and also categorical data for favorite flower and color. For categoricals, we might ask what is most common, for example."
   ]
  },
  {
   "cell_type": "code",
   "execution_count": null,
   "id": "understanding-salvation",
   "metadata": {},
   "outputs": [],
   "source": [
    "# your code here..."
   ]
  },
  {
   "cell_type": "markdown",
   "id": "serial-billion",
   "metadata": {},
   "source": [
    "<div style=\"width: 100%; height: 400px; background-color: #222; text-align: center; padding-top: 120px;\">\n",
    "<br><br>\n",
    "\n",
    "<h1 style=\"color: white; font-weight: bold;\">\n",
    "    Review and questions\n",
    "</h1>\n",
    "\n",
    "<br><br> \n",
    "</div>"
   ]
  },
  {
   "cell_type": "markdown",
   "id": "executive-mexico",
   "metadata": {},
   "source": [
    "---\n",
    "<div style=\"position: relative; text-align: right;\">\n",
    "<img src=\"https://user-images.githubusercontent.com/7065401/98614301-dcf01780-22d6-11eb-9c8f-65ebfceac6f6.png\" style=\"width: 130px; display: inline-block;\"></img>\n",
    "\n",
    "<img src=\"https://user-images.githubusercontent.com/7065401/98864025-08deda80-2448-11eb-9600-22aa17884cdf.png\" style=\"height: 100%; max-height: inherit; position: absolute; top: 20%; left: 0px;\"></img>\n",
    "<br>\n",
    "\n",
    "<h2 style=\"font-weight: bold;\">\n",
    "    David Mertz, Ph.D.\n",
    "</h2>\n",
    "\n",
    "<h3 style=\"color: #ef7d22; margin-top: 0.8em\">\n",
    "    Data Scientist\n",
    "</h3>\n",
    "<hr>\n",
    "<br><br>\n",
    "\n",
    "<p style=\"font-size: 80%; text-align: right; margin: 10px 0px;\">\n",
    "    david.mertz@gmail.com\n",
    "</p>\n",
    "<p style=\"font-size: 80%; text-align: right; margin: 10px 0px;\">\n",
    "    linkedin.com/in/dmertz/\n",
    "</p>\n",
    "\n",
    "</div>\n",
    "\n",
    "<br><br><br>"
   ]
  }
 ],
 "metadata": {
  "kernelspec": {
   "display_name": "Python 3",
   "language": "python",
   "name": "python3"
  },
  "language_info": {
   "codemirror_mode": {
    "name": "ipython",
    "version": 3
   },
   "file_extension": ".py",
   "mimetype": "text/x-python",
   "name": "python",
   "nbconvert_exporter": "python",
   "pygments_lexer": "ipython3",
   "version": "3.9.2"
  }
 },
 "nbformat": 4,
 "nbformat_minor": 5
}
