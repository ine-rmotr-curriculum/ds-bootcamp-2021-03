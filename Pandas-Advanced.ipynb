{
 "cells": [
  {
   "cell_type": "markdown",
   "id": "attended-excess",
   "metadata": {},
   "source": [
    "![ine-divider](https://user-images.githubusercontent.com/7065401/92672068-398e8080-f2ee-11ea-82d6-ad53f7feb5c0.png)\n",
    "<hr>\n",
    "\n",
    "# Pandas Timeseries and Groupby\n",
    "<img src=\"https://user-images.githubusercontent.com/7065401/75165824-badf4680-5701-11ea-9c5b-5475b0a33abf.png\" style=\"width:200px; float: right; margin: 0 40px 40px 40px;\"/>\n",
    "\n",
    "The Pandas (Panel Data) Python library is a very powerful tool for data manipulation and analysis.  We will talk about it throughout several lessons of this bootcamp, and even assume familiarity with Pandas in later lessons. Here we look at some more advanced capabilities.\n",
    "\n",
    "![orange-divider](https://user-images.githubusercontent.com/7065401/92672455-187a5f80-f2ef-11ea-890c-40be9474f7b7.png)"
   ]
  },
  {
   "cell_type": "markdown",
   "id": "appointed-radical",
   "metadata": {},
   "source": [
    "There are **a lot** of capabilities within Pandas.  This short bootcamp cannot touch upon every capability within it.  But for this lesson, we want to touch on special handling of datetime data and using grouping.  For this lesson, we will play around with some hypothetical data on users who have accounts at some service."
   ]
  },
  {
   "cell_type": "code",
   "execution_count": null,
   "id": "humanitarian-aquatic",
   "metadata": {},
   "outputs": [],
   "source": [
    "import pandas as pd\n",
    "# Read in from efficient parquet format\n",
    "accounts = pd.read_parquet('data/accounts.parq')\n",
    "accounts"
   ]
  },
  {
   "cell_type": "markdown",
   "id": "dedicated-discount",
   "metadata": {},
   "source": [
    "## Categories\n",
    "\n",
    "Much data in the world is *categorical*; that is, it takes on one of a comparatively few number of distinct values (often represented as strings).  Some categories might be more common, which is often important to notice. For example, favorite flower seems to break down pretty equally among the options."
   ]
  },
  {
   "cell_type": "code",
   "execution_count": null,
   "id": "critical-portfolio",
   "metadata": {},
   "outputs": [],
   "source": [
    "accounts.Favorite_Flower.value_counts()"
   ]
  },
  {
   "cell_type": "markdown",
   "id": "framed-antique",
   "metadata": {},
   "source": [
    "In contrast, some names are much more common than others."
   ]
  },
  {
   "cell_type": "code",
   "execution_count": null,
   "id": "cooked-opposition",
   "metadata": {},
   "outputs": [],
   "source": [
    "accounts.Name.value_counts()"
   ]
  },
  {
   "cell_type": "markdown",
   "id": "amateur-formula",
   "metadata": {},
   "source": [
    "## Date, time, and datetime\n",
    "\n",
    "An important kind of data is timestamp or datetime information.  In our dataset, we have two fields in Pandas' special `datetime64[ns]` datatype, which as the name suggests can store precision down to nanoseconds.  It can also be inspected in interesting and flexible ways."
   ]
  },
  {
   "cell_type": "code",
   "execution_count": null,
   "id": "existing-amazon",
   "metadata": {},
   "outputs": [],
   "source": [
    "accounts.dtypes"
   ]
  },
  {
   "cell_type": "markdown",
   "id": "recovered-treasure",
   "metadata": {},
   "source": [
    "The special `.dt` accessor pokes into datetime columns."
   ]
  },
  {
   "cell_type": "code",
   "execution_count": null,
   "id": "powered-employment",
   "metadata": {},
   "outputs": [],
   "source": [
    "accounts.Account_Closed.dt.year"
   ]
  },
  {
   "cell_type": "markdown",
   "id": "afraid-pattern",
   "metadata": {},
   "source": [
    "It looks like some accounts have long been closed, and a few are paid long in advance.  But most of them are expiring over the previous or next few years."
   ]
  },
  {
   "cell_type": "code",
   "execution_count": null,
   "id": "iraqi-jefferson",
   "metadata": {},
   "outputs": [],
   "source": [
    "(accounts\n",
    "     .Account_Closed\n",
    "     .dt\n",
    "     .year\n",
    "     .value_counts()\n",
    "     .sort_index()\n",
    "     .plot(title=\"Account closing years\"));"
   ]
  },
  {
   "cell_type": "markdown",
   "id": "guided-founder",
   "metadata": {},
   "source": [
    "We can pull off a varity of elements of datetimes to work with."
   ]
  },
  {
   "cell_type": "code",
   "execution_count": null,
   "id": "choice-neutral",
   "metadata": {},
   "outputs": [],
   "source": [
    "# Only the date without the time\n",
    "accounts.Account_Opened.dt.date.head()"
   ]
  },
  {
   "cell_type": "code",
   "execution_count": null,
   "id": "manufactured-island",
   "metadata": {},
   "outputs": [],
   "source": [
    "# Only the time without the date\n",
    "accounts.Account_Opened.dt.time.head()"
   ]
  },
  {
   "cell_type": "code",
   "execution_count": null,
   "id": "broad-planning",
   "metadata": {},
   "outputs": [],
   "source": [
    "# Only the seconds\n",
    "accounts.Account_Opened.dt.second.head()"
   ]
  },
  {
   "cell_type": "markdown",
   "id": "tested-teaching",
   "metadata": {},
   "source": [
    "## Time deltas\n",
    "\n",
    "Arithmetic on datetime objects is powerful and relatively intuitive.  For example, what was the duration for which each account was held?"
   ]
  },
  {
   "cell_type": "code",
   "execution_count": null,
   "id": "distinguished-region",
   "metadata": {},
   "outputs": [],
   "source": [
    "accounts.Account_Closed - accounts.Account_Opened"
   ]
  },
  {
   "cell_type": "markdown",
   "id": "super-employer",
   "metadata": {},
   "source": [
    "We can aggregate timedeltas in much the way we do plain numbers."
   ]
  },
  {
   "cell_type": "code",
   "execution_count": null,
   "id": "resident-miniature",
   "metadata": {},
   "outputs": [],
   "source": [
    "(accounts.Account_Closed - accounts.Account_Opened).mean()"
   ]
  },
  {
   "cell_type": "code",
   "execution_count": null,
   "id": "fossil-scenario",
   "metadata": {},
   "outputs": [],
   "source": [
    "(accounts.Account_Closed - accounts.Account_Opened).min()"
   ]
  },
  {
   "cell_type": "code",
   "execution_count": null,
   "id": "quality-destination",
   "metadata": {},
   "outputs": [],
   "source": [
    "(accounts.Account_Closed - accounts.Account_Opened).max()"
   ]
  },
  {
   "cell_type": "markdown",
   "id": "several-scholarship",
   "metadata": {},
   "source": [
    "Perhaps in an advertising promotion, we will add 60 days until account expiration for all accounts that are currently active.  Let us look at some upcoming expirations first:"
   ]
  },
  {
   "cell_type": "code",
   "execution_count": null,
   "id": "dated-group",
   "metadata": {},
   "outputs": [],
   "source": [
    "(accounts[accounts.Account_Closed > pd.Timestamp.now()]\n",
    "     .sort_values('Account_Closed')\n",
    "     .head()\n",
    ")"
   ]
  },
  {
   "cell_type": "markdown",
   "id": "modern-repeat",
   "metadata": {},
   "source": [
    "Let us add the extra enrollment."
   ]
  },
  {
   "cell_type": "code",
   "execution_count": null,
   "id": "speaking-relay",
   "metadata": {},
   "outputs": [],
   "source": [
    "accounts.loc[accounts.Account_Closed > pd.Timestamp.now(), \n",
    "                'Account_Closed'] += pd.Timedelta(days=60)"
   ]
  },
  {
   "cell_type": "code",
   "execution_count": null,
   "id": "announced-referral",
   "metadata": {},
   "outputs": [],
   "source": [
    "(accounts[accounts.Account_Closed > pd.Timestamp.now()]\n",
    "     .sort_values('Account_Closed')\n",
    "     .head()\n",
    ")"
   ]
  },
  {
   "cell_type": "markdown",
   "id": "passive-korean",
   "metadata": {},
   "source": [
    "## Grouping data\n",
    "\n",
    "Commonly, we are interested in aggregations of rows sharing a common categorical value.  For example, what is the average age and account balance of members who like yellow and lilies?"
   ]
  },
  {
   "cell_type": "code",
   "execution_count": null,
   "id": "southeast-xerox",
   "metadata": {},
   "outputs": [],
   "source": [
    "mask = (accounts.Favorite_Color == \"Yellow\") & (accounts.Favorite_Flower == 'Lily')\n",
    "accounts[mask].Age.median()"
   ]
  },
  {
   "cell_type": "code",
   "execution_count": null,
   "id": "personal-tournament",
   "metadata": {},
   "outputs": [],
   "source": [
    "accounts[mask].Balance.mean()"
   ]
  },
  {
   "cell_type": "markdown",
   "id": "synthetic-berry",
   "metadata": {},
   "source": [
    "Very often we would like to generalize this kind of question though, rather than filtering with a specific mask.  That's where the `.groupby()` method comes in."
   ]
  },
  {
   "cell_type": "code",
   "execution_count": null,
   "id": "compatible-scheme",
   "metadata": {},
   "outputs": [],
   "source": [
    "accounts.groupby(['Favorite_Color', 'Favorite_Flower']).mean()"
   ]
  },
  {
   "cell_type": "markdown",
   "id": "entitled-intranet",
   "metadata": {},
   "source": [
    "In those results, age seems to vary merely randomly, but balance looks more systematic.  Let us explore that."
   ]
  },
  {
   "cell_type": "code",
   "execution_count": null,
   "id": "latest-express",
   "metadata": {},
   "outputs": [],
   "source": [
    "accounts.groupby('Favorite_Flower').Balance.mean().sort_values()"
   ]
  },
  {
   "cell_type": "markdown",
   "id": "amateur-heaven",
   "metadata": {},
   "source": [
    "Those differences do not jump out at us, but more nuanced statistical tests are certainly possible. Let us try a different grouping."
   ]
  },
  {
   "cell_type": "code",
   "execution_count": null,
   "id": "surgical-accommodation",
   "metadata": {},
   "outputs": [],
   "source": [
    "accounts.groupby('Favorite_Color').Balance.mean().sort_values()"
   ]
  },
  {
   "cell_type": "markdown",
   "id": "conscious-jaguar",
   "metadata": {},
   "source": [
    "Here we see a pretty unmistakeable pattern.  Members who like yellow have a notably high balance; those who like green have a notably low balance.  Black looks to be slightly outside the trend, but it is harder to be certain if it could be random variation."
   ]
  },
  {
   "cell_type": "markdown",
   "id": "danish-utility",
   "metadata": {},
   "source": [
    "We might want to look at several different aggregations at the same time to understand general properties of category class distribution.  For example, are members with different names of characteristically different ages?"
   ]
  },
  {
   "cell_type": "code",
   "execution_count": null,
   "id": "owned-portal",
   "metadata": {},
   "outputs": [],
   "source": [
    "accounts.groupby('Name').Age.agg(['min', 'max', 'median', 'std', 'count'])"
   ]
  },
  {
   "cell_type": "markdown",
   "id": "piano-adobe",
   "metadata": {},
   "source": [
    "# Exercises\n",
    "\n",
    "![orange-divider](https://user-images.githubusercontent.com/7065401/92672455-187a5f80-f2ef-11ea-890c-40be9474f7b7.png)"
   ]
  },
  {
   "cell_type": "markdown",
   "id": "alike-throw",
   "metadata": {},
   "source": [
    "## Look for pending events\n",
    "\n",
    "The membership department would like to send membership extension offers to all the over-65 years-old members who have accounts closed in the last six weeks, or that will close in the future.  They wish to prioritize their mailings by the account balance of each qualifying member (from highest to lowest balance).  Produce a DataFrame representing their desired information."
   ]
  },
  {
   "cell_type": "code",
   "execution_count": null,
   "id": "widespread-brick",
   "metadata": {},
   "outputs": [],
   "source": [
    "# your code here..."
   ]
  },
  {
   "cell_type": "markdown",
   "id": "adolescent-clause",
   "metadata": {},
   "source": [
    "## Grouping by month\n",
    "\n",
    "You will need to think a bit about combining things you have learned already to do this exercise.  We would like to know whether users who joined in different months tend to have different attributes.  Write a few lines of Pandas code to answer that question.  Consider that we have both numeric data for balance and age, and also categorical data for favorite flower and color. For categoricals, we might ask what is most common, for example."
   ]
  },
  {
   "cell_type": "code",
   "execution_count": null,
   "id": "studied-detection",
   "metadata": {},
   "outputs": [],
   "source": [
    "# your code here..."
   ]
  }
 ],
 "metadata": {
  "kernelspec": {
   "display_name": "Python 3",
   "language": "python",
   "name": "python3"
  },
  "language_info": {
   "codemirror_mode": {
    "name": "ipython",
    "version": 3
   },
   "file_extension": ".py",
   "mimetype": "text/x-python",
   "name": "python",
   "nbconvert_exporter": "python",
   "pygments_lexer": "ipython3",
   "version": "3.9.1"
  }
 },
 "nbformat": 4,
 "nbformat_minor": 5
}
