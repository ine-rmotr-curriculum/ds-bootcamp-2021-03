{
 "cells": [
  {
   "cell_type": "markdown",
   "id": "coordinated-diameter",
   "metadata": {},
   "source": [
    "![ine-divider](https://user-images.githubusercontent.com/7065401/92672068-398e8080-f2ee-11ea-82d6-ad53f7feb5c0.png)\n",
    "<hr>\n",
    "\n",
    "# Introducing Pandas Series (Solutions)\n",
    "<img src=\"https://user-images.githubusercontent.com/7065401/75165824-badf4680-5701-11ea-9c5b-5475b0a33abf.png\" style=\"width:200px; float: right; margin: 0 40px 40px 40px;\"/>\n",
    "\n",
    "The Pandas (Panel Data) Python library is a very powerful tool for data manipulation and analysis.  We will talk about it throughout several lessons of this bootcamp, and even assume familiarity with Pandas in later lessons."
   ]
  },
  {
   "cell_type": "markdown",
   "id": "annoying-holocaust",
   "metadata": {},
   "source": [
    "# Exercises\n",
    "\n",
    "![orange-divider](https://user-images.githubusercontent.com/7065401/92672455-187a5f80-f2ef-11ea-890c-40be9474f7b7.png)"
   ]
  },
  {
   "cell_type": "code",
   "execution_count": 1,
   "id": "endless-supply",
   "metadata": {},
   "outputs": [],
   "source": [
    "import pandas as pd"
   ]
  },
  {
   "cell_type": "markdown",
   "id": "collectible-quarter",
   "metadata": {},
   "source": [
    "## Series creation"
   ]
  },
  {
   "cell_type": "markdown",
   "id": "colored-warrior",
   "metadata": {},
   "source": [
    "### Create an empty pandas Series"
   ]
  },
  {
   "cell_type": "code",
   "execution_count": 2,
   "id": "significant-academy",
   "metadata": {},
   "outputs": [],
   "source": [
    "# your code goes here"
   ]
  },
  {
   "cell_type": "code",
   "execution_count": 3,
   "id": "timely-upgrade",
   "metadata": {
    "cell_type": "solution"
   },
   "outputs": [
    {
     "data": {
      "text/plain": [
       "Series([], dtype: float64)"
      ]
     },
     "execution_count": 3,
     "metadata": {},
     "output_type": "execute_result"
    }
   ],
   "source": [
    "pd.Series(dtype=float)"
   ]
  },
  {
   "cell_type": "markdown",
   "id": "seven-posting",
   "metadata": {},
   "source": [
    "### Given the X python list convert it to an Y pandas Series"
   ]
  },
  {
   "cell_type": "code",
   "execution_count": 4,
   "id": "olive-couple",
   "metadata": {},
   "outputs": [
    {
     "name": "stdout",
     "output_type": "stream",
     "text": [
      "['A', 'B', 'C'] <class 'list'>\n"
     ]
    }
   ],
   "source": [
    "# your code goes here\n",
    "X = ['A','B','C']\n",
    "print(X, type(X))"
   ]
  },
  {
   "cell_type": "code",
   "execution_count": 5,
   "id": "concrete-twist",
   "metadata": {
    "cell_type": "solution"
   },
   "outputs": [
    {
     "name": "stdout",
     "output_type": "stream",
     "text": [
      "['A', 'B', 'C'] <class 'list'>\n",
      "0    A\n",
      "1    B\n",
      "2    C\n",
      "dtype: object <class 'pandas.core.series.Series'>\n"
     ]
    }
   ],
   "source": [
    "X = ['A','B','C']\n",
    "print(X, type(X))\n",
    "\n",
    "Y = pd.Series(X)\n",
    "print(Y, type(Y)) # different type"
   ]
  },
  {
   "cell_type": "markdown",
   "id": "blocked-bobby",
   "metadata": {},
   "source": [
    "### Given the X pandas Series, name it 'My letters'"
   ]
  },
  {
   "cell_type": "code",
   "execution_count": 6,
   "id": "virtual-debate",
   "metadata": {},
   "outputs": [
    {
     "data": {
      "text/plain": [
       "0    A\n",
       "1    B\n",
       "2    C\n",
       "dtype: object"
      ]
     },
     "execution_count": 6,
     "metadata": {},
     "output_type": "execute_result"
    }
   ],
   "source": [
    "# your code goes here\n",
    "X = pd.Series(['A','B','C'])\n",
    "X"
   ]
  },
  {
   "cell_type": "code",
   "execution_count": 7,
   "id": "bottom-density",
   "metadata": {
    "cell_type": "solution"
   },
   "outputs": [
    {
     "data": {
      "text/plain": [
       "0    A\n",
       "1    B\n",
       "2    C\n",
       "Name: My letters, dtype: object"
      ]
     },
     "execution_count": 7,
     "metadata": {},
     "output_type": "execute_result"
    }
   ],
   "source": [
    "X = pd.Series(['A','B','C'])\n",
    "X.name = 'My letters'\n",
    "X"
   ]
  },
  {
   "cell_type": "markdown",
   "id": "consistent-draft",
   "metadata": {},
   "source": [
    "### Given the X pandas Series, show its values"
   ]
  },
  {
   "cell_type": "code",
   "execution_count": 8,
   "id": "following-bonus",
   "metadata": {},
   "outputs": [],
   "source": [
    "# your code goes here\n",
    "X = pd.Series(['A','B','C'])"
   ]
  },
  {
   "cell_type": "code",
   "execution_count": 9,
   "id": "numeric-treatment",
   "metadata": {
    "cell_type": "solution"
   },
   "outputs": [
    {
     "data": {
      "text/plain": [
       "array(['A', 'B', 'C'], dtype=object)"
      ]
     },
     "execution_count": 9,
     "metadata": {},
     "output_type": "execute_result"
    }
   ],
   "source": [
    "X = pd.Series(['A','B','C'])\n",
    "X.values"
   ]
  },
  {
   "cell_type": "markdown",
   "id": "pressing-trustee",
   "metadata": {},
   "source": [
    "## Series indexing"
   ]
  },
  {
   "cell_type": "markdown",
   "id": "narrative-islam",
   "metadata": {},
   "source": [
    "### Assign index names to the given X pandas Series\n"
   ]
  },
  {
   "cell_type": "code",
   "execution_count": 10,
   "id": "maritime-advantage",
   "metadata": {},
   "outputs": [
    {
     "data": {
      "text/plain": [
       "0    A\n",
       "1    B\n",
       "2    C\n",
       "dtype: object"
      ]
     },
     "execution_count": 10,
     "metadata": {},
     "output_type": "execute_result"
    }
   ],
   "source": [
    "# your code goes here\n",
    "X = pd.Series(['A','B','C'])\n",
    "X"
   ]
  },
  {
   "cell_type": "code",
   "execution_count": 11,
   "id": "romantic-plumbing",
   "metadata": {
    "cell_type": "solution"
   },
   "outputs": [
    {
     "data": {
      "text/plain": [
       "first     A\n",
       "second    B\n",
       "third     C\n",
       "dtype: object"
      ]
     },
     "execution_count": 11,
     "metadata": {},
     "output_type": "execute_result"
    }
   ],
   "source": [
    "X = pd.Series(['A','B','C'])\n",
    "index_names = ['first', 'second', 'third']\n",
    "X.index = index_names\n",
    "X"
   ]
  },
  {
   "cell_type": "markdown",
   "id": "opponent-above",
   "metadata": {},
   "source": [
    "### Given the X pandas Series, show its first element"
   ]
  },
  {
   "cell_type": "code",
   "execution_count": 12,
   "id": "every-graham",
   "metadata": {},
   "outputs": [],
   "source": [
    "X = pd.Series(['A','B','C'], index=['first', 'second', 'third'])\n",
    "# your code goes here"
   ]
  },
  {
   "cell_type": "code",
   "execution_count": 13,
   "id": "federal-gross",
   "metadata": {
    "cell_type": "solution"
   },
   "outputs": [
    {
     "data": {
      "text/plain": [
       "'A'"
      ]
     },
     "execution_count": 13,
     "metadata": {},
     "output_type": "execute_result"
    }
   ],
   "source": [
    "X = pd.Series(['A','B','C'], index=['first', 'second', 'third'])\n",
    "#X[0] # by position\n",
    "#X.iloc[0] # by position\n",
    "X['first'] # by index"
   ]
  },
  {
   "cell_type": "markdown",
   "id": "relevant-danger",
   "metadata": {},
   "source": [
    "### Given the X pandas Series, show its last element"
   ]
  },
  {
   "cell_type": "code",
   "execution_count": 14,
   "id": "strange-export",
   "metadata": {},
   "outputs": [],
   "source": [
    "X = pd.Series(['A','B','C'], index=['first', 'second', 'third'])\n",
    "# your code goes here"
   ]
  },
  {
   "cell_type": "code",
   "execution_count": 15,
   "id": "effective-haiti",
   "metadata": {
    "cell_type": "solution"
   },
   "outputs": [
    {
     "data": {
      "text/plain": [
       "'C'"
      ]
     },
     "execution_count": 15,
     "metadata": {},
     "output_type": "execute_result"
    }
   ],
   "source": [
    "X = pd.Series(['A','B','C'], index=['first', 'second', 'third'])\n",
    "#X[-1] # by position\n",
    "X.iloc[-1] # by position\n",
    "#X['third'] # by index"
   ]
  },
  {
   "cell_type": "markdown",
   "id": "caring-happiness",
   "metadata": {},
   "source": [
    "### Given the X pandas Series, show all middle elements"
   ]
  },
  {
   "cell_type": "code",
   "execution_count": 16,
   "id": "turkish-liabilities",
   "metadata": {},
   "outputs": [],
   "source": [
    "# your code goes here\n",
    "X = pd.Series(['A','B','C','D','E'],\n",
    "              index=['first','second','third','forth','fifth'])"
   ]
  },
  {
   "cell_type": "code",
   "execution_count": 17,
   "id": "average-clinton",
   "metadata": {
    "cell_type": "solution"
   },
   "outputs": [
    {
     "data": {
      "text/plain": [
       "second    B\n",
       "third     C\n",
       "forth     D\n",
       "dtype: object"
      ]
     },
     "execution_count": 17,
     "metadata": {},
     "output_type": "execute_result"
    }
   ],
   "source": [
    "X = pd.Series(['A','B','C','D','E'],\n",
    "              index=['first','second','third','forth','fifth'])\n",
    "#X[['second', 'third', 'forth']]\n",
    "#X.iloc[1:-1] # by position\n",
    "X[1:-1] # by position"
   ]
  },
  {
   "cell_type": "markdown",
   "id": "healthy-color",
   "metadata": {},
   "source": [
    "### Given the X pandas Series, show the elements in reverse position"
   ]
  },
  {
   "cell_type": "code",
   "execution_count": 18,
   "id": "together-synthetic",
   "metadata": {},
   "outputs": [],
   "source": [
    "# your code goes here\n",
    "X = pd.Series(['A','B','C','D','E'],\n",
    "              index=['first','second','third','forth','fifth'])"
   ]
  },
  {
   "cell_type": "code",
   "execution_count": 19,
   "id": "damaged-adapter",
   "metadata": {
    "cell_type": "solution"
   },
   "outputs": [
    {
     "data": {
      "text/plain": [
       "fifth     E\n",
       "forth     D\n",
       "third     C\n",
       "second    B\n",
       "first     A\n",
       "dtype: object"
      ]
     },
     "execution_count": 19,
     "metadata": {},
     "output_type": "execute_result"
    }
   ],
   "source": [
    "X = pd.Series(['A','B','C','D','E'],\n",
    "              index=['first','second','third','forth','fifth'])\n",
    "X.iloc[::-1]\n",
    "#X[::-1]"
   ]
  },
  {
   "cell_type": "markdown",
   "id": "short-representative",
   "metadata": {},
   "source": [
    "### Given the X pandas Series, show the first and last elements"
   ]
  },
  {
   "cell_type": "code",
   "execution_count": 20,
   "id": "magnetic-nepal",
   "metadata": {},
   "outputs": [],
   "source": [
    "# your code goes here\n",
    "X = pd.Series(['A','B','C','D','E'],\n",
    "              index=['first','second','third','fourth','fifth'])"
   ]
  },
  {
   "cell_type": "code",
   "execution_count": 21,
   "id": "limiting-lecture",
   "metadata": {
    "cell_type": "solution"
   },
   "outputs": [
    {
     "data": {
      "text/plain": [
       "first    A\n",
       "fifth    E\n",
       "dtype: object"
      ]
     },
     "execution_count": 21,
     "metadata": {},
     "output_type": "execute_result"
    }
   ],
   "source": [
    "X = pd.Series(['A','B','C','D','E'],\n",
    "              index=['first','second','third','fourth','fifth'])\n",
    "#X[['first', 'fifth']]\n",
    "X.iloc[[0, -1]]\n",
    "#X[[0, -1]]"
   ]
  },
  {
   "cell_type": "markdown",
   "id": "little-planet",
   "metadata": {},
   "source": [
    "## Series manipulation"
   ]
  },
  {
   "cell_type": "markdown",
   "id": "particular-beatles",
   "metadata": {},
   "source": [
    "### Convert the given integer pandas Series to float\n"
   ]
  },
  {
   "cell_type": "code",
   "execution_count": 22,
   "id": "disciplinary-bullet",
   "metadata": {},
   "outputs": [
    {
     "data": {
      "text/plain": [
       "first     1\n",
       "second    2\n",
       "third     3\n",
       "fourth    4\n",
       "fifth     5\n",
       "dtype: int64"
      ]
     },
     "execution_count": 22,
     "metadata": {},
     "output_type": "execute_result"
    }
   ],
   "source": [
    "# your code goes here\n",
    "X = pd.Series([1, 2, 3, 4, 5],\n",
    "              index=['first', 'second', 'third', 'fourth', 'fifth'])\n",
    "X"
   ]
  },
  {
   "cell_type": "code",
   "execution_count": 23,
   "id": "recent-librarian",
   "metadata": {
    "cell_type": "solution"
   },
   "outputs": [
    {
     "data": {
      "text/plain": [
       "first     1.0\n",
       "second    2.0\n",
       "third     3.0\n",
       "fourth    4.0\n",
       "fifth     5.0\n",
       "dtype: float64"
      ]
     },
     "execution_count": 23,
     "metadata": {},
     "output_type": "execute_result"
    }
   ],
   "source": [
    "X = pd.Series([1,2,3,4,5],\n",
    "              index=['first','second','third','fourth','fifth'])\n",
    "pd.Series(X, dtype=float)"
   ]
  },
  {
   "cell_type": "code",
   "execution_count": 24,
   "id": "fifteen-orbit",
   "metadata": {},
   "outputs": [
    {
     "data": {
      "text/plain": [
       "first     1.0\n",
       "second    2.0\n",
       "third     3.0\n",
       "fourth    4.0\n",
       "fifth     5.0\n",
       "dtype: float64"
      ]
     },
     "execution_count": 24,
     "metadata": {},
     "output_type": "execute_result"
    }
   ],
   "source": [
    "# Alternate solution\n",
    "X.astype(float)"
   ]
  },
  {
   "cell_type": "markdown",
   "id": "comparable-triumph",
   "metadata": {},
   "source": [
    "### Order (sort) the given pandas Series"
   ]
  },
  {
   "cell_type": "code",
   "execution_count": 25,
   "id": "enormous-tuner",
   "metadata": {},
   "outputs": [],
   "source": [
    "X = pd.Series([4, 2, 5, 1, 3],\n",
    "              index=['fourth', 'second', 'fifth', 'first', 'third'])\n",
    "# your code goes here"
   ]
  },
  {
   "cell_type": "code",
   "execution_count": 26,
   "id": "stainless-topic",
   "metadata": {
    "cell_type": "solution"
   },
   "outputs": [
    {
     "data": {
      "text/plain": [
       "first     1\n",
       "second    2\n",
       "third     3\n",
       "fourth    4\n",
       "fifth     5\n",
       "dtype: int64"
      ]
     },
     "execution_count": 26,
     "metadata": {},
     "output_type": "execute_result"
    }
   ],
   "source": [
    "X = pd.Series([4, 2, 5, 1, 3],\n",
    "              index=['fourth', 'second', 'fifth', 'first', 'third'])\n",
    "X = X.sort_values()\n",
    "X"
   ]
  },
  {
   "cell_type": "markdown",
   "id": "arctic-amazon",
   "metadata": {},
   "source": [
    "### Given the X pandas Series, set the fifth element equal to 10"
   ]
  },
  {
   "cell_type": "code",
   "execution_count": 27,
   "id": "acoustic-radiation",
   "metadata": {},
   "outputs": [],
   "source": [
    "X = pd.Series([1, 2, 3, 4, 5],\n",
    "              index=['A', 'B', 'C', 'D', 'E'])\n",
    "# your code goes here"
   ]
  },
  {
   "cell_type": "code",
   "execution_count": 28,
   "id": "younger-potential",
   "metadata": {
    "cell_type": "solution"
   },
   "outputs": [
    {
     "data": {
      "text/plain": [
       "A     1\n",
       "B     2\n",
       "C     3\n",
       "D     4\n",
       "E    10\n",
       "dtype: int64"
      ]
     },
     "execution_count": 28,
     "metadata": {},
     "output_type": "execute_result"
    }
   ],
   "source": [
    "X = pd.Series([1, 2, 3, 4, 5],\n",
    "              index=['A', 'B', 'C', 'D', 'E'])\n",
    "X.iloc[4] = 10\n",
    "X"
   ]
  },
  {
   "cell_type": "markdown",
   "id": "closing-kinase",
   "metadata": {},
   "source": [
    "### Given the X pandas Series, change all the middle elements to 0"
   ]
  },
  {
   "cell_type": "code",
   "execution_count": 29,
   "id": "sublime-victim",
   "metadata": {},
   "outputs": [],
   "source": [
    "# your code goes here\n",
    "X = pd.Series([1, 2, 3, 4, 5],\n",
    "              index=['A', 'B', 'C', 'D', 'E'])"
   ]
  },
  {
   "cell_type": "code",
   "execution_count": 30,
   "id": "encouraging-concentration",
   "metadata": {
    "cell_type": "solution"
   },
   "outputs": [
    {
     "data": {
      "text/plain": [
       "A    1\n",
       "B    0\n",
       "C    0\n",
       "D    0\n",
       "E    5\n",
       "dtype: int64"
      ]
     },
     "execution_count": 30,
     "metadata": {},
     "output_type": "execute_result"
    }
   ],
   "source": [
    "X = pd.Series([1, 2, 3, 4, 5],\n",
    "              index=['A', 'B', 'C', 'D', 'E'])\n",
    "X[1:-1] = 0\n",
    "X"
   ]
  },
  {
   "cell_type": "markdown",
   "id": "aquatic-mobility",
   "metadata": {},
   "source": [
    "### Given the X pandas Series, add 5 to every element"
   ]
  },
  {
   "cell_type": "code",
   "execution_count": 31,
   "id": "electrical-coaching",
   "metadata": {},
   "outputs": [],
   "source": [
    "X = pd.Series([1,2,3,4,5],\n",
    "              index=['A','B','C','D','E'])\n",
    "# your code goes here\n"
   ]
  },
  {
   "cell_type": "code",
   "execution_count": 32,
   "id": "automated-damages",
   "metadata": {
    "cell_type": "solution"
   },
   "outputs": [
    {
     "data": {
      "text/plain": [
       "A     6\n",
       "B     7\n",
       "C     8\n",
       "D     9\n",
       "E    10\n",
       "dtype: int64"
      ]
     },
     "execution_count": 32,
     "metadata": {},
     "output_type": "execute_result"
    }
   ],
   "source": [
    "X = pd.Series([1,2,3,4,5],\n",
    "              index=['A','B','C','D','E'])\n",
    "X + 5"
   ]
  },
  {
   "cell_type": "markdown",
   "id": "macro-endorsement",
   "metadata": {},
   "source": [
    "## Boolean arrays (also called masks)"
   ]
  },
  {
   "cell_type": "markdown",
   "id": "affected-monroe",
   "metadata": {},
   "source": [
    "### Given the X pandas Series, make a mask showing negative elements\n"
   ]
  },
  {
   "cell_type": "code",
   "execution_count": 33,
   "id": "humanitarian-driving",
   "metadata": {},
   "outputs": [],
   "source": [
    "X = pd.Series([-1, 2, 0, -4, 5, 6, 0, 0, -9, 10])\n",
    "# your code goes here"
   ]
  },
  {
   "cell_type": "code",
   "execution_count": 34,
   "id": "artistic-subscriber",
   "metadata": {
    "cell_type": "solution"
   },
   "outputs": [
    {
     "data": {
      "text/plain": [
       "0     True\n",
       "1    False\n",
       "2     True\n",
       "3     True\n",
       "4    False\n",
       "5    False\n",
       "6     True\n",
       "7     True\n",
       "8     True\n",
       "9    False\n",
       "dtype: bool"
      ]
     },
     "execution_count": 34,
     "metadata": {},
     "output_type": "execute_result"
    }
   ],
   "source": [
    "X = pd.Series([-1, 2, 0, -4, 5, 6, 0, 0, -9, 10])\n",
    "mask = X <= 0\n",
    "mask"
   ]
  },
  {
   "cell_type": "markdown",
   "id": "complex-background",
   "metadata": {},
   "source": [
    "### Given the X pandas Series, get the negative elements"
   ]
  },
  {
   "cell_type": "code",
   "execution_count": 35,
   "id": "extraordinary-shelter",
   "metadata": {},
   "outputs": [],
   "source": [
    "X = pd.Series([-1, 2, 0, -4, 5, 6, 0, 0, -9, 10])\n",
    "# your code goes here"
   ]
  },
  {
   "cell_type": "code",
   "execution_count": 36,
   "id": "iraqi-classic",
   "metadata": {
    "cell_type": "solution"
   },
   "outputs": [
    {
     "data": {
      "text/plain": [
       "0   -1\n",
       "2    0\n",
       "3   -4\n",
       "6    0\n",
       "7    0\n",
       "8   -9\n",
       "dtype: int64"
      ]
     },
     "execution_count": 36,
     "metadata": {},
     "output_type": "execute_result"
    }
   ],
   "source": [
    "X = pd.Series([-1, 2, 0, -4, 5, 6, 0, 0, -9, 10])\n",
    "mask = X <= 0\n",
    "X[mask]"
   ]
  },
  {
   "cell_type": "markdown",
   "id": "delayed-funds",
   "metadata": {},
   "source": [
    "### Given the X pandas Series, get numbers larger than 5\n"
   ]
  },
  {
   "cell_type": "code",
   "execution_count": 37,
   "id": "spoken-bottom",
   "metadata": {},
   "outputs": [],
   "source": [
    "X = pd.Series([-1, 2, 0, -4, 5, 6, 0, 0, -9, 10])\n",
    "# your code goes here"
   ]
  },
  {
   "cell_type": "code",
   "execution_count": 38,
   "id": "applied-expert",
   "metadata": {
    "cell_type": "solution"
   },
   "outputs": [
    {
     "data": {
      "text/plain": [
       "5     6\n",
       "9    10\n",
       "dtype: int64"
      ]
     },
     "execution_count": 38,
     "metadata": {},
     "output_type": "execute_result"
    }
   ],
   "source": [
    "X = pd.Series([-1, 2, 0, -4, 5, 6, 0, 0, -9, 10])\n",
    "mask = X > 5\n",
    "X[mask]"
   ]
  },
  {
   "cell_type": "markdown",
   "id": "external-titanium",
   "metadata": {},
   "source": [
    "### Given the X pandas Series, select numbers higher than the elements mean"
   ]
  },
  {
   "cell_type": "code",
   "execution_count": 39,
   "id": "supported-intake",
   "metadata": {},
   "outputs": [],
   "source": [
    "X = pd.Series([-1, 2, 0, -4, 5, 6, 0, 0, -9, 10])\n",
    "# your code goes here"
   ]
  },
  {
   "cell_type": "code",
   "execution_count": 40,
   "id": "hungarian-stocks",
   "metadata": {
    "cell_type": "solution"
   },
   "outputs": [
    {
     "data": {
      "text/plain": [
       "1     2\n",
       "4     5\n",
       "5     6\n",
       "9    10\n",
       "dtype: int64"
      ]
     },
     "execution_count": 40,
     "metadata": {},
     "output_type": "execute_result"
    }
   ],
   "source": [
    "X = pd.Series([-1, 2, 0, -4, 5, 6, 0, 0, -9, 10])\n",
    "mask = X > X.mean()\n",
    "X[mask]"
   ]
  },
  {
   "cell_type": "markdown",
   "id": "herbal-treat",
   "metadata": {},
   "source": [
    "### Given the X pandas Series, get numbers equal to 2 or 10"
   ]
  },
  {
   "cell_type": "code",
   "execution_count": 41,
   "id": "accepting-museum",
   "metadata": {},
   "outputs": [],
   "source": [
    "X = pd.Series([-1, 2, 0, -4, 5, 6, 0, 0, -9, 10])\n",
    "# your code goes here"
   ]
  },
  {
   "cell_type": "code",
   "execution_count": 42,
   "id": "recognized-arthritis",
   "metadata": {},
   "outputs": [
    {
     "data": {
      "text/plain": [
       "1     2\n",
       "9    10\n",
       "dtype: int64"
      ]
     },
     "execution_count": 42,
     "metadata": {},
     "output_type": "execute_result"
    }
   ],
   "source": [
    "X = pd.Series([-1, 2, 0, -4, 5, 6, 0, 0, -9, 10])\n",
    "mask = (X == 2) | (X == 10)\n",
    "X[mask]"
   ]
  },
  {
   "cell_type": "code",
   "execution_count": 43,
   "id": "welsh-lotus",
   "metadata": {},
   "outputs": [
    {
     "data": {
      "text/plain": [
       "1     2\n",
       "9    10\n",
       "dtype: int64"
      ]
     },
     "execution_count": 43,
     "metadata": {},
     "output_type": "execute_result"
    }
   ],
   "source": [
    "# Alternate solution\n",
    "X[X.isin([2, 10])]"
   ]
  },
  {
   "cell_type": "markdown",
   "id": "naughty-principle",
   "metadata": {},
   "source": [
    "## Logic functions"
   ]
  },
  {
   "cell_type": "markdown",
   "id": "blind-courtesy",
   "metadata": {},
   "source": [
    "### Given the X pandas Series, return True if none of its elements is zero"
   ]
  },
  {
   "cell_type": "code",
   "execution_count": 44,
   "id": "optical-episode",
   "metadata": {},
   "outputs": [],
   "source": [
    "X = pd.Series([-1, 2, 0, -4, 5, 6, 0, 0, -9, 10])\n",
    "# your code goes here"
   ]
  },
  {
   "cell_type": "code",
   "execution_count": 45,
   "id": "transparent-hostel",
   "metadata": {
    "cell_type": "solution"
   },
   "outputs": [
    {
     "data": {
      "text/plain": [
       "False"
      ]
     },
     "execution_count": 45,
     "metadata": {},
     "output_type": "execute_result"
    }
   ],
   "source": [
    "X = pd.Series([-1, 2, 0, -4, 5, 6, 0, 0, -9, 10])\n",
    "(X != 0).all()"
   ]
  },
  {
   "cell_type": "markdown",
   "id": "sonic-peripheral",
   "metadata": {},
   "source": [
    "### Given the X pandas Series, return True if any of its elements is zero"
   ]
  },
  {
   "cell_type": "code",
   "execution_count": 46,
   "id": "expired-moderator",
   "metadata": {},
   "outputs": [],
   "source": [
    "X = pd.Series([-1, 2, 0, -4, 5, 6, 0, 0, -9, 10])\n",
    "# your code goes here"
   ]
  },
  {
   "cell_type": "code",
   "execution_count": 47,
   "id": "detailed-commissioner",
   "metadata": {
    "cell_type": "solution"
   },
   "outputs": [
    {
     "data": {
      "text/plain": [
       "True"
      ]
     },
     "execution_count": 47,
     "metadata": {},
     "output_type": "execute_result"
    }
   ],
   "source": [
    "X = pd.Series([-1, 2, 0, -4, 5, 6, 0, 0, -9, 10])\n",
    "(X == 0).any()"
   ]
  },
  {
   "cell_type": "markdown",
   "id": "cooked-sampling",
   "metadata": {},
   "source": [
    "## Summary statistics"
   ]
  },
  {
   "cell_type": "markdown",
   "id": "technological-colors",
   "metadata": {},
   "source": [
    "### Given the X pandas Series, show the sum of its elements\n"
   ]
  },
  {
   "cell_type": "code",
   "execution_count": 48,
   "id": "shared-ranking",
   "metadata": {},
   "outputs": [],
   "source": [
    "X = pd.Series([3, 5, 6, 7, 2, 3, 4, 9, 4])\n",
    "# your code goes here"
   ]
  },
  {
   "cell_type": "code",
   "execution_count": 49,
   "id": "peripheral-privacy",
   "metadata": {
    "cell_type": "solution"
   },
   "outputs": [
    {
     "data": {
      "text/plain": [
       "43"
      ]
     },
     "execution_count": 49,
     "metadata": {},
     "output_type": "execute_result"
    }
   ],
   "source": [
    "X = pd.Series([3, 5, 6, 7, 2, 3, 4, 9, 4])\n",
    "X.sum()"
   ]
  },
  {
   "cell_type": "markdown",
   "id": "exposed-advocacy",
   "metadata": {},
   "source": [
    "### Given the X pandas Series, show the mean value of its elements"
   ]
  },
  {
   "cell_type": "code",
   "execution_count": 50,
   "id": "interracial-honduras",
   "metadata": {},
   "outputs": [],
   "source": [
    "X = pd.Series([1, 2, 0, 4, 5, 6, 0, 0, 9, 10])\n",
    "# your code goes here"
   ]
  },
  {
   "cell_type": "code",
   "execution_count": 51,
   "id": "transparent-turtle",
   "metadata": {
    "cell_type": "solution"
   },
   "outputs": [
    {
     "data": {
      "text/plain": [
       "3.7"
      ]
     },
     "execution_count": 51,
     "metadata": {},
     "output_type": "execute_result"
    }
   ],
   "source": [
    "X = pd.Series([1, 2, 0, 4, 5, 6, 0, 0, 9, 10])\n",
    "X.mean()"
   ]
  },
  {
   "cell_type": "markdown",
   "id": "entire-italian",
   "metadata": {},
   "source": [
    "### Given the X pandas Series, show the max value of its elements"
   ]
  },
  {
   "cell_type": "code",
   "execution_count": 52,
   "id": "sustained-stevens",
   "metadata": {},
   "outputs": [],
   "source": [
    "X = pd.Series([1, 2, 0, 4, 5, 6, 0, 0, 9, 10])\n",
    "# your code goes here"
   ]
  },
  {
   "cell_type": "code",
   "execution_count": 53,
   "id": "polish-driver",
   "metadata": {
    "cell_type": "solution"
   },
   "outputs": [
    {
     "data": {
      "text/plain": [
       "10"
      ]
     },
     "execution_count": 53,
     "metadata": {},
     "output_type": "execute_result"
    }
   ],
   "source": [
    "X = pd.Series([1, 2, 0, 4, 5, 6, 0, 0, 9, 10])\n",
    "X.max()"
   ]
  }
 ],
 "metadata": {
  "kernelspec": {
   "display_name": "Python 3",
   "language": "python",
   "name": "python3"
  },
  "language_info": {
   "codemirror_mode": {
    "name": "ipython",
    "version": 3
   },
   "file_extension": ".py",
   "mimetype": "text/x-python",
   "name": "python",
   "nbconvert_exporter": "python",
   "pygments_lexer": "ipython3",
   "version": "3.9.1"
  }
 },
 "nbformat": 4,
 "nbformat_minor": 5
}
