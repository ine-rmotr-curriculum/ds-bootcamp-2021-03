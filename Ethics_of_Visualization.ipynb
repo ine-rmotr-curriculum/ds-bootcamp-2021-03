{
 "cells": [
  {
   "cell_type": "markdown",
   "metadata": {},
   "source": [
    "<div style=\"position: relative;\">\n",
    "<img src=\"https://user-images.githubusercontent.com/7065401/98728503-5ab82f80-2378-11eb-9c79-adeb308fc647.png\"></img>\n",
    "\n",
    "<h1 style=\"color: white; position: absolute; top:27%; left:10%;\">\n",
    "     INE Bootcamp\n",
    "</h1>\n",
    "<h2 style=\"color: white; position: absolute; top:36%; left:10%;\">\n",
    "    Data Analysis, Visualization and Predictive Modeling\n",
    "</h2> \n",
    "\n",
    "<h3 style=\"color: #ef7d22; font-weight: normal; position: absolute; top:58%; left:10%;\">\n",
    "    <b>David Mertz, Ph.D.</b>\n",
    "</h3>\n",
    "\n",
    "<h3 style=\"color: #ef7d22; font-weight: normal; position: absolute; top:63%; left:10%;\">\n",
    "    <b>Data Scientist</b>\n",
    "</h3>\n",
    "</div>"
   ]
  },
  {
   "cell_type": "markdown",
   "metadata": {},
   "source": [
    "<div style=\"position: relative;\">\n",
    "<img src=\"https://user-images.githubusercontent.com/7065401/98728503-5ab82f80-2378-11eb-9c79-adeb308fc647.png\"></img>\n",
    "\n",
    "<h1 style=\"color: white; position: absolute; top:27%; left:10%;\">\n",
    "     Day 2 Agenda\n",
    "</h1>\n",
    "<h3 style=\"color: white; position: absolute; top:36%; left:10%; line-height: 1.5;\">\n",
    "Continuing Python essentials<br/>\n",
    "Break and programming exercises<br/>\n",
    "The Ethics of Visualization<br/>\n",
    "Break and thought exercises<br/>\n",
    "Visualization using Pandas<br/>\n",
    "Break and programming exercise<br/>\n",
    "Advanced Pandas: Groupby, Timeseries<br/>\n",
    "Break and programming exercise<br/>\n",
    "Review and questions<br/>\n",
    "</h3>\n",
    "</div>"
   ]
  },
  {
   "cell_type": "markdown",
   "metadata": {
    "id": "q7I6TGv6b0aj"
   },
   "source": [
    "<div style=\"width: 100%; height: 200px; background-color: #222; text-align: center; padding-top: 20px; margin-bottom: 40px;\">\n",
    "<br><br>\n",
    "\n",
    "<h1 style=\"color: white; font-weight: bold;\">\n",
    "    The Ethics of Visualization\n",
    "</h1>\n",
    "\n",
    "<br><br> \n",
    "</div>\n",
    "\n",
    "Before we decide to use a visualization library to represent numeric, quantitative, and scientific data, we should think about the *ethics* of information presentation.  To a large extent, the same kinds of advice apply even to tabular and textual information, but it becomes especially acute in regard to graphs and other kinds of information visualization.\n",
    "\n",
    "The responsibility of anyone presenting numeric information is to present it:\n",
    "\n",
    "* accurately\n",
    "* meaningfully\n",
    "* truthfully\n",
    "* coherently\n",
    "* minimizing distortion\n",
    "* eschewing extraneous elements\n",
    "* allowing discernment of relevant features \n",
    "\n",
    "This is difficult with complex and highly dimensional data, but the responsibility remains with the creator and presenter. "
   ]
  },
  {
   "cell_type": "code",
   "execution_count": null,
   "metadata": {
    "id": "CdQlTOZOb0ag"
   },
   "outputs": [],
   "source": [
    "%matplotlib inline\n",
    "import math\n",
    "import numpy as np\n",
    "import pandas as pd\n",
    "import matplotlib.pyplot as plt\n",
    "pd.options.display.max_rows = 15"
   ]
  },
  {
   "cell_type": "markdown",
   "metadata": {
    "id": "yld_VYZdb0a1"
   },
   "source": [
    "<h2 style=\"font-weight: bold;\">\n",
    "    Practicing Good Judgement\n",
    "</h2>\n",
    "\n",
    "![orange-divider](https://user-images.githubusercontent.com/7065401/98619088-44ab6000-22e1-11eb-8f6d-5532e68ab274.png)\n",
    "\n",
    "Choosing the correct representation is nuanced and requires judgement.  No *a priori* rules can decide all these issues, but this module presents some good rules of thumb.  For better or worse, Matplotlib is very well able to create both good and bad graphs.  Use it wisely."
   ]
  },
  {
   "cell_type": "markdown",
   "metadata": {
    "id": "sgO4D--Lb0a1"
   },
   "source": [
    "[Edward Tufte](Edward) is a founding figure in information visualization.  His thought and his works generally preceded the availability of some of the sophisticated computerized, online, and interactive visualization tools. To a small degree, some of his advice should be adjusted when graphs allow us to interactively rescale, zoom, rotate, re-facet, and perform other rearrangements of data.  But the large majority of what he wrote about print-based data visualization applies equally well to those you will generate, even if they will never be printed.\n",
    "\n",
    "See _[The Visual Display of Quantitative Information](https://www.edwardtufte.com/tufte/books_vdqi)_ and his three other titles for profound discussion of these issues."
   ]
  },
  {
   "cell_type": "markdown",
   "metadata": {
    "id": "vNpns9YTb0a2"
   },
   "source": [
    "<h2 style=\"font-weight: bold;\">\n",
    "    Bad Graphs\n",
    "</h2>\n",
    "\n",
    "![orange-divider](https://user-images.githubusercontent.com/7065401/98619088-44ab6000-22e1-11eb-8f6d-5532e68ab274.png)\n",
    "\n",
    "Simple data is often presented better in a table than in a graph.  But where a graph is used, some graphs are simply better suited to present \"small data\" than others.  Pie charts, notably, are **always a bad choice** (that are widely used)."
   ]
  },
  {
   "cell_type": "markdown",
   "metadata": {
    "id": "dLeLubreb0a2"
   },
   "source": [
    "Let us look at a dataset based on the [Stockhold International Peace Research Institute](https://en.wikipedia.org/wiki/Stockholm_International_Peace_Research_Institute) on 2018 [military expenditure](https://en.wikipedia.org/wiki/List_of_countries_by_military_expenditures).  The data can be presented completely and accurately using a table."
   ]
  },
  {
   "cell_type": "markdown",
   "metadata": {
    "id": "VepwCP54b0a2"
   },
   "source": [
    "<h2 style=\"font-weight: bold;\">\n",
    "    A table\n",
    "</h2>\n",
    "\n",
    "![orange-divider](https://user-images.githubusercontent.com/7065401/98619088-44ab6000-22e1-11eb-8f6d-5532e68ab274.png)\n"
   ]
  },
  {
   "cell_type": "code",
   "execution_count": null,
   "metadata": {
    "id": "-VOqEPemb0a2"
   },
   "outputs": [],
   "source": [
    "df = pd.read_csv(\"data/military.csv\", index_col='Country')\n",
    "df.sort_values('Spending (USD x 1e8)', ascending=False)"
   ]
  },
  {
   "cell_type": "markdown",
   "metadata": {
    "id": "wFLP87Bnb0a3"
   },
   "source": [
    "---\n",
    "### Pie chart\n",
    "\n",
    "The below pie chart makes an earnest effort within the format to present the information fairly.  It *does* successfully draw the eye to the fact that the United States is, by far, the largest spender; and that China is a distant second, but still far ahead of others. A sincere effort was made to make this chart less bad than a completely naive presentation within the format (such as choosing a rotation to allow labels to avoid overlap)."
   ]
  },
  {
   "cell_type": "markdown",
   "metadata": {
    "id": "NcxPrjvBb0a3"
   },
   "source": [
    "However, try to discern in the chart the relative spending of the UK, Germany, and Russia.  It is difficult, even though the differences are significant and obvious in the table.  Moreover, Japan is nearly equal to Germany, and yet the position relative to other size slices gives the initial appearance it is significantly smaller (perhaps the color assignments influence the illusion as well)."
   ]
  },
  {
   "cell_type": "code",
   "execution_count": null,
   "metadata": {
    "id": "K5Nz-zMvb0a4"
   },
   "outputs": [],
   "source": [
    "# Pie chart, where the slices will be ordered and plotted counter-clockwise:\n",
    "labels = df.index\n",
    "data = df.iloc[:, 0]\n",
    "explode = [0] * len(df)\n",
    "\n",
    "# Attempt to emphasize the largest spenders visually\n",
    "explode[df.index.get_loc('USA')] = 0.05  # Pull out slice for USA\n",
    "explode[df.index.get_loc('China')] = 0.075 # And for China\n",
    "\n",
    "# Numbers only have room in the larger slices\n",
    "def show_large(x):\n",
    "    return f\"{int(x):d}%\" if x > 15 else \"\"\n",
    "\n",
    "# Choose a figure size a bit larger than default, and make sure circle is round\n",
    "fig, ax = plt.subplots(figsize=(12, 6), subplot_kw=dict(aspect=\"equal\"))\n",
    "wedges, texts, percents = ax.pie(data, \n",
    "                                 labels=labels, \n",
    "                                 explode=explode, \n",
    "                                 startangle=150, \n",
    "                                 autopct=show_large)\n",
    "\n",
    "ax.set_title('Division of military expenditures among top 15 nations')\n",
    "# Equal aspect ratio ensures that pie is drawn as a circle.\n",
    "ax.axis('equal');  "
   ]
  },
  {
   "cell_type": "markdown",
   "metadata": {
    "id": "OHzgXh_zb0a4"
   },
   "source": [
    "As if there were not enough problems, the colors in pie charts—including this one—have no actual information value, but might mislead viewers to expect meaning rather than mere decoration. Were you to utilize color to encode other information—such as GDP percentage—we would likely wind up with wedges whose boundaries were not discernable."
   ]
  },
  {
   "cell_type": "markdown",
   "metadata": {
    "id": "oI1n5NJlb0a5"
   },
   "source": [
    "---\n",
    "### (Mis)judging area\n",
    "\n",
    "A common device in popular infographics is to use shapes with areas meant to represent the degree of quantities.  Humans are *very bad* at visually comparing areas.  In a very rough way, \"bigger\" vs. \"smaller\" are visual judgements we can make (albeit, proximity and color can often mislead us also).  But in any finer detail of judging relative quantities, this style amounts to \"chartjunk\" (a Tufte term)."
   ]
  },
  {
   "cell_type": "markdown",
   "metadata": {
    "id": "q7WP5ftNb0a5"
   },
   "source": [
    "Here again we make a sincere effort to enlist this format in a useful presentation.  We even try to enlist colors to represent GDP percentage at the same time as size to represent absolute amount.  The effect is minimally successful, since humans judge neither area nor precise color difference all that well."
   ]
  },
  {
   "cell_type": "code",
   "execution_count": null,
   "metadata": {
    "id": "Pjm3zODKb0a5"
   },
   "outputs": [],
   "source": [
    "from matplotlib import cm\n",
    "cmap = cm.get_cmap('inferno')\n",
    "df = df.sort_index(ascending=False)"
   ]
  },
  {
   "cell_type": "code",
   "execution_count": null,
   "metadata": {
    "id": "7cGkDvHeb0a5"
   },
   "outputs": [],
   "source": [
    "# Choose a figure size a bit larger than default\n",
    "# Force circles rather than ellipses with `subplot_kw={'aspect':\"equal\"}`\n",
    "fig, ax = plt.subplots(figsize=(12, 6))\n",
    "spend = \"Spending (USD x 1e8)\"\n",
    "gdp = \"GDP %\"\n",
    "\n",
    "for i in range(0, 15, 5):\n",
    "    for j in range(0, 5):\n",
    "        x = 0.9 - j/5\n",
    "        y = 0.1 + i/15\n",
    "        country = df.index[i+j]\n",
    "        ax.text(x, y+0.11, country, horizontalalignment='center')\n",
    "        radius = math.sqrt(df.loc[country, spend])/300\n",
    "        percent = df.loc[country, gdp]\n",
    "        circ = plt.Circle((x, y), radius=radius, color=cmap(percent/10))\n",
    "        ax.add_patch(circ)\n",
    "\n",
    "cbar = fig.colorbar(cm.ScalarMappable(cmap=cmap), ax=ax)\n",
    "cbar.set_label(\"GDP %\")\n",
    "\n",
    "ax.get_xaxis().set_visible(False)\n",
    "ax.get_yaxis().set_visible(False)\n",
    "ax.set_title('Division of military expenditures among top 15 nations');"
   ]
  },
  {
   "cell_type": "markdown",
   "metadata": {
    "id": "eeizWt18b0a6"
   },
   "source": [
    "---\n",
    "### Even worse area judgements\n",
    "\n",
    "We do not prepare one in Matplotlib—although it is certainly capable of using complex outlines—but one infographic device often enlisted is to use meaningful or iconic shapes, such as territorial boundaries or cartoons of familiar objects, for shapes that are in turn scaled."
   ]
  },
  {
   "cell_type": "markdown",
   "metadata": {
    "id": "tab8AJgRb0a7"
   },
   "source": [
    "While this effect can certainly be \"cute\" it makes judgement of actual quantities even more difficult than with circles or other similar simple shapes. Beyond some very gross judgements like \"Germany is bigger by exports than by geographic area,\" all fine detail of the information is lost to surface visual design.  \"Helpfully,\" the numbers that could be placed in a small table are scattered near the map adornments."
   ]
  },
  {
   "cell_type": "markdown",
   "metadata": {
    "id": "D0V-MSYJb0a8"
   },
   "source": [
    "![Top exporters](img/illustration_acta_publica_ed_207_-_top_exporters_2017_edited.jpg)"
   ]
  },
  {
   "cell_type": "markdown",
   "metadata": {
    "id": "FpplEId-b0a8"
   },
   "source": [
    "---\n",
    "### Misuse of pseudo-3D\n",
    "\n",
    "At times you will be tempted to add 3-D \"perspective\" to charts to attempt to capture an additional dimension of data.  There are rare cases where this is genuinely useful, but most of the time it simply obscures some data while also distorting judgements about comparative quantities.\n",
    "\n",
    "We humans are not *all that good* at adjusting for the the effect of perspective in quantitative judgements.  How high is that tall bar near the front (the USA)? What is going on in the visually obscured bars (even with some alpha transparency)? It is just hard to tell!"
   ]
  },
  {
   "cell_type": "code",
   "execution_count": null,
   "metadata": {
    "id": "oZE4EB4zb0a9"
   },
   "outputs": [],
   "source": [
    "from mpl_toolkits.mplot3d import Axes3D\n",
    "\n",
    "fig = plt.figure(figsize=(12, 6))\n",
    "ax = fig.add_subplot(111, projection='3d')\n",
    "\n",
    "spend = \"Spending (USD x 1e8)\"\n",
    "gdp = \"GDP %\"\n",
    "df = df.sort_values(gdp, ascending=False)\n",
    "\n",
    "for i in range(0, 15, 5):\n",
    "    for j in range(0, 5):\n",
    "        x = 0.9 - j/5\n",
    "        y = 0.1 + i/15\n",
    "        country = df.index[i+j]\n",
    "        amount = df.loc[country, spend]\n",
    "        percent = df.loc[country, gdp]\n",
    "        ax.bar3d(x, y, 0, 0.15, 0.2, amount, color=cmap(percent/10), alpha=0.7)\n",
    "\n",
    "cbar = fig.colorbar(cm.ScalarMappable(cmap=cmap), ax=ax, shrink=0.75)\n",
    "cbar.set_label(\"GDP %\")\n",
    "\n",
    "ax.xaxis.set_ticklabels([])\n",
    "ax.yaxis.set_ticklabels([])\n",
    "ax.set_title('Division of military expenditures among top 15 nations');\n",
    "plt.show()"
   ]
  },
  {
   "cell_type": "markdown",
   "metadata": {
    "id": "mIAQcnU_b0a-"
   },
   "source": [
    "<h2 style=\"font-weight: bold;\">\n",
    "    Good graphs\n",
    "</h2>\n",
    "\n",
    "![orange-divider](https://user-images.githubusercontent.com/7065401/98619088-44ab6000-22e1-11eb-8f6d-5532e68ab274.png)\n",
    "\n",
    "Often a good way of presenting small data is with bar charts.  The human eye can judge relative lengths better than areas, and very strongly better than colors or shapes.  In terms of visual judgements, humans can judge accurately in roughly this order of features ([an excellent summary here](https://socviz.co/lookatdata.html)):"
   ]
  },
  {
   "cell_type": "markdown",
   "metadata": {
    "id": "PL6z93gGb0a-"
   },
   "source": [
    "* Position on a common scale (e.g. bar charts)\n",
    "* Position on unaligned scales (e.g. stacked bars)\n",
    "* Length\n",
    "* Tilt or angle\n",
    "* 2D area (e.g. sized circles; but irregular shapes are worse)\n",
    "* Color hue\n",
    "* 3D volume\n",
    "* Curvature and shape distinctions\n",
    "* Color luminance\n",
    "* Color saturation"
   ]
  },
  {
   "cell_type": "markdown",
   "metadata": {
    "id": "Gu17Xaixb0a_"
   },
   "source": [
    "Taking those perceptual cues, choosing bar charts to represent the two quantities per nation category seems like a good choice."
   ]
  },
  {
   "cell_type": "code",
   "execution_count": null,
   "metadata": {
    "id": "eO3zAHZ_b0a_"
   },
   "outputs": [],
   "source": [
    "df = df.sort_values(\"GDP %\")\n",
    "fig, ax1 = plt.subplots(figsize=(8, 5))\n",
    "spending = df[\"Spending (USD x 1e8)\"]\n",
    "gdp = df[\"GDP %\"]\n",
    "\n",
    "ax1.set_xlabel('Country')\n",
    "ax1.set_ylabel('Spending (USD billions)')\n",
    "ax1.bar(df.index, spending)\n",
    "plt.xticks(rotation=60)\n",
    "\n",
    "ax2 = ax1.twinx()  # a second axes that shares the same x-axis\n",
    "ax2.set_ylabel(\"GDP percentage\")  # already handled the x-label\n",
    "ax2.plot(df.index, gdp, color=\"red\", marker='o', label=\"GDP %\")\n",
    "ax2.legend()\n",
    "\n",
    "ax1.set_title('Division of military expenditures among top 15 nations')\n",
    "\n",
    "fig.tight_layout()  # otherwise the right y-label is slightly clipped"
   ]
  },
  {
   "cell_type": "markdown",
   "metadata": {
    "id": "vGQDDgHqb0a_"
   },
   "source": [
    "This final design intentionally lacks any great visual \"pizzaz,\" but it makes all the data from the two trends easy to identify and compare."
   ]
  },
  {
   "cell_type": "markdown",
   "metadata": {
    "id": "OhPiIxUDb0a_"
   },
   "source": [
    "<h2 style=\"font-weight: bold;\">\n",
    "    Appropriate Scaling\n",
    "</h2>\n",
    "\n",
    "![orange-divider](https://user-images.githubusercontent.com/7065401/98619088-44ab6000-22e1-11eb-8f6d-5532e68ab274.png)\n",
    "\n",
    "One common distortion in graphs that are otherwise well designed is very common in media and popular use.  Selecting particular ranges and scales for data often strongly affects viewer's perception of it. "
   ]
  },
  {
   "cell_type": "markdown",
   "metadata": {
    "id": "XLb5a5jfb0bA"
   },
   "source": [
    "In our small dataset about military spending, we can illustrate this point.  The GDP percentage spent on military has a \"natural\" base of zero, in the sense that it cannot be less than that, but can also realistically be close to that.  But understanding the specific domain is essential to making the right choice."
   ]
  },
  {
   "cell_type": "markdown",
   "metadata": {
    "id": "tpLczSsub0bA"
   },
   "source": [
    "If we exclude Saudi Arabia, Russia, and Japan, these following charts are both \"true\" yet tell a different story: "
   ]
  },
  {
   "cell_type": "code",
   "execution_count": null,
   "metadata": {
    "id": "byQAHddSb0bA"
   },
   "outputs": [],
   "source": [
    "rates = df['GDP %']\n",
    "rates = rates[(rates > 1) & (rates < 3.5)]\n",
    "\n",
    "fig, (ax1, ax2) = plt.subplots(nrows=2, figsize=(8, 5), sharex=True)\n",
    "ax1.fill_between(rates.index, 0.0, rates)\n",
    "ax2.fill_between(rates.index, 1.15, rates)\n",
    "ax1.yaxis.grid(True)\n",
    "ax2.yaxis.grid(True)\n",
    "ax1.set_title(\"Military GDP percentage (zero default)\")\n",
    "ax2.set_title(\"Military GDP percentage (minimum default)\")\n",
    "plt.xticks(rotation=60)\n",
    "fig.tight_layout()  "
   ]
  },
  {
   "cell_type": "markdown",
   "metadata": {
    "id": "KNgcsCaVb0bB"
   },
   "source": [
    "Let us look at another example.  This is data from [The World Bank](https://data.worldbank.org/indicator/SP.DYN.LE00.IN?locations=EU) on life expectancy.  There is nothing numerically impossible about it approaching zero (albeit perhaps macabre to say), but we still tend to think of a \"natural\" level that is signficantly higher.  Let us make two additional similar graphs.  For what it's worth, the World Bank themselves present this with a \"zero\" of about 68 years for the EU."
   ]
  },
  {
   "cell_type": "code",
   "execution_count": null,
   "metadata": {
    "id": "Ezi_oLrZb0bB"
   },
   "outputs": [],
   "source": [
    "life = pd.read_csv('data/API_SP.DYN.LE00.IN_DS2_en_csv_v2_656890.csv', \n",
    "                   skiprows=3, index_col='Country Name')\n",
    "iran = life.loc['Iran, Islamic Rep.'].T.iloc[3:38].dropna()"
   ]
  },
  {
   "cell_type": "markdown",
   "metadata": {
    "id": "6yHB0Wx4b0bC"
   },
   "source": [
    "Again we have two graphs, both equally true and describing the same data.  But in one story we see a slow but generally consistent improvement.  In the other we prominently see the tragic years starting from the Islamic Revolution through the Iraq-Iran War.  Neither of these narratives is *wrong*, but they are decidely different."
   ]
  },
  {
   "cell_type": "code",
   "execution_count": null,
   "metadata": {
    "id": "v8zuRICJb0bC"
   },
   "outputs": [],
   "source": [
    "fig, (ax1, ax2) = plt.subplots(ncols=2, figsize=(9, 3), sharex=True)\n",
    "ax1.plot(iran)\n",
    "ax2.plot(iran)\n",
    "ax1.set_ylim(bottom=0)\n",
    "ax1.set_title(\"Life Expectancy in Iran (zero default)\")\n",
    "ax2.set_title(\"Life Expectancy in Iran (minimum default)\")\n",
    "ax1.xaxis.set_major_locator(plt.MaxNLocator(5))\n",
    "ax2.xaxis.set_major_locator(plt.MaxNLocator(5))\n",
    "fig.tight_layout()  "
   ]
  },
  {
   "cell_type": "markdown",
   "metadata": {},
   "source": [
    "<h2 style=\"font-weight: bold;\">\n",
    "    Incompatible quantities\n",
    "</h2>\n",
    "\n",
    "![orange-divider](https://user-images.githubusercontent.com/7065401/98619088-44ab6000-22e1-11eb-8f6d-5532e68ab274.png)\n",
    "\n",
    "Alarmingly frequently, you will see plots where quantities in unrelated units are presented in a manner that compares them visually.  The documentation for Pandas uses exactly this invented example, without making it clear why it is harmful.  Unlike with the GDP percentage and total dollars of military spending of counrtries above, numerically the speed in kph and lifespan in years are of the same order of magnitude, and superficially similar thereby.\n",
    "\n",
    "A stacked bar chart could make a nonsensical choice to aggregate these quantities per category.  Although fanciful here, this kind of error occurs in published material frequently."
   ]
  },
  {
   "cell_type": "code",
   "execution_count": null,
   "metadata": {},
   "outputs": [],
   "source": [
    "animals = pd.read_csv('data/animals.csv', index_col=0)\n",
    "animals.plot.bar(stacked=True, color=['darkcyan', 'lightblue']);"
   ]
  },
  {
   "cell_type": "markdown",
   "metadata": {},
   "source": [
    "One fix to this error is to use multiple plots with aligned category labels."
   ]
  },
  {
   "cell_type": "code",
   "execution_count": null,
   "metadata": {},
   "outputs": [],
   "source": [
    "animals.plot.bar(subplots=True, color=['darkcyan', 'lightblue']);"
   ]
  },
  {
   "cell_type": "markdown",
   "metadata": {
    "id": "dIbvfzXQb0bC"
   },
   "source": [
    "<div style=\"width: 100%; height: 200px; background-color: #ef7d22; text-align: center; padding-top: 20px; margin-bottom: 40px;\">\n",
    "<br><br>\n",
    "\n",
    "<h1 style=\"color: white; font-weight: bold;\">\n",
    "    Exercises\n",
    "</h1>\n",
    "\n",
    "<br><br> \n",
    "</div>\n",
    "\n",
    "\n",
    "Although we have seen a few examples of Matplotlib in action to generate the above graphs, we have not provided any general explanation and instruction on it yet in this module.  For these exercises, try to think about the following datasets and simply make judgements about the **desirable** features of a visualization.\n",
    "\n",
    "Working with pencil and paper to make approximations is a great way to address this.  They need not be entirely accurate, but you should be able to capture the general \"shape\" and technique of the graph you will later learn to produce at high quality."
   ]
  },
  {
   "cell_type": "markdown",
   "metadata": {
    "id": "Qi01hO07b0bD"
   },
   "source": [
    "<h2 style=\"font-weight: bold;\">\n",
    "    Population trends\n",
    "</h2>\n",
    "\n",
    "![orange-divider](https://user-images.githubusercontent.com/7065401/98619088-44ab6000-22e1-11eb-8f6d-5532e68ab274.png)\n",
    "\n",
    "Borrowed from a [Wikipedia article](https://en.wikipedia.org/wiki/World_population_estimates), below are some data for past and projected population of different regions of the world. Our feeling is that some of these estimates are suspect, but without going into evidentiary details, how would you create one or more effective visualizations to represent this data?"
   ]
  },
  {
   "cell_type": "code",
   "execution_count": null,
   "metadata": {
    "id": "rUBkXw5Kb0bD"
   },
   "outputs": [],
   "source": [
    "population = pd.read_csv('data/population.csv', index_col='Region')\n",
    "population"
   ]
  },
  {
   "cell_type": "markdown",
   "metadata": {
    "id": "qbZySVb6b0bD"
   },
   "source": [
    "What if you had considerably more data of this kind to work with? For example, if the regions were broken into roughly 250 units, such as the current number of nation states, how would that change your visualizations?  "
   ]
  },
  {
   "cell_type": "markdown",
   "metadata": {
    "id": "aScyw5QEb0bD"
   },
   "source": [
    "What if the data had many more dates within it? For example, what if it went back to 10,000 BCE (some estimates go back that far or further)? What if there were estimates for every decade of the time interval, and regularly spaced?"
   ]
  },
  {
   "cell_type": "markdown",
   "metadata": {
    "id": "4f9Ede1-b0bD"
   },
   "source": [
    "Moreover, what special concerns do you have with information visualization given the very uneven spacing of the dates with estimates in the current set?"
   ]
  },
  {
   "cell_type": "markdown",
   "metadata": {
    "id": "KW4cvR9eb0bD"
   },
   "source": [
    "<h2 style=\"font-weight: bold;\">\n",
    "    Weather data\n",
    "</h2>\n",
    "\n",
    "![orange-divider](https://user-images.githubusercontent.com/7065401/98619088-44ab6000-22e1-11eb-8f6d-5532e68ab274.png)\n",
    "\n",
    "We looked at temperature and related data from a number of weather stations collected by NOAA in earlier modules.  The small subset we did some analyses of only covered a fraction of the weather stations observed (1253, which is less than 20% of all those collected in 2019), and only for part of 2019.  The complete data NOAA provides goes back well over a century (although presumably most weather stations do not have continuity for that entire period)."
   ]
  },
  {
   "cell_type": "code",
   "execution_count": null,
   "metadata": {
    "id": "CP2yh3Jqb0bE"
   },
   "outputs": [],
   "source": [
    "url = (\"data/NOAA-2019-partial.csv.gz\")\n",
    "temperatures = pd.read_csv(url)\n",
    "temperatures['DATE'] = pd.to_datetime(temperatures.DATE, format=\"%Y-%m-%d\")\n",
    "temperatures"
   ]
  },
  {
   "cell_type": "markdown",
   "metadata": {
    "id": "H-ZUFoWwb0bE"
   },
   "source": [
    "Think about two issues.  What would be effective visualizations for just this fraction of a year and northern latitudes? \n",
    "\n",
    "This limited set is still 425k rows.  Think about only the temperature features, which include mean, min, and max, on a daily basis.  Of course, these are likely to be correlated with date, latitude, altitude, and perhaps longitude as well."
   ]
  },
  {
   "cell_type": "markdown",
   "metadata": {
    "id": "74ZGGV0hb0bE"
   },
   "source": [
    "After considering good visualizations for the data we have played with, how would you extend or substitute these visualizations with ones spanning many years? The larger set would *both* increase the general size of the dataset, but also introduce expected annual cyclicities that we do not see in less than one year of data."
   ]
  },
  {
   "cell_type": "markdown",
   "metadata": {},
   "source": [
    "<div style=\"width: 100%; height: 400px; background-color: #222; text-align: center; padding-top: 120px;\">\n",
    "<br><br>\n",
    "\n",
    "<h1 style=\"color: white; font-weight: bold;\">\n",
    "    Review and questions\n",
    "</h1>\n",
    "\n",
    "<br><br> \n",
    "</div>"
   ]
  },
  {
   "cell_type": "markdown",
   "metadata": {},
   "source": [
    "---\n",
    "<div style=\"position: relative; text-align: right;\">\n",
    "<img src=\"https://user-images.githubusercontent.com/7065401/98614301-dcf01780-22d6-11eb-9c8f-65ebfceac6f6.png\" style=\"width: 130px; display: inline-block;\"></img>\n",
    "\n",
    "<img src=\"https://user-images.githubusercontent.com/7065401/98864025-08deda80-2448-11eb-9600-22aa17884cdf.png\" style=\"height: 100%; max-height: inherit; position: absolute; top: 20%; left: 0px;\"></img>\n",
    "<br>\n",
    "\n",
    "<h2 style=\"font-weight: bold;\">\n",
    "    David Mertz, Ph.D.\n",
    "</h2>\n",
    "\n",
    "<h3 style=\"color: #ef7d22; margin-top: 0.8em\">\n",
    "    Data Scientist\n",
    "</h3>\n",
    "<hr>\n",
    "<br><br>\n",
    "\n",
    "<p style=\"font-size: 80%; text-align: right; margin: 10px 0px;\">\n",
    "    david.mertz@gmail.com\n",
    "</p>\n",
    "<p style=\"font-size: 80%; text-align: right; margin: 10px 0px;\">\n",
    "    linkedin.com/in/dmertz/\n",
    "</p>\n",
    "\n",
    "</div>\n",
    "\n",
    "<br><br><br>"
   ]
  }
 ],
 "metadata": {
  "colab": {
   "collapsed_sections": [],
   "name": "The Ethics of Visualization.ipynb",
   "provenance": []
  },
  "kernelspec": {
   "display_name": "Python 3",
   "language": "python",
   "name": "python3"
  },
  "language_info": {
   "codemirror_mode": {
    "name": "ipython",
    "version": 3
   },
   "file_extension": ".py",
   "mimetype": "text/x-python",
   "name": "python",
   "nbconvert_exporter": "python",
   "pygments_lexer": "ipython3",
   "version": "3.9.2"
  }
 },
 "nbformat": 4,
 "nbformat_minor": 4
}
