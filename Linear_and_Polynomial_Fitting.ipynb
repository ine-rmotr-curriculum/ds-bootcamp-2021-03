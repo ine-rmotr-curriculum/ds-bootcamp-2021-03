{
 "cells": [
  {
   "cell_type": "markdown",
   "metadata": {},
   "source": [
    "![ine-divider](https://user-images.githubusercontent.com/7065401/92672068-398e8080-f2ee-11ea-82d6-ad53f7feb5c0.png)\n",
    "<hr>\n",
    "\n",
    "# Basic curve fitting as predictive regression\n",
    "\n",
    "A simple approach to predictive modeling is to fit data against a polynomial. In the simplest case, an order one polynomial is called \"linear regression.\"\n",
    "\n",
    "![orange-divider](https://user-images.githubusercontent.com/7065401/92672455-187a5f80-f2ef-11ea-890c-40be9474f7b7.png)"
   ]
  },
  {
   "cell_type": "markdown",
   "metadata": {},
   "source": [
    "Let us start out by importing a variety of capabilities we will use, largely from scikit-learn."
   ]
  },
  {
   "cell_type": "code",
   "execution_count": null,
   "metadata": {},
   "outputs": [],
   "source": [
    "import pandas as pd\n",
    "import matplotlib.pyplot as plt\n",
    "from sklearn.linear_model import LinearRegression\n",
    "from sklearn.preprocessing import PolynomialFeatures\n",
    "import seaborn as sns\n",
    "sns.set_theme()"
   ]
  },
  {
   "cell_type": "markdown",
   "metadata": {},
   "source": [
    "Let us look at some data for housing in King County, Washington (USA)."
   ]
  },
  {
   "cell_type": "code",
   "execution_count": null,
   "metadata": {},
   "outputs": [],
   "source": [
    "df = pd.read_csv('data/kc_house_data.csv')\n",
    "df.head()"
   ]
  },
  {
   "cell_type": "markdown",
   "metadata": {},
   "source": [
    "For an illustration of polynomials, let us determine what single feature corresponds most strongly with price."
   ]
  },
  {
   "cell_type": "code",
   "execution_count": null,
   "metadata": {},
   "outputs": [],
   "source": [
    "df.corr().loc['price'].abs().sort_values(ascending=False).head(8)"
   ]
  },
  {
   "cell_type": "markdown",
   "metadata": {},
   "source": [
    "This is a nice starting point for an example."
   ]
  },
  {
   "cell_type": "code",
   "execution_count": null,
   "metadata": {},
   "outputs": [],
   "source": [
    "sqft = df.loc[:,['sqft_living', 'price']].sort_values('sqft_living')\n",
    "sqft"
   ]
  },
  {
   "cell_type": "markdown",
   "metadata": {},
   "source": [
    "## Plotting a feature\n",
    "\n",
    "We can plot the relationship between the \"top feature\" and the target.  \n",
    "\n",
    "Note that we could do this just in Pandas, but we want to add more in a moment, which reaches Pandas limits.  E.g. `top_feature.set_index('sqft_living').plot()`"
   ]
  },
  {
   "cell_type": "code",
   "execution_count": null,
   "metadata": {},
   "outputs": [],
   "source": [
    "fig, ax = plt.subplots(figsize=(15, 4.5))\n",
    "ax.plot(sqft.sqft_living, sqft.price, \n",
    "        color='cornflowerblue', linewidth=0.5)\n",
    "ax.set_xlabel(\"Square Feet Living Area\")\n",
    "ax.set_ylabel(\"Price\");"
   ]
  },
  {
   "cell_type": "markdown",
   "metadata": {},
   "source": [
    "Let us consider some polynomials."
   ]
  },
  {
   "cell_type": "code",
   "execution_count": null,
   "metadata": {},
   "outputs": [],
   "source": [
    "# Ground truth first\n",
    "fig, ax = plt.subplots(figsize=(15, 4.5))\n",
    "ax.plot(sqft.sqft_living, sqft.price, \n",
    "         color='cornflowerblue', \n",
    "         linewidth=0.5, alpha=0.5,\n",
    "         label=\"ground truth\")\n",
    "#ax.set_xscale('log')\n",
    "ax.set_xlabel(\"Square Feet Living Area\")\n",
    "ax.set_ylabel(\"Price\")\n",
    "ax.set_title(\"Modeled relationship of living area to price\")\n",
    "\n",
    "for degree in range(6):\n",
    "    X = PolynomialFeatures(degree).fit_transform(sqft[['sqft_living']])\n",
    "    model = LinearRegression()\n",
    "    model.fit(X, sqft.price)\n",
    "    y_predict = model.predict(X)\n",
    "    ax.plot(sqft.sqft_living, y_predict, linewidth=2, label=f\"degree {degree}\")\n",
    "    \n",
    "ax.legend(loc='upper left');"
   ]
  },
  {
   "cell_type": "markdown",
   "metadata": {},
   "source": [
    "## High dimensional linear regression\n",
    "\n",
    "When we move to more dimensions, and using more features, we usually get more predictive power."
   ]
  },
  {
   "cell_type": "code",
   "execution_count": null,
   "metadata": {},
   "outputs": [],
   "source": [
    "X = df.drop(columns=['id', 'zipcode', 'date',         # Clearly non-numeric\n",
    "                     'lat', 'long', 'yr_renovated',   # Lat/lon \"random\"; yr_renovated often zero\n",
    "                     'sqft_living15', 'sqft_lot15',   # Not clear distinction from base features\n",
    "                     'price'])                        # Price HAS TO be excluded as target\n",
    "y = df.price\n",
    "model = LinearRegression()\n",
    "model.fit(X, y)\n",
    "model.score(X, y)"
   ]
  },
  {
   "cell_type": "markdown",
   "metadata": {},
   "source": [
    "Including feature combinations is equivalent to fiting a high-dimensional polynomial.  This can often improve prediction further."
   ]
  },
  {
   "cell_type": "code",
   "execution_count": null,
   "metadata": {},
   "outputs": [],
   "source": [
    "X_poly = PolynomialFeatures(3).fit_transform(X)\n",
    "model = LinearRegression().fit(X_poly, y)\n",
    "model.score(X_poly, y)"
   ]
  },
  {
   "cell_type": "markdown",
   "metadata": {},
   "source": [
    "## Exercise\n",
    "\n",
    "* Determine the model score for polynomial fits using only the top feature (including the linear fit).\n",
    "* Determine the model score for polynomials using the top two or three features."
   ]
  }
 ],
 "metadata": {
  "kernelspec": {
   "display_name": "Python 3",
   "language": "python",
   "name": "python3"
  },
  "language_info": {
   "codemirror_mode": {
    "name": "ipython",
    "version": 3
   },
   "file_extension": ".py",
   "mimetype": "text/x-python",
   "name": "python",
   "nbconvert_exporter": "python",
   "pygments_lexer": "ipython3",
   "version": "3.9.1"
  }
 },
 "nbformat": 4,
 "nbformat_minor": 4
}
