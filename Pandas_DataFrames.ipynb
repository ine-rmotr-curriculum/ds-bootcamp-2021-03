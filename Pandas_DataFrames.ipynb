{
 "cells": [
  {
   "cell_type": "markdown",
   "id": "stainless-liberal",
   "metadata": {},
   "source": [
    "![ine-divider](https://user-images.githubusercontent.com/7065401/92672068-398e8080-f2ee-11ea-82d6-ad53f7feb5c0.png)\n",
    "<hr>\n",
    "\n",
    "# Understanding Pandas DataFrames\n",
    "<img src=\"https://user-images.githubusercontent.com/7065401/75165824-badf4680-5701-11ea-9c5b-5475b0a33abf.png\" style=\"width:200px; float: right; margin: 0 40px 40px 40px;\"/>\n",
    "\n",
    "The Pandas (Panel Data) Python library is a very powerful tool for data manipulation and analysis.  We will talk about it throughout several lessons of this bootcamp, and even assume familiarity with Pandas in later lessons.\n",
    "\n",
    "![orange-divider](https://user-images.githubusercontent.com/7065401/92672455-187a5f80-f2ef-11ea-890c-40be9474f7b7.png)"
   ]
  },
  {
   "cell_type": "markdown",
   "id": "specialized-aging",
   "metadata": {},
   "source": [
    "The data objects in Pandas you will work with most are `DataFrame`s.  As we mentioned in the last lesson, a DataFrame is, in essence, a number of Series held in a common object.  However, by collecting serveral Series together, we get far more powerful and versatile capabilities than merely working with them separately.\n",
    "\n",
    "At the start, we can import Pandas, by convention it is usually given the two-letter name `pd` within Python programs.  We also import the library NumPy, using the conventional short name `np`.  This bootcamp will not discuss NumPy specifically, but Pandas' Series are built on top of NumPy `ndarrays`, and occasionally we want to use capabilities of their underlying arrrays."
   ]
  },
  {
   "cell_type": "code",
   "execution_count": null,
   "id": "great-decade",
   "metadata": {},
   "outputs": [],
   "source": [
    "# Import the pandas package under the name pd\n",
    "import pandas as pd\n",
    "\n",
    "# Print the pandas version and the configuration\n",
    "print(pd.__version__)"
   ]
  },
  {
   "cell_type": "markdown",
   "id": "liberal-respect",
   "metadata": {},
   "source": [
    "We continue to analyze G7 countries for these DataFrame examples. A DataFrame looks like a table (this data is also in a spreadsheet [at this link](https://docs.google.com/spreadsheets/d/1IlorV2-Oh9Da1JAZ7weVw86PQrQydSMp-ydVMH135iI/edit?usp=sharing)):\n",
    "\n",
    "| Country | Population |      GDP |  Area   |   HDI | Continent   \n",
    "|--------:|-----------:|---------:|--------:|:------|--------------\n",
    "| Canada  |     35.467 |  1785387 | 9984670 | 0.913 | America\n",
    "| France  |     63.951 |  2833687 |  640679 | 0.888 | Europe\n",
    "| Germany |     80.94  |  3874437 |  357114 | 0.916 | Europe\n",
    "| Italy   |     60.665 |  2167744 |  301336 | 0.873 | Europe\n",
    "| Japan   |    127.061 |  4602367 |  377930 | 0.891 | Asia\n",
    "| UK      |     64.511 |  2950039 |  242495 | 0.907 | Europe      |\n",
    "| US      |    318.523 | 17348075 | 9525067 | 0.915 | America     |\n",
    "\n",
    "Creating a `DataFrame`s manually can be tedious. 99% of the time you'll be pulling the data from a Database, a CSV file, from other data file formats, or from the web. However, you *can* create a DataFrame by specifying the columns and values (several forms of arguments to the constructor are available):"
   ]
  },
  {
   "cell_type": "code",
   "execution_count": null,
   "id": "monthly-produce",
   "metadata": {},
   "outputs": [],
   "source": [
    "df = pd.DataFrame({\n",
    "    'Population': [35.467, 63.951, 80.94 , 60.665, 127.061, 64.511, 318.523],\n",
    "    'GDP': [\n",
    "        1785387,\n",
    "        2833687,\n",
    "        3874437,\n",
    "        2167744,\n",
    "        4602367,\n",
    "        2950039,\n",
    "        17348075\n",
    "    ],\n",
    "    'Surface Area': [\n",
    "        9984670,\n",
    "        640679,\n",
    "        357114,\n",
    "        301336,\n",
    "        377930,\n",
    "        242495,\n",
    "        9525067\n",
    "    ],\n",
    "    'HDI': [\n",
    "        0.913,\n",
    "        0.888,\n",
    "        0.916,\n",
    "        0.873,\n",
    "        0.891,\n",
    "        0.907,\n",
    "        0.915\n",
    "    ],\n",
    "    'Continent': [\n",
    "        'America',\n",
    "        'Europe',\n",
    "        'Europe',\n",
    "        'Europe',\n",
    "        'Asia',\n",
    "        'Europe',\n",
    "        'America'\n",
    "    ]\n",
    "}, columns=['Population', 'GDP', 'Surface Area', 'HDI', 'Continent'])"
   ]
  },
  {
   "cell_type": "markdown",
   "id": "taken-excuse",
   "metadata": {},
   "source": [
    "_(The `columns` attribute is optional. I'm using it to keep the same order as in the picture above)_"
   ]
  },
  {
   "cell_type": "code",
   "execution_count": null,
   "id": "equal-rings",
   "metadata": {},
   "outputs": [],
   "source": [
    "df"
   ]
  },
  {
   "cell_type": "markdown",
   "id": "behind-soldier",
   "metadata": {},
   "source": [
    "`DataFrame`s also have indexes. As you can see in the \"table\" above, pandas has assigned a numeric and autoincremented index automatically to each *row* in our DataFrame. In our case, we know that each row represents a country (and which one), so we can set a more useful index:"
   ]
  },
  {
   "cell_type": "code",
   "execution_count": null,
   "id": "ambient-password",
   "metadata": {},
   "outputs": [],
   "source": [
    "df.index = [\n",
    "    'Canada',\n",
    "    'France',\n",
    "    'Germany',\n",
    "    'Italy',\n",
    "    'Japan',\n",
    "    'United Kingdom',\n",
    "    'United States']\n",
    "df.index.name = \"Country\"\n",
    "df"
   ]
  },
  {
   "cell_type": "markdown",
   "id": "raising-august",
   "metadata": {},
   "source": [
    "We can inquire about numerous aspects of a DataFrame."
   ]
  },
  {
   "cell_type": "code",
   "execution_count": null,
   "id": "judicial-family",
   "metadata": {},
   "outputs": [],
   "source": [
    "df.columns"
   ]
  },
  {
   "cell_type": "code",
   "execution_count": null,
   "id": "seeing-acrobat",
   "metadata": {},
   "outputs": [],
   "source": [
    "df.index"
   ]
  },
  {
   "cell_type": "code",
   "execution_count": null,
   "id": "vulnerable-series",
   "metadata": {},
   "outputs": [],
   "source": [
    "df.info()"
   ]
  },
  {
   "cell_type": "code",
   "execution_count": null,
   "id": "sexual-decline",
   "metadata": {},
   "outputs": [],
   "source": [
    "df.size"
   ]
  },
  {
   "cell_type": "code",
   "execution_count": null,
   "id": "welsh-compression",
   "metadata": {},
   "outputs": [],
   "source": [
    "df.shape"
   ]
  },
  {
   "cell_type": "markdown",
   "id": "adolescent-tissue",
   "metadata": {},
   "source": [
    "The `.describe()` method is very useful to provide summary statistical information about all the columns."
   ]
  },
  {
   "cell_type": "code",
   "execution_count": null,
   "id": "intended-gardening",
   "metadata": {},
   "outputs": [],
   "source": [
    "df.describe()"
   ]
  },
  {
   "cell_type": "markdown",
   "id": "becoming-mumbai",
   "metadata": {},
   "source": [
    "Each column, being a Series, has once consistent datatype; however, the various columns can have different datatypes from each other."
   ]
  },
  {
   "cell_type": "code",
   "execution_count": null,
   "id": "skilled-christmas",
   "metadata": {},
   "outputs": [],
   "source": [
    "df.dtypes"
   ]
  },
  {
   "cell_type": "markdown",
   "id": "intellectual-illness",
   "metadata": {},
   "source": [
    "The `.dtypes` attribute is itself a Pandas Series, which means it has a method called `.value_counts()` to summarize a histogram of values."
   ]
  },
  {
   "cell_type": "code",
   "execution_count": null,
   "id": "miniature-writer",
   "metadata": {},
   "outputs": [],
   "source": [
    "df.dtypes.value_counts()"
   ]
  },
  {
   "cell_type": "markdown",
   "id": "qualified-seafood",
   "metadata": {},
   "source": [
    "## Indexing, Selection and Slicing\n",
    "\n",
    "Individual columns in the DataFrame can be selected with regular indexing. Each column is a Series:"
   ]
  },
  {
   "cell_type": "code",
   "execution_count": null,
   "id": "bulgarian-tattoo",
   "metadata": {},
   "outputs": [],
   "source": [
    "df"
   ]
  },
  {
   "cell_type": "markdown",
   "id": "single-holmes",
   "metadata": {},
   "source": [
    "We have seen the `.loc` accessor already in discussing Series.  It also works for DataFrames.  But since the same index is associated with multiple columns, what is returned by specifying one index item is a row as a Series with its own indices corresponding to the columns."
   ]
  },
  {
   "cell_type": "code",
   "execution_count": null,
   "id": "needed-receiver",
   "metadata": {},
   "outputs": [],
   "source": [
    "df.loc['Canada']"
   ]
  },
  {
   "cell_type": "markdown",
   "id": "current-advertiser",
   "metadata": {},
   "source": [
    "The `.iloc` accessor is similar."
   ]
  },
  {
   "cell_type": "code",
   "execution_count": null,
   "id": "happy-black",
   "metadata": {},
   "outputs": [],
   "source": [
    "df.iloc[3]"
   ]
  },
  {
   "cell_type": "markdown",
   "id": "postal-buying",
   "metadata": {},
   "source": [
    "Whereas a Series was similar to a dictionary mapping **index** names to data values, a DataFrame is similar to a dictionary mapping **column** names to an entire row.  What is returned is, again, a Series, in this case a column."
   ]
  },
  {
   "cell_type": "code",
   "execution_count": null,
   "id": "addressed-humor",
   "metadata": {},
   "outputs": [],
   "source": [
    "df['Population']"
   ]
  },
  {
   "cell_type": "markdown",
   "id": "secondary-wallet",
   "metadata": {},
   "source": [
    "In many cases, you can access a column using \"dotted attribute\" notation.  This is nicer to look at, but will not work either where a column name is not a valid Python identifier (e.g. it contains spaces or punctuation) or where the name is the same as a reserved method or attribute."
   ]
  },
  {
   "cell_type": "code",
   "execution_count": null,
   "id": "occupied-burst",
   "metadata": {},
   "outputs": [],
   "source": [
    "df.GDP"
   ]
  },
  {
   "cell_type": "markdown",
   "id": "dressed-explorer",
   "metadata": {},
   "source": [
    "Some data scientists or developers avoid the attribute style because of the problems that sometimes occur (for example, you could not show \"Surface Area\" this way).  This bootcamp will sometimes use both styles."
   ]
  },
  {
   "cell_type": "markdown",
   "id": "medium-tiffany",
   "metadata": {},
   "source": [
    "Note that the `index` of the returned Series is the same as the DataFrame one. And its `name` is the name of the column. If you're working on DataFrame, and want to return a DataFrame even where a Series might result from an operation, use the `.to_frame()` method:"
   ]
  },
  {
   "cell_type": "code",
   "execution_count": null,
   "id": "further-christopher",
   "metadata": {},
   "outputs": [],
   "source": [
    "df.Population.to_frame()"
   ]
  },
  {
   "cell_type": "markdown",
   "id": "editorial-darkness",
   "metadata": {},
   "source": [
    "Multiple columns can also be selected in a manner similar to Series rows:"
   ]
  },
  {
   "cell_type": "code",
   "execution_count": null,
   "id": "transsexual-elder",
   "metadata": {},
   "outputs": [],
   "source": [
    "df[['Population', 'GDP']]"
   ]
  },
  {
   "cell_type": "markdown",
   "id": "champion-atmosphere",
   "metadata": {},
   "source": [
    "The result is another `DataFrame`. Slicing works differently from indexing a DatFrame with a list; it acts at \"row level\", and can be counter intuitive:"
   ]
  },
  {
   "cell_type": "code",
   "execution_count": null,
   "id": "black-outline",
   "metadata": {},
   "outputs": [],
   "source": [
    "df[1:3]"
   ]
  },
  {
   "cell_type": "markdown",
   "id": "placed-award",
   "metadata": {},
   "source": [
    "Because of the oddities of direct \"dictionary-style\" indexing, we **strongly recommend** you always use the `.loc` and `.iloc` accessors to clarify you intention.  These are extremely flexible and powerful."
   ]
  },
  {
   "cell_type": "code",
   "execution_count": null,
   "id": "actual-advance",
   "metadata": {},
   "outputs": [],
   "source": [
    "df.loc['Italy']"
   ]
  },
  {
   "cell_type": "code",
   "execution_count": null,
   "id": "turned-documentary",
   "metadata": {},
   "outputs": [],
   "source": [
    "df.loc['France': 'Italy']"
   ]
  },
  {
   "cell_type": "code",
   "execution_count": null,
   "id": "immune-sailing",
   "metadata": {},
   "outputs": [],
   "source": [
    "df.loc[['France', 'Italy']]"
   ]
  },
  {
   "cell_type": "markdown",
   "id": "sonic-graphic",
   "metadata": {},
   "source": [
    "Using `.iloc` is similar, merely with index positions.  You can equally use both individual numbers, slices, and lists of numbers (also predicates/Boolean arrays, which we see later)."
   ]
  },
  {
   "cell_type": "code",
   "execution_count": null,
   "id": "comic-translator",
   "metadata": {},
   "outputs": [],
   "source": [
    "df.iloc[[2, 4]]"
   ]
  },
  {
   "cell_type": "code",
   "execution_count": null,
   "id": "violent-toddler",
   "metadata": {},
   "outputs": [],
   "source": [
    "df.iloc[2:4]"
   ]
  },
  {
   "cell_type": "markdown",
   "id": "transparent-defensive",
   "metadata": {},
   "source": [
    "### More powerful indexing\n",
    "\n",
    "The real power on DataFrame indexing comes when we use  a second \"argument\".  This lets us choose both rows and columns of interest."
   ]
  },
  {
   "cell_type": "code",
   "execution_count": null,
   "id": "exciting-wedding",
   "metadata": {},
   "outputs": [],
   "source": [
    "df.loc['France': 'Italy', 'Population'].to_frame()"
   ]
  },
  {
   "cell_type": "code",
   "execution_count": null,
   "id": "helpful-talent",
   "metadata": {},
   "outputs": [],
   "source": [
    "df.loc['France': 'Italy', ['Population', 'GDP']]"
   ]
  },
  {
   "cell_type": "code",
   "execution_count": null,
   "id": "worse-bailey",
   "metadata": {},
   "outputs": [],
   "source": [
    "df.iloc[0]"
   ]
  },
  {
   "cell_type": "code",
   "execution_count": null,
   "id": "greenhouse-collect",
   "metadata": {},
   "outputs": [],
   "source": [
    "df.iloc[3:6, :3]"
   ]
  },
  {
   "cell_type": "code",
   "execution_count": null,
   "id": "simplified-friendly",
   "metadata": {},
   "outputs": [],
   "source": [
    "df.iloc[1:3, 3]"
   ]
  },
  {
   "cell_type": "code",
   "execution_count": null,
   "id": "frozen-adobe",
   "metadata": {},
   "outputs": [],
   "source": [
    "df.iloc[1:3, [0, 3]]"
   ]
  },
  {
   "cell_type": "code",
   "execution_count": null,
   "id": "close-basketball",
   "metadata": {},
   "outputs": [],
   "source": [
    "df.iloc[3, 1:5]"
   ]
  },
  {
   "cell_type": "markdown",
   "id": "simplified-trailer",
   "metadata": {},
   "source": [
    "You should have noticed a pattern here.  When there is only a single sequence of data values, Pandas returns a Series rather than a DataFrame (whether a row or a column depends on operation).  If two dimensions are needed, it returns a DataFrame.  We can manually \"promote\" a Series to a DataFrame using `.to_frame()`"
   ]
  },
  {
   "cell_type": "markdown",
   "id": "fancy-prison",
   "metadata": {},
   "source": [
    "## Conditional selection (boolean arrays)\n",
    "\n",
    "We have seen conditional selection applied to Series and it works in the same way for DataFrames. After all, a DataFrame is a collection of Series."
   ]
  },
  {
   "cell_type": "code",
   "execution_count": null,
   "id": "exposed-beast",
   "metadata": {},
   "outputs": [],
   "source": [
    "df"
   ]
  },
  {
   "cell_type": "code",
   "execution_count": null,
   "id": "loaded-method",
   "metadata": {},
   "outputs": [],
   "source": [
    "df['Population'] > 70"
   ]
  },
  {
   "cell_type": "code",
   "execution_count": null,
   "id": "mental-charter",
   "metadata": {},
   "outputs": [],
   "source": [
    "df.loc[df['Population'] > 70]"
   ]
  },
  {
   "cell_type": "markdown",
   "id": "collect-ladder",
   "metadata": {},
   "source": [
    "The boolean matching is done at Index level, so you can filter by any row, as long as it contains the right indexes. Column selection still works as expected:"
   ]
  },
  {
   "cell_type": "code",
   "execution_count": null,
   "id": "imposed-diameter",
   "metadata": {},
   "outputs": [],
   "source": [
    "df.loc[df['Population'] > 70, 'Population']"
   ]
  },
  {
   "cell_type": "code",
   "execution_count": null,
   "id": "incoming-separate",
   "metadata": {},
   "outputs": [],
   "source": [
    "df.loc[df['Population'] > 70, ['Population', 'GDP']]"
   ]
  },
  {
   "cell_type": "markdown",
   "id": "sustained-christianity",
   "metadata": {},
   "source": [
    "## Dropping stuff\n",
    "\n",
    "In contrast to selecting things, we can also *drop* things."
   ]
  },
  {
   "cell_type": "code",
   "execution_count": null,
   "id": "statewide-consultancy",
   "metadata": {},
   "outputs": [],
   "source": [
    "df.drop('Canada')"
   ]
  },
  {
   "cell_type": "code",
   "execution_count": null,
   "id": "ceramic-tissue",
   "metadata": {},
   "outputs": [],
   "source": [
    "df.drop(['Canada', 'Japan', 'United Kingdom'])"
   ]
  },
  {
   "cell_type": "code",
   "execution_count": null,
   "id": "liquid-introduction",
   "metadata": {},
   "outputs": [],
   "source": [
    "df.drop(columns=['Population', 'HDI'])"
   ]
  },
  {
   "cell_type": "code",
   "execution_count": null,
   "id": "comparative-lunch",
   "metadata": {},
   "outputs": [],
   "source": [
    "df.drop(['Italy', 'Canada'], axis=0)"
   ]
  },
  {
   "cell_type": "code",
   "execution_count": null,
   "id": "rough-radar",
   "metadata": {},
   "outputs": [],
   "source": [
    "df.drop(['Population', 'HDI'], axis=1)"
   ]
  },
  {
   "cell_type": "code",
   "execution_count": null,
   "id": "north-doctrine",
   "metadata": {},
   "outputs": [],
   "source": [
    "df.drop(['Population', 'HDI'], axis=1)"
   ]
  },
  {
   "cell_type": "code",
   "execution_count": null,
   "id": "imposed-technical",
   "metadata": {},
   "outputs": [],
   "source": [
    "df.drop(['Population', 'HDI'], axis='columns')"
   ]
  },
  {
   "cell_type": "code",
   "execution_count": null,
   "id": "prospective-tribute",
   "metadata": {},
   "outputs": [],
   "source": [
    "df.drop(['Canada', 'Germany'], axis='rows')"
   ]
  },
  {
   "cell_type": "markdown",
   "id": "empirical-individual",
   "metadata": {},
   "source": [
    "All these `drop` methods return a new `DataFrame`. If you'd like to modify it \"in place\", you can use the `inplace` attribute (there's an example below).  You are likely to see both the `inplace` modification and assigning back to the same variable name in code you read; it is a stylistic difference among different programmers."
   ]
  },
  {
   "cell_type": "markdown",
   "id": "brazilian-wildlife",
   "metadata": {},
   "source": [
    "## Operations"
   ]
  },
  {
   "cell_type": "code",
   "execution_count": null,
   "id": "romance-injection",
   "metadata": {},
   "outputs": [],
   "source": [
    "df[['Population', 'GDP']]"
   ]
  },
  {
   "cell_type": "markdown",
   "id": "prerequisite-alexander",
   "metadata": {},
   "source": [
    "I am not certain what year this data is from nor what the currency unit is.  But we are certainly measuring both population and GDP in **millions** of something (the US and Canadian dollars, the Euro, and the British Pound are all relatively close in value; within a power of two or so, again depending on date and year for specifics)."
   ]
  },
  {
   "cell_type": "code",
   "execution_count": null,
   "id": "changing-paper",
   "metadata": {},
   "outputs": [],
   "source": [
    "# Show the actual number rather than millions\n",
    "df[['Population', 'GDP']] * 1_000_000"
   ]
  },
  {
   "cell_type": "markdown",
   "id": "romance-treasure",
   "metadata": {},
   "source": [
    "### Broadcasting\n",
    "\n",
    "With Series, and just above with a DataFrame, we saw examples of \"broadcasting\" a scalar.  For example, we multiplied all the population numbers and all the GDP numbers by a million at the same time.  We can also *broadcast* a Series to a DataFrame, or one DataFrame to another.  This can be powerful, but can require some thought."
   ]
  },
  {
   "cell_type": "markdown",
   "id": "frank-dryer",
   "metadata": {},
   "source": [
    "As an example, if any of these countries came to have a trillion lower GDP (remember the DataFrame already stores millions) or an HDI (Human Development Index) that was lower by 0.3, that would be an economic and social crisis.  Let us see what numbers might meet that."
   ]
  },
  {
   "cell_type": "code",
   "execution_count": null,
   "id": "prepared-reunion",
   "metadata": {},
   "outputs": [],
   "source": [
    "crisis = pd.Series([-1_000_000, -0.3], index=['GDP', 'HDI'])\n",
    "crisis"
   ]
  },
  {
   "cell_type": "code",
   "execution_count": null,
   "id": "least-royal",
   "metadata": {},
   "outputs": [],
   "source": [
    "df[['GDP', 'HDI']]"
   ]
  },
  {
   "cell_type": "code",
   "execution_count": null,
   "id": "endless-petersburg",
   "metadata": {},
   "outputs": [],
   "source": [
    "df[['GDP', 'HDI']] + crisis"
   ]
  },
  {
   "cell_type": "markdown",
   "id": "taken-synthetic",
   "metadata": {},
   "source": [
    "## Modifying DataFrames\n",
    "\n",
    "You can add columns to a DataFrame, or replace the Series held in columns when working with DataFrames."
   ]
  },
  {
   "cell_type": "markdown",
   "id": "arbitrary-participation",
   "metadata": {},
   "source": [
    "### Adding a new column"
   ]
  },
  {
   "cell_type": "markdown",
   "id": "hawaiian-darwin",
   "metadata": {},
   "source": [
    "While this is a huge simplification of the languages spoken in various countries, let us stipulate that some (but not all) countries have just one predominant or official language.  By stipulation, pretend it is these:"
   ]
  },
  {
   "cell_type": "code",
   "execution_count": null,
   "id": "valuable-state",
   "metadata": {},
   "outputs": [],
   "source": [
    "langs = pd.Series(\n",
    "    ['French', 'German', 'Italian'],\n",
    "    index=['France', 'Germany', 'Italy'],\n",
    "    name='Language'\n",
    ")\n",
    "langs"
   ]
  },
  {
   "cell_type": "markdown",
   "id": "thermal-complexity",
   "metadata": {},
   "source": [
    "We can add a column, and it will default to being \"missing\" where we do not have a value available.  The special value *NaN* (not a number) is used to indicate these missing values."
   ]
  },
  {
   "cell_type": "code",
   "execution_count": null,
   "id": "legendary-ballot",
   "metadata": {},
   "outputs": [],
   "source": [
    "df['Language'] = langs\n",
    "df"
   ]
  },
  {
   "cell_type": "markdown",
   "id": "dynamic-ordinary",
   "metadata": {},
   "source": [
    "### Replacing values per column"
   ]
  },
  {
   "cell_type": "code",
   "execution_count": null,
   "id": "applicable-symphony",
   "metadata": {},
   "outputs": [],
   "source": [
    "df['Language'] = 'English'\n",
    "df"
   ]
  },
  {
   "cell_type": "markdown",
   "id": "checked-cowboy",
   "metadata": {},
   "source": [
    "Both of those versions are rather dramatically wrong, however, in terms of actual \"most common\" language.  We can use filtering to come up with something better."
   ]
  },
  {
   "cell_type": "code",
   "execution_count": null,
   "id": "relative-butterfly",
   "metadata": {},
   "outputs": [],
   "source": [
    "df['Language'] = langs\n",
    "df"
   ]
  },
  {
   "cell_type": "code",
   "execution_count": null,
   "id": "individual-restoration",
   "metadata": {},
   "outputs": [],
   "source": [
    "df.loc[df.Language.isnull(), 'Language'] = \"English\"\n",
    "df.loc['Japan', 'Language'] = \"Japanese\"\n",
    "df"
   ]
  },
  {
   "cell_type": "markdown",
   "id": "following-opposition",
   "metadata": {},
   "source": [
    "### Renaming Columns"
   ]
  },
  {
   "cell_type": "markdown",
   "id": "chief-logging",
   "metadata": {},
   "source": [
    "Pandas is pretty clever in ignoring the information that is not relevant within many of its commands.  We can rename both some columns and some index names, but in some cases the \"original\" value was not present to start with.  Pandas still \"does the right thing\" despite that deficit."
   ]
  },
  {
   "cell_type": "code",
   "execution_count": null,
   "id": "dominant-advancement",
   "metadata": {},
   "outputs": [],
   "source": [
    "df.rename(\n",
    "    columns={\n",
    "        'HDI': 'Human Development Index',\n",
    "        'Annual Popcorn Consumption': 'APC'}, \n",
    "    index={\n",
    "        'United States': 'USA',\n",
    "        'United Kingdom': 'UK',\n",
    "        'Argentina': 'AR'\n",
    "    })"
   ]
  },
  {
   "cell_type": "markdown",
   "id": "minute-blake",
   "metadata": {},
   "source": [
    "We can rename in a programmatic way.  For example, perhaps we wish to uppercase all the country names in the index:"
   ]
  },
  {
   "cell_type": "code",
   "execution_count": null,
   "id": "boolean-liechtenstein",
   "metadata": {},
   "outputs": [],
   "source": [
    "# Notice there is no inplace modification here\n",
    "df.rename(index=str.upper)"
   ]
  },
  {
   "cell_type": "markdown",
   "id": "ambient-terry",
   "metadata": {},
   "source": [
    "Or lowercase them."
   ]
  },
  {
   "cell_type": "code",
   "execution_count": null,
   "id": "moving-proof",
   "metadata": {},
   "outputs": [],
   "source": [
    "def lower(s):\n",
    "    return s.lower()\n",
    "\n",
    "df.rename(index=lower)"
   ]
  },
  {
   "cell_type": "markdown",
   "id": "gross-census",
   "metadata": {},
   "source": [
    "### Dropping columns"
   ]
  },
  {
   "cell_type": "code",
   "execution_count": null,
   "id": "catholic-maximum",
   "metadata": {},
   "outputs": [],
   "source": [
    "df.drop(columns='Language', inplace=True)\n",
    "df"
   ]
  },
  {
   "cell_type": "markdown",
   "id": "removed-kinase",
   "metadata": {},
   "source": [
    "### Adding values"
   ]
  },
  {
   "cell_type": "markdown",
   "id": "behavioral-heritage",
   "metadata": {},
   "source": [
    "Note that we add a row with only some column values indicated in the below. The rest get filled in with the \"missing\" sentinel, NaN."
   ]
  },
  {
   "cell_type": "code",
   "execution_count": null,
   "id": "prescribed-injury",
   "metadata": {},
   "outputs": [],
   "source": [
    "# Some rough guesses for an unknown year and currency \n",
    "df.append(\n",
    "    pd.Series({\n",
    "        'Population': 1400,\n",
    "        'GDP': 10_000_000\n",
    "    },\n",
    "    name='China'))"
   ]
  },
  {
   "cell_type": "markdown",
   "id": "oriental-legislation",
   "metadata": {},
   "source": [
    "Append returns a new DataFrame; it did not modify the existing one."
   ]
  },
  {
   "cell_type": "code",
   "execution_count": null,
   "id": "appreciated-mobile",
   "metadata": {},
   "outputs": [],
   "source": [
    "df"
   ]
  },
  {
   "cell_type": "markdown",
   "id": "compatible-vertical",
   "metadata": {},
   "source": [
    "You can directly set the new index and values to the `DataFrame`:"
   ]
  },
  {
   "cell_type": "code",
   "execution_count": null,
   "id": "stunning-bennett",
   "metadata": {},
   "outputs": [],
   "source": [
    "df.loc['China'] = pd.Series({'Population': 1_400, 'Continent': 'Asia'})\n",
    "df"
   ]
  },
  {
   "cell_type": "markdown",
   "id": "human-pressing",
   "metadata": {},
   "source": [
    "We can use `drop` to just remove a row by index:"
   ]
  },
  {
   "cell_type": "code",
   "execution_count": null,
   "id": "premier-platform",
   "metadata": {},
   "outputs": [],
   "source": [
    "df.drop('China', inplace=True)\n",
    "df"
   ]
  },
  {
   "cell_type": "markdown",
   "id": "subjective-hungary",
   "metadata": {},
   "source": [
    "### Changing the index"
   ]
  },
  {
   "cell_type": "code",
   "execution_count": null,
   "id": "constant-shore",
   "metadata": {},
   "outputs": [],
   "source": [
    "df.reset_index(inplace=True)\n",
    "df"
   ]
  },
  {
   "cell_type": "code",
   "execution_count": null,
   "id": "clean-equilibrium",
   "metadata": {},
   "outputs": [],
   "source": [
    "df.set_index('Population')"
   ]
  },
  {
   "cell_type": "code",
   "execution_count": null,
   "id": "dress-seller",
   "metadata": {},
   "outputs": [],
   "source": [
    "df = df.set_index('Country')\n",
    "df"
   ]
  },
  {
   "cell_type": "markdown",
   "id": "informal-incidence",
   "metadata": {},
   "source": [
    "## Creating columns from other columns\n",
    "\n",
    "Altering a DataFrame often involves combining different columns. For example, in our Countries analysis, we could try to calculate the \"GDP per capita\", which is just, `GDP / Population`."
   ]
  },
  {
   "cell_type": "code",
   "execution_count": null,
   "id": "featured-accommodation",
   "metadata": {},
   "outputs": [],
   "source": [
    "df[['Population', 'GDP']]"
   ]
  },
  {
   "cell_type": "markdown",
   "id": "numeric-carter",
   "metadata": {},
   "source": [
    "The regular pandas way of expressing that, is just dividing each series:"
   ]
  },
  {
   "cell_type": "code",
   "execution_count": null,
   "id": "precious-elements",
   "metadata": {},
   "outputs": [],
   "source": [
    "df.GDP / df.Population"
   ]
  },
  {
   "cell_type": "markdown",
   "id": "occupational-cherry",
   "metadata": {},
   "source": [
    "The result of that operation is just another series that you can add to the original `DataFrame`:"
   ]
  },
  {
   "cell_type": "code",
   "execution_count": null,
   "id": "herbal-accent",
   "metadata": {},
   "outputs": [],
   "source": [
    "df['GDP Per Capita'] = df['GDP'] / df['Population']\n",
    "df"
   ]
  },
  {
   "cell_type": "markdown",
   "id": "advisory-snake",
   "metadata": {},
   "source": [
    "## Statistical info\n",
    "\n",
    "You've already seen the `describe` method, which gives you a good \"summary\" of the `DataFrame`. Let's explore other methods in more detail:"
   ]
  },
  {
   "cell_type": "code",
   "execution_count": null,
   "id": "ideal-orbit",
   "metadata": {},
   "outputs": [],
   "source": [
    "df.head()"
   ]
  },
  {
   "cell_type": "code",
   "execution_count": null,
   "id": "clean-judgment",
   "metadata": {},
   "outputs": [],
   "source": [
    "df.describe()"
   ]
  },
  {
   "cell_type": "code",
   "execution_count": null,
   "id": "prepared-sight",
   "metadata": {},
   "outputs": [],
   "source": [
    "population = df['Population']"
   ]
  },
  {
   "cell_type": "code",
   "execution_count": null,
   "id": "early-truth",
   "metadata": {},
   "outputs": [],
   "source": [
    "population.min(), population.max()"
   ]
  },
  {
   "cell_type": "code",
   "execution_count": null,
   "id": "wrapped-observer",
   "metadata": {},
   "outputs": [],
   "source": [
    "population.sum()"
   ]
  },
  {
   "cell_type": "code",
   "execution_count": null,
   "id": "computational-brooklyn",
   "metadata": {},
   "outputs": [],
   "source": [
    "population.sum() / len(population)"
   ]
  },
  {
   "cell_type": "code",
   "execution_count": null,
   "id": "average-infrared",
   "metadata": {},
   "outputs": [],
   "source": [
    "population.mean()"
   ]
  },
  {
   "cell_type": "code",
   "execution_count": null,
   "id": "changed-southwest",
   "metadata": {},
   "outputs": [],
   "source": [
    "population.std()"
   ]
  },
  {
   "cell_type": "code",
   "execution_count": null,
   "id": "bizarre-orchestra",
   "metadata": {},
   "outputs": [],
   "source": [
    "population.median()"
   ]
  },
  {
   "cell_type": "code",
   "execution_count": null,
   "id": "structural-xerox",
   "metadata": {},
   "outputs": [],
   "source": [
    "population.describe()"
   ]
  },
  {
   "cell_type": "code",
   "execution_count": null,
   "id": "placed-windows",
   "metadata": {},
   "outputs": [],
   "source": [
    "population.quantile(.25)"
   ]
  },
  {
   "cell_type": "code",
   "execution_count": null,
   "id": "quiet-destination",
   "metadata": {},
   "outputs": [],
   "source": [
    "population.quantile([.2, .4, .6, .8, 1])"
   ]
  },
  {
   "cell_type": "markdown",
   "id": "collected-central",
   "metadata": {},
   "source": [
    "# Exercises\n",
    "\n",
    "![orange-divider](https://user-images.githubusercontent.com/7065401/92672455-187a5f80-f2ef-11ea-890c-40be9474f7b7.png)"
   ]
  },
  {
   "cell_type": "markdown",
   "id": "based-beginning",
   "metadata": {},
   "source": [
    "## DataFrame creation"
   ]
  },
  {
   "cell_type": "markdown",
   "id": "interstate-benefit",
   "metadata": {},
   "source": [
    "### Create an empty pandas DataFrame\n"
   ]
  },
  {
   "cell_type": "code",
   "execution_count": null,
   "id": "satisfied-cassette",
   "metadata": {},
   "outputs": [],
   "source": [
    "# your code goes here"
   ]
  },
  {
   "cell_type": "markdown",
   "id": "stable-sequence",
   "metadata": {},
   "source": [
    "### Create a `marvel_df` pandas DataFrame with the given marvel data"
   ]
  },
  {
   "cell_type": "markdown",
   "id": "secure-mixer",
   "metadata": {},
   "source": [
    "<img width=400 src=\"https://cdn.dribbble.com/users/4678/screenshots/1986600/avengers.png\"></img>"
   ]
  },
  {
   "cell_type": "code",
   "execution_count": null,
   "id": "ancient-filename",
   "metadata": {},
   "outputs": [],
   "source": [
    "marvel_data = [\n",
    "    ['Spider-Man', 'male', 1962],\n",
    "    ['Captain America', 'male', 1941],\n",
    "    ['Wolverine', 'male', 1974],\n",
    "    ['Iron Man', 'male', 1963],\n",
    "    ['Thor', 'male', 1963],\n",
    "    ['Thing', 'male', 1961],\n",
    "    ['Mister Fantastic', 'male', 1961],\n",
    "    ['Hulk', 'male', 1962],\n",
    "    ['Beast', 'male', 1963],\n",
    "    ['Invisible Woman', 'female', 1961],\n",
    "    ['Storm', 'female', 1975],\n",
    "    ['Namor', 'male', 1939],\n",
    "    ['Hawkeye', 'male', 1964],\n",
    "    ['Daredevil', 'male', 1964],\n",
    "    ['Doctor Strange', 'male', 1963],\n",
    "    ['Hank Pym', 'male', 1962],\n",
    "    ['Scarlet Witch', 'female', 1964],\n",
    "    ['Wasp', 'female', 1963],\n",
    "    ['Black Widow', 'female', 1964],\n",
    "    ['Vision', 'male', 1968]\n",
    "]"
   ]
  },
  {
   "cell_type": "code",
   "execution_count": null,
   "id": "regional-abortion",
   "metadata": {},
   "outputs": [],
   "source": [
    "# your code goes here\n",
    "marvel_df = pd.DataFrame()\n",
    "marvel_df"
   ]
  },
  {
   "cell_type": "markdown",
   "id": "still-international",
   "metadata": {},
   "source": [
    "### Add column names to the `marvel_df`"
   ]
  },
  {
   "cell_type": "code",
   "execution_count": null,
   "id": "bottom-simpson",
   "metadata": {},
   "outputs": [],
   "source": [
    "# your code goes here"
   ]
  },
  {
   "cell_type": "markdown",
   "id": "affected-implement",
   "metadata": {},
   "source": [
    "### Add index names to the `marvel_df` (use the character name as index)"
   ]
  },
  {
   "cell_type": "code",
   "execution_count": null,
   "id": "flush-combination",
   "metadata": {},
   "outputs": [],
   "source": [
    "# your code goes here"
   ]
  },
  {
   "cell_type": "markdown",
   "id": "crazy-entrepreneur",
   "metadata": {},
   "source": [
    "### Drop the name column as it's now the index"
   ]
  },
  {
   "cell_type": "code",
   "execution_count": null,
   "id": "treated-uncertainty",
   "metadata": {},
   "outputs": [],
   "source": [
    "# your code goes here"
   ]
  },
  {
   "cell_type": "markdown",
   "id": "ruled-pillow",
   "metadata": {},
   "source": [
    "### Drop 'Namor' and 'Hank Pym' rows"
   ]
  },
  {
   "cell_type": "code",
   "execution_count": null,
   "id": "abroad-enforcement",
   "metadata": {},
   "outputs": [],
   "source": [
    "# your code goes here"
   ]
  },
  {
   "cell_type": "markdown",
   "id": "coordinated-grass",
   "metadata": {},
   "source": [
    "## DataFrame selection, slicing and indexation"
   ]
  },
  {
   "cell_type": "markdown",
   "id": "subjective-immune",
   "metadata": {},
   "source": [
    "### Show the first 5 elements on `marvel_df`\n",
    " "
   ]
  },
  {
   "cell_type": "code",
   "execution_count": null,
   "id": "eleven-railway",
   "metadata": {},
   "outputs": [],
   "source": [
    "# your code goes here"
   ]
  },
  {
   "cell_type": "markdown",
   "id": "minor-wireless",
   "metadata": {},
   "source": [
    "### Show the last 5 elements on `marvel_df`"
   ]
  },
  {
   "cell_type": "code",
   "execution_count": null,
   "id": "coated-lodging",
   "metadata": {},
   "outputs": [],
   "source": [
    "# your code goes here"
   ]
  },
  {
   "cell_type": "markdown",
   "id": "affecting-bermuda",
   "metadata": {},
   "source": [
    "### Show the first 6 characters by order of first appearance"
   ]
  },
  {
   "cell_type": "code",
   "execution_count": null,
   "id": "informational-services",
   "metadata": {},
   "outputs": [],
   "source": [
    "# your code goes here"
   ]
  },
  {
   "cell_type": "markdown",
   "id": "friendly-brother",
   "metadata": {},
   "source": [
    "### Show just the sex of the first 5 elements on `marvel_df`"
   ]
  },
  {
   "cell_type": "code",
   "execution_count": null,
   "id": "promotional-suggestion",
   "metadata": {},
   "outputs": [],
   "source": [
    "# your code goes here"
   ]
  },
  {
   "cell_type": "markdown",
   "id": "renewable-survivor",
   "metadata": {},
   "source": [
    "### Show the first_appearance of all middle elements on `marvel_df` "
   ]
  },
  {
   "cell_type": "code",
   "execution_count": null,
   "id": "billion-youth",
   "metadata": {},
   "outputs": [],
   "source": [
    "# your code goes here"
   ]
  },
  {
   "cell_type": "markdown",
   "id": "entire-henry",
   "metadata": {},
   "source": [
    "### Show the first and last elements on `marvel_df`"
   ]
  },
  {
   "cell_type": "code",
   "execution_count": null,
   "id": "impaired-interim",
   "metadata": {},
   "outputs": [],
   "source": [
    "# your code goes here"
   ]
  },
  {
   "cell_type": "markdown",
   "id": "demographic-stuff",
   "metadata": {},
   "source": [
    "## DataFrame manipulation and operations"
   ]
  },
  {
   "cell_type": "markdown",
   "id": "turned-compound",
   "metadata": {},
   "source": [
    "### Modify the `first_appearance` of 'Vision' to year 1964"
   ]
  },
  {
   "cell_type": "code",
   "execution_count": null,
   "id": "constitutional-shadow",
   "metadata": {},
   "outputs": [],
   "source": [
    "# your code goes here"
   ]
  },
  {
   "cell_type": "markdown",
   "id": "higher-gentleman",
   "metadata": {},
   "source": [
    "### Add a new column to `marvel_df` called 'years_since' with the years since `first_appearance`\n"
   ]
  },
  {
   "cell_type": "code",
   "execution_count": null,
   "id": "reported-cleveland",
   "metadata": {},
   "outputs": [],
   "source": [
    "# your code goes here"
   ]
  },
  {
   "cell_type": "markdown",
   "id": "accepted-dependence",
   "metadata": {},
   "source": [
    "## DataFrame boolean arrays (also called masks)"
   ]
  },
  {
   "cell_type": "markdown",
   "id": "recent-evaluation",
   "metadata": {},
   "source": [
    "### Given the `marvel_df` pandas DataFrame, make a mask showing the female characters\n"
   ]
  },
  {
   "cell_type": "code",
   "execution_count": null,
   "id": "satisfied-villa",
   "metadata": {},
   "outputs": [],
   "source": [
    "# your code goes here"
   ]
  },
  {
   "cell_type": "markdown",
   "id": "english-obligation",
   "metadata": {},
   "source": [
    "### Given the `marvel_df` pandas DataFrame, get the male characters"
   ]
  },
  {
   "cell_type": "code",
   "execution_count": null,
   "id": "cardiovascular-sydney",
   "metadata": {},
   "outputs": [],
   "source": [
    "# your code goes here"
   ]
  },
  {
   "cell_type": "markdown",
   "id": "fatal-employment",
   "metadata": {},
   "source": [
    "### Given the `marvel_df` pandas DataFrame, get the characters with `first_appearance` after 1970"
   ]
  },
  {
   "cell_type": "code",
   "execution_count": null,
   "id": "equivalent-finance",
   "metadata": {},
   "outputs": [],
   "source": [
    "# your code goes here\n"
   ]
  },
  {
   "cell_type": "markdown",
   "id": "indie-harvest",
   "metadata": {},
   "source": [
    "### Given the `marvel_df` pandas DataFrame, get the female characters with `first_appearance` after 1970"
   ]
  },
  {
   "cell_type": "code",
   "execution_count": null,
   "id": "optimum-sympathy",
   "metadata": {},
   "outputs": [],
   "source": [
    "# your code goes here"
   ]
  },
  {
   "cell_type": "markdown",
   "id": "comprehensive-relative",
   "metadata": {},
   "source": [
    "## DataFrame summary statistics"
   ]
  },
  {
   "cell_type": "markdown",
   "id": "rough-poker",
   "metadata": {},
   "source": [
    "### Show basic statistics of `marvel_df`"
   ]
  },
  {
   "cell_type": "code",
   "execution_count": null,
   "id": "hungry-blond",
   "metadata": {},
   "outputs": [],
   "source": [
    "# your code goes here"
   ]
  },
  {
   "cell_type": "markdown",
   "id": "institutional-scroll",
   "metadata": {},
   "source": [
    "### Given the `marvel_df` pandas DataFrame, show the mean value of `first_appearance`"
   ]
  },
  {
   "cell_type": "code",
   "execution_count": null,
   "id": "adequate-surge",
   "metadata": {},
   "outputs": [],
   "source": [
    "# your code goes here"
   ]
  },
  {
   "cell_type": "markdown",
   "id": "israeli-shape",
   "metadata": {},
   "source": [
    "### Given the `marvel_df` pandas DataFrame, show the min value of `first_appearance`"
   ]
  },
  {
   "cell_type": "code",
   "execution_count": null,
   "id": "generic-administration",
   "metadata": {},
   "outputs": [],
   "source": [
    "# your code goes here"
   ]
  },
  {
   "cell_type": "markdown",
   "id": "auburn-forty",
   "metadata": {},
   "source": [
    "### Given the `marvel_df` pandas DataFrame, get the characters with the min value of `first_appearance`"
   ]
  },
  {
   "cell_type": "code",
   "execution_count": null,
   "id": "typical-slovakia",
   "metadata": {},
   "outputs": [],
   "source": [
    "# your code goes here"
   ]
  }
 ],
 "metadata": {
  "kernelspec": {
   "display_name": "Python 3",
   "language": "python",
   "name": "python3"
  },
  "language_info": {
   "codemirror_mode": {
    "name": "ipython",
    "version": 3
   },
   "file_extension": ".py",
   "mimetype": "text/x-python",
   "name": "python",
   "nbconvert_exporter": "python",
   "pygments_lexer": "ipython3",
   "version": "3.9.1"
  }
 },
 "nbformat": 4,
 "nbformat_minor": 5
}
